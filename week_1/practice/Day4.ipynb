{
 "cells": [
  {
   "cell_type": "code",
   "execution_count": 13,
   "metadata": {},
   "outputs": [],
   "source": [
    "def svdp(v1, v2):\n",
    "    result = 0\n",
    "    keys = set(list(v1.keys()) + list(v2.keys()))\n",
    "    \n",
    "    for k in keys:\n",
    "        try:\n",
    "            result += v1[k] * v2[k]\n",
    "        except KeyError:\n",
    "            continue\n",
    "    return result"
   ]
  },
  {
   "cell_type": "code",
   "execution_count": 13,
   "metadata": {},
   "outputs": [],
   "source": [
    "def svdp1(v1, v2):\n",
    "    result = 0\n",
    "    \n",
    "    for k in v1:\n",
    "        try:\n",
    "            result += v1[k] * v2[k]\n",
    "        except KeyError:\n",
    "            continue\n",
    "    return result"
   ]
  },
  {
   "cell_type": "code",
   "execution_count": 17,
   "metadata": {},
   "outputs": [],
   "source": [
    "a = {'a':5}\n",
    "b = {'a':3, 'b':2}\n",
    "c = {'c':5}\n",
    "d = {'a':2, 'b':1}\n",
    "e = {'a':5, 'b':4}\n",
    "f = {'a':-1, 'b':2}"
   ]
  },
  {
   "cell_type": "code",
   "execution_count": 18,
   "metadata": {},
   "outputs": [
    {
     "data": {
      "text/plain": [
       "15"
      ]
     },
     "execution_count": 18,
     "metadata": {},
     "output_type": "execute_result"
    }
   ],
   "source": [
    "svdp(a,b)"
   ]
  },
  {
   "cell_type": "code",
   "execution_count": 19,
   "metadata": {},
   "outputs": [
    {
     "data": {
      "text/plain": [
       "0"
      ]
     },
     "execution_count": 19,
     "metadata": {},
     "output_type": "execute_result"
    }
   ],
   "source": [
    "svdp(c,d)"
   ]
  },
  {
   "cell_type": "code",
   "execution_count": 21,
   "metadata": {},
   "outputs": [
    {
     "data": {
      "text/plain": [
       "3"
      ]
     },
     "execution_count": 21,
     "metadata": {},
     "output_type": "execute_result"
    }
   ],
   "source": [
    "svdp(e,f)"
   ]
  },
  {
   "cell_type": "code",
   "execution_count": 52,
   "metadata": {},
   "outputs": [],
   "source": [
    "i = [3, 5, 9, 1, 2]"
   ]
  },
  {
   "cell_type": "code",
   "execution_count": 39,
   "metadata": {},
   "outputs": [],
   "source": [
    "def get_min_max(lst):\n",
    "    lg = max(lst)\n",
    "    sm = min(lst)\n",
    "    lst.remove(lg)\n",
    "    lst.remove(sm)\n",
    "    return (sm, lg)"
   ]
  },
  {
   "cell_type": "code",
   "execution_count": 40,
   "metadata": {},
   "outputs": [
    {
     "name": "stdout",
     "output_type": "stream",
     "text": [
      "1\n",
      "9\n",
      "[3, 5, 2]\n"
     ]
    }
   ],
   "source": [
    "min_val, max_val = get_min_max(i)\n",
    "print(min_val)\n",
    "print(max_val)\n",
    "print(i)"
   ]
  },
  {
   "cell_type": "code",
   "execution_count": 57,
   "metadata": {},
   "outputs": [],
   "source": [
    "def get_min_max_1(lst):\n",
    "    lst.sort()\n",
    "    sm = lst[0]\n",
    "    lg = lst[-1]\n",
    "    lst = lst[1:-1]\n",
    "    return (sm, lg)"
   ]
  },
  {
   "cell_type": "code",
   "execution_count": 58,
   "metadata": {},
   "outputs": [
    {
     "data": {
      "text/plain": [
       "(1, 9)"
      ]
     },
     "execution_count": 58,
     "metadata": {},
     "output_type": "execute_result"
    }
   ],
   "source": [
    "get_min_max_1(i)"
   ]
  },
  {
   "cell_type": "code",
   "execution_count": 64,
   "metadata": {},
   "outputs": [
    {
     "data": {
      "text/plain": [
       "[1, 2, 3, 5, 9]"
      ]
     },
     "execution_count": 64,
     "metadata": {},
     "output_type": "execute_result"
    }
   ],
   "source": [
    "i"
   ]
  },
  {
   "cell_type": "code",
   "execution_count": 65,
   "metadata": {},
   "outputs": [],
   "source": [
    "import random"
   ]
  },
  {
   "cell_type": "code",
   "execution_count": 83,
   "metadata": {},
   "outputs": [
    {
     "data": {
      "text/plain": [
       "'h'"
      ]
     },
     "execution_count": 83,
     "metadata": {},
     "output_type": "execute_result"
    }
   ],
   "source": [
    "random.choice('asdfhkl;ag')"
   ]
  },
  {
   "cell_type": "code",
   "execution_count": 84,
   "metadata": {},
   "outputs": [
    {
     "data": {
      "text/plain": [
       "5696"
      ]
     },
     "execution_count": 84,
     "metadata": {},
     "output_type": "execute_result"
    }
   ],
   "source": [
    "random.randrange(0,10000,89)"
   ]
  },
  {
   "cell_type": "code",
   "execution_count": null,
   "metadata": {},
   "outputs": [],
   "source": [
    "def letter_dict(st): # couter\n",
    "    \n",
    "    return \n"
   ]
  },
  {
   "cell_type": "code",
   "execution_count": null,
   "metadata": {},
   "outputs": [],
   "source": [
    "def max_letter(dic):\n",
    "    return"
   ]
  },
  {
   "cell_type": "markdown",
   "metadata": {},
   "source": [
    "---"
   ]
  },
  {
   "cell_type": "markdown",
   "metadata": {},
   "source": [
    "# Class"
   ]
  },
  {
   "cell_type": "code",
   "execution_count": 92,
   "metadata": {},
   "outputs": [],
   "source": [
    "class Account:  # == class Account(object):\n",
    "    # 계좌의 속성(Attribute)\n",
    "    # 클래스 변수 - 해당 클래스로 생성된 모든 인스턴스가 공유함\n",
    "    num_acc = 0 \n",
    "    # 계좌의 기능(Method)\n",
    "    def __init__(self, num='OOO-OOO-OOOOO', amnt=0, rate=1.0):\n",
    "        # 인스턴스 변수 - 생성자로 초기화 되는 변수들은 인스턴스의 고유한 변수임\n",
    "        self.number = num\n",
    "        self.balance = amnt\n",
    "        self.rate = rate\n",
    "        Account.num_acc += 1\n",
    "        \n",
    "    def deposit(self, money): #입금\n",
    "        self.balance += money\n",
    "    \n",
    "    def withdraw(self, money): #인출\n",
    "        self.balance -= money\n",
    "    \n",
    "    def obtain_interest(self): #이자 획득\n",
    "        self.balance += self.balance*(self.rate/100)"
   ]
  },
  {
   "cell_type": "code",
   "execution_count": 93,
   "metadata": {},
   "outputs": [],
   "source": [
    "acc1 = Account()\n",
    "acc2 = Account()\n",
    "acc3 = Account()"
   ]
  },
  {
   "cell_type": "markdown",
   "metadata": {},
   "source": [
    "num_acc 가 클래스 변수로 선언되어 있기 때문에 모두 같은 값을 출력하게 된다"
   ]
  },
  {
   "cell_type": "code",
   "execution_count": 94,
   "metadata": {},
   "outputs": [
    {
     "name": "stdout",
     "output_type": "stream",
     "text": [
      "3\n",
      "3\n",
      "3\n",
      "3\n"
     ]
    }
   ],
   "source": [
    "print(acc1.num_acc)\n",
    "print(acc2.num_acc)\n",
    "print(acc3.num_acc)\n",
    "print(Account.num_acc)"
   ]
  },
  {
   "cell_type": "markdown",
   "metadata": {},
   "source": [
    "---"
   ]
  },
  {
   "cell_type": "markdown",
   "metadata": {},
   "source": [
    "## 상속"
   ]
  },
  {
   "cell_type": "code",
   "execution_count": null,
   "metadata": {},
   "outputs": [],
   "source": [
    "class MinBalanceAccount(Account): #Account 클래스를 상속받음\n",
    "    def __init__(self, min_balance, num='OOOO-OOO-OOOOO',amnt=0, rate=1.0):\n",
    "        Account.__init__(self, num=num, amnt=amnt,rate=rate)\n",
    "    \n",
    "        self.minimum_balance = min_balance\n",
    "        self.bonus_rate = 1.0\n",
    "    \n",
    "    #메소드 오버라이딩 - 상위 클래스의 메소드를 하위 클래스에서 재정의\n",
    "    def withdraw(self, amnt): # 인출 기능 수정\n",
    "        if self.balance - amnt < self.minimum_balance:\n",
    "            print('Sorry, minimum balance must bemaintained')\n",
    "        else:\n",
    "            Account.withdraw(self, amnt)\n",
    "            \n",
    "    def obtain_interest(self): #보너스 이율 반영\n",
    "        self.balance += (self.balance)*((self.rate+self.bonus_rate)/100.0)\n",
    "    \n",
    "    # 연산자 오버로딩 - 연산자를 클래스에 맞게 재정의하여 사용하는 것\n",
    "    def __add__(self, another): #두 계좌 통합 기능\n",
    "        new_acc = Account(amnt=self.balance+another.balance,rate=self.rate)\n",
    "        return new_acc"
   ]
  },
  {
   "cell_type": "markdown",
   "metadata": {},
   "source": [
    "---"
   ]
  }
 ],
 "metadata": {
  "kernelspec": {
   "display_name": "Python 3",
   "language": "python",
   "name": "python3"
  },
  "language_info": {
   "codemirror_mode": {
    "name": "ipython",
    "version": 3
   },
   "file_extension": ".py",
   "mimetype": "text/x-python",
   "name": "python",
   "nbconvert_exporter": "python",
   "pygments_lexer": "ipython3",
   "version": "3.7.1"
  }
 },
 "nbformat": 4,
 "nbformat_minor": 2
}
