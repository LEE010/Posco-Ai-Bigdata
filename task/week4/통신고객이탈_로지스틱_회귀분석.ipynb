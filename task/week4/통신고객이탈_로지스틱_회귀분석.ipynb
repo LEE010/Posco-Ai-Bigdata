{
 "cells": [
  {
   "cell_type": "code",
   "execution_count": 61,
   "metadata": {},
   "outputs": [],
   "source": [
    "import pandas as pd\n",
    "import numpy as np\n",
    "import statsmodels.api as sm\n",
    "import matplotlib.pyplot as plt\n",
    "import seaborn as sns\n",
    "import scipy.stats as stats\n",
    "from sklearn import metrics\n",
    "from sklearn.preprocessing import scale"
   ]
  },
  {
   "cell_type": "code",
   "execution_count": 62,
   "metadata": {
    "scrolled": true
   },
   "outputs": [
    {
     "data": {
      "text/html": [
       "<div>\n",
       "<style scoped>\n",
       "    .dataframe tbody tr th:only-of-type {\n",
       "        vertical-align: middle;\n",
       "    }\n",
       "\n",
       "    .dataframe tbody tr th {\n",
       "        vertical-align: top;\n",
       "    }\n",
       "\n",
       "    .dataframe thead th {\n",
       "        text-align: right;\n",
       "    }\n",
       "</style>\n",
       "<table border=\"1\" class=\"dataframe\">\n",
       "  <thead>\n",
       "    <tr style=\"text-align: right;\">\n",
       "      <th></th>\n",
       "      <th>CHURN</th>\n",
       "      <th>CUSTOMER_ID</th>\n",
       "      <th>GENDER</th>\n",
       "      <th>AGE</th>\n",
       "      <th>CHARGE_TYPE</th>\n",
       "      <th>HANDSET</th>\n",
       "      <th>USAGE_BAND</th>\n",
       "      <th>SERVICE_DURATION</th>\n",
       "      <th>DROPPED_CALLS</th>\n",
       "      <th>PEAK_CALLS_NO</th>\n",
       "      <th>PEAK_CALLS_TIME</th>\n",
       "      <th>WEEKEND_CALLS_NO</th>\n",
       "      <th>WEEKEND_CALLS_TIME</th>\n",
       "      <th>TOTAL_CALLS_NO</th>\n",
       "      <th>TOTAL_CALLS_TIME</th>\n",
       "    </tr>\n",
       "  </thead>\n",
       "  <tbody>\n",
       "    <tr>\n",
       "      <th>0</th>\n",
       "      <td>Active</td>\n",
       "      <td>K102990</td>\n",
       "      <td>F</td>\n",
       "      <td>31</td>\n",
       "      <td>CAT 100</td>\n",
       "      <td>ASAD170</td>\n",
       "      <td>Med</td>\n",
       "      <td>33.33</td>\n",
       "      <td>6</td>\n",
       "      <td>218</td>\n",
       "      <td>379.8</td>\n",
       "      <td>9</td>\n",
       "      <td>21.6</td>\n",
       "      <td>366</td>\n",
       "      <td>632.4</td>\n",
       "    </tr>\n",
       "    <tr>\n",
       "      <th>1</th>\n",
       "      <td>Active</td>\n",
       "      <td>K103280</td>\n",
       "      <td>M</td>\n",
       "      <td>27</td>\n",
       "      <td>CAT 100</td>\n",
       "      <td>S50</td>\n",
       "      <td>Med</td>\n",
       "      <td>30.87</td>\n",
       "      <td>10</td>\n",
       "      <td>373</td>\n",
       "      <td>656.4</td>\n",
       "      <td>11</td>\n",
       "      <td>28.0</td>\n",
       "      <td>411</td>\n",
       "      <td>810.4</td>\n",
       "    </tr>\n",
       "    <tr>\n",
       "      <th>2</th>\n",
       "      <td>Active</td>\n",
       "      <td>K103660</td>\n",
       "      <td>M</td>\n",
       "      <td>27</td>\n",
       "      <td>CAT 100</td>\n",
       "      <td>ASAD170</td>\n",
       "      <td>Med</td>\n",
       "      <td>49.40</td>\n",
       "      <td>11</td>\n",
       "      <td>260</td>\n",
       "      <td>582.0</td>\n",
       "      <td>0</td>\n",
       "      <td>0.0</td>\n",
       "      <td>265</td>\n",
       "      <td>614.1</td>\n",
       "    </tr>\n",
       "    <tr>\n",
       "      <th>3</th>\n",
       "      <td>Active</td>\n",
       "      <td>K103730</td>\n",
       "      <td>M</td>\n",
       "      <td>61</td>\n",
       "      <td>CAT 100</td>\n",
       "      <td>ASAD170</td>\n",
       "      <td>Med</td>\n",
       "      <td>48.60</td>\n",
       "      <td>1</td>\n",
       "      <td>294</td>\n",
       "      <td>661.8</td>\n",
       "      <td>14</td>\n",
       "      <td>101.5</td>\n",
       "      <td>326</td>\n",
       "      <td>844.0</td>\n",
       "    </tr>\n",
       "    <tr>\n",
       "      <th>4</th>\n",
       "      <td>Active</td>\n",
       "      <td>K104560</td>\n",
       "      <td>F</td>\n",
       "      <td>52</td>\n",
       "      <td>CAT 100</td>\n",
       "      <td>S50</td>\n",
       "      <td>Med</td>\n",
       "      <td>56.03</td>\n",
       "      <td>0</td>\n",
       "      <td>221</td>\n",
       "      <td>555.6</td>\n",
       "      <td>7</td>\n",
       "      <td>25.0</td>\n",
       "      <td>274</td>\n",
       "      <td>673.0</td>\n",
       "    </tr>\n",
       "  </tbody>\n",
       "</table>\n",
       "</div>"
      ],
      "text/plain": [
       "    CHURN CUSTOMER_ID GENDER  AGE CHARGE_TYPE  HANDSET USAGE_BAND  \\\n",
       "0  Active     K102990      F   31     CAT 100  ASAD170        Med   \n",
       "1  Active     K103280      M   27     CAT 100      S50        Med   \n",
       "2  Active     K103660      M   27     CAT 100  ASAD170        Med   \n",
       "3  Active     K103730      M   61     CAT 100  ASAD170        Med   \n",
       "4  Active     K104560      F   52     CAT 100      S50        Med   \n",
       "\n",
       "   SERVICE_DURATION  DROPPED_CALLS  PEAK_CALLS_NO  PEAK_CALLS_TIME  \\\n",
       "0             33.33              6            218            379.8   \n",
       "1             30.87             10            373            656.4   \n",
       "2             49.40             11            260            582.0   \n",
       "3             48.60              1            294            661.8   \n",
       "4             56.03              0            221            555.6   \n",
       "\n",
       "   WEEKEND_CALLS_NO  WEEKEND_CALLS_TIME  TOTAL_CALLS_NO  TOTAL_CALLS_TIME  \n",
       "0                 9                21.6             366             632.4  \n",
       "1                11                28.0             411             810.4  \n",
       "2                 0                 0.0             265             614.1  \n",
       "3                14               101.5             326             844.0  \n",
       "4                 7                25.0             274             673.0  "
      ]
     },
     "execution_count": 62,
     "metadata": {},
     "output_type": "execute_result"
    }
   ],
   "source": [
    "data = pd.read_csv(\"./통신고객이탈.csv\", engine=\"python\")\n",
    "data.head()"
   ]
  },
  {
   "cell_type": "code",
   "execution_count": 63,
   "metadata": {},
   "outputs": [
    {
     "data": {
      "text/plain": [
       "CHURN                 0\n",
       "CUSTOMER_ID           0\n",
       "GENDER                0\n",
       "AGE                   0\n",
       "CHARGE_TYPE           0\n",
       "HANDSET               0\n",
       "USAGE_BAND            0\n",
       "SERVICE_DURATION      0\n",
       "DROPPED_CALLS         0\n",
       "PEAK_CALLS_NO         0\n",
       "PEAK_CALLS_TIME       0\n",
       "WEEKEND_CALLS_NO      0\n",
       "WEEKEND_CALLS_TIME    0\n",
       "TOTAL_CALLS_NO        0\n",
       "TOTAL_CALLS_TIME      0\n",
       "dtype: int64"
      ]
     },
     "execution_count": 63,
     "metadata": {},
     "output_type": "execute_result"
    }
   ],
   "source": [
    "data.isnull().sum()"
   ]
  },
  {
   "cell_type": "code",
   "execution_count": 64,
   "metadata": {},
   "outputs": [
    {
     "data": {
      "text/html": [
       "<div>\n",
       "<style scoped>\n",
       "    .dataframe tbody tr th:only-of-type {\n",
       "        vertical-align: middle;\n",
       "    }\n",
       "\n",
       "    .dataframe tbody tr th {\n",
       "        vertical-align: top;\n",
       "    }\n",
       "\n",
       "    .dataframe thead th {\n",
       "        text-align: right;\n",
       "    }\n",
       "</style>\n",
       "<table border=\"1\" class=\"dataframe\">\n",
       "  <thead>\n",
       "    <tr style=\"text-align: right;\">\n",
       "      <th></th>\n",
       "      <th>CHURN</th>\n",
       "      <th>CUSTOMER_ID</th>\n",
       "      <th>GENDER</th>\n",
       "      <th>AGE</th>\n",
       "      <th>CHARGE_TYPE</th>\n",
       "      <th>HANDSET</th>\n",
       "      <th>USAGE_BAND</th>\n",
       "      <th>SERVICE_DURATION</th>\n",
       "      <th>DROPPED_CALLS</th>\n",
       "      <th>PEAK_CALLS_NO</th>\n",
       "      <th>PEAK_CALLS_TIME</th>\n",
       "      <th>WEEKEND_CALLS_NO</th>\n",
       "      <th>WEEKEND_CALLS_TIME</th>\n",
       "      <th>TOTAL_CALLS_NO</th>\n",
       "      <th>TOTAL_CALLS_TIME</th>\n",
       "    </tr>\n",
       "  </thead>\n",
       "  <tbody>\n",
       "    <tr>\n",
       "      <th>0</th>\n",
       "      <td>0</td>\n",
       "      <td>K102990</td>\n",
       "      <td>0</td>\n",
       "      <td>31</td>\n",
       "      <td>CAT 100</td>\n",
       "      <td>ASAD170</td>\n",
       "      <td>Med</td>\n",
       "      <td>33.33</td>\n",
       "      <td>6</td>\n",
       "      <td>218</td>\n",
       "      <td>379.8</td>\n",
       "      <td>9</td>\n",
       "      <td>21.6</td>\n",
       "      <td>366</td>\n",
       "      <td>632.4</td>\n",
       "    </tr>\n",
       "    <tr>\n",
       "      <th>1</th>\n",
       "      <td>0</td>\n",
       "      <td>K103280</td>\n",
       "      <td>1</td>\n",
       "      <td>27</td>\n",
       "      <td>CAT 100</td>\n",
       "      <td>S50</td>\n",
       "      <td>Med</td>\n",
       "      <td>30.87</td>\n",
       "      <td>10</td>\n",
       "      <td>373</td>\n",
       "      <td>656.4</td>\n",
       "      <td>11</td>\n",
       "      <td>28.0</td>\n",
       "      <td>411</td>\n",
       "      <td>810.4</td>\n",
       "    </tr>\n",
       "    <tr>\n",
       "      <th>2</th>\n",
       "      <td>0</td>\n",
       "      <td>K103660</td>\n",
       "      <td>1</td>\n",
       "      <td>27</td>\n",
       "      <td>CAT 100</td>\n",
       "      <td>ASAD170</td>\n",
       "      <td>Med</td>\n",
       "      <td>49.40</td>\n",
       "      <td>11</td>\n",
       "      <td>260</td>\n",
       "      <td>582.0</td>\n",
       "      <td>0</td>\n",
       "      <td>0.0</td>\n",
       "      <td>265</td>\n",
       "      <td>614.1</td>\n",
       "    </tr>\n",
       "    <tr>\n",
       "      <th>3</th>\n",
       "      <td>0</td>\n",
       "      <td>K103730</td>\n",
       "      <td>1</td>\n",
       "      <td>61</td>\n",
       "      <td>CAT 100</td>\n",
       "      <td>ASAD170</td>\n",
       "      <td>Med</td>\n",
       "      <td>48.60</td>\n",
       "      <td>1</td>\n",
       "      <td>294</td>\n",
       "      <td>661.8</td>\n",
       "      <td>14</td>\n",
       "      <td>101.5</td>\n",
       "      <td>326</td>\n",
       "      <td>844.0</td>\n",
       "    </tr>\n",
       "    <tr>\n",
       "      <th>4</th>\n",
       "      <td>0</td>\n",
       "      <td>K104560</td>\n",
       "      <td>0</td>\n",
       "      <td>52</td>\n",
       "      <td>CAT 100</td>\n",
       "      <td>S50</td>\n",
       "      <td>Med</td>\n",
       "      <td>56.03</td>\n",
       "      <td>0</td>\n",
       "      <td>221</td>\n",
       "      <td>555.6</td>\n",
       "      <td>7</td>\n",
       "      <td>25.0</td>\n",
       "      <td>274</td>\n",
       "      <td>673.0</td>\n",
       "    </tr>\n",
       "  </tbody>\n",
       "</table>\n",
       "</div>"
      ],
      "text/plain": [
       "   CHURN CUSTOMER_ID  GENDER  AGE CHARGE_TYPE  HANDSET USAGE_BAND  \\\n",
       "0      0     K102990       0   31     CAT 100  ASAD170        Med   \n",
       "1      0     K103280       1   27     CAT 100      S50        Med   \n",
       "2      0     K103660       1   27     CAT 100  ASAD170        Med   \n",
       "3      0     K103730       1   61     CAT 100  ASAD170        Med   \n",
       "4      0     K104560       0   52     CAT 100      S50        Med   \n",
       "\n",
       "   SERVICE_DURATION  DROPPED_CALLS  PEAK_CALLS_NO  PEAK_CALLS_TIME  \\\n",
       "0             33.33              6            218            379.8   \n",
       "1             30.87             10            373            656.4   \n",
       "2             49.40             11            260            582.0   \n",
       "3             48.60              1            294            661.8   \n",
       "4             56.03              0            221            555.6   \n",
       "\n",
       "   WEEKEND_CALLS_NO  WEEKEND_CALLS_TIME  TOTAL_CALLS_NO  TOTAL_CALLS_TIME  \n",
       "0                 9                21.6             366             632.4  \n",
       "1                11                28.0             411             810.4  \n",
       "2                 0                 0.0             265             614.1  \n",
       "3                14               101.5             326             844.0  \n",
       "4                 7                25.0             274             673.0  "
      ]
     },
     "execution_count": 64,
     "metadata": {},
     "output_type": "execute_result"
    }
   ],
   "source": [
    "data.CHURN = data.CHURN.map(lambda x : 0 if x == 'Active' else 1)\n",
    "# data.loc[data[\"CHURN\"] == \"Active\",\"CHURN\"] = 0\n",
    "# data.loc[data[\"CHURN\"] == \"Churned\",\"CHURN\"] = 1\n",
    "data.GENDER = data.GENDER.map(lambda x: 0 if x == 'F' else 1)\n",
    "data.head()"
   ]
  },
  {
   "cell_type": "code",
   "execution_count": 65,
   "metadata": {},
   "outputs": [
    {
     "name": "stdout",
     "output_type": "stream",
     "text": [
      "train_data_size: (635, 15)\n",
      "test_data_size: (295, 15)\n"
     ]
    }
   ],
   "source": [
    "np.random.seed(seed=1234)\n",
    "msk = np.random.rand(data.shape[0],) < 0.7\n",
    "df_train = data[msk]\n",
    "df_test = data[~msk]\n",
    "\n",
    "print(\"train_data_size:\",df_train.shape)\n",
    "print(\"test_data_size:\",df_test.shape)"
   ]
  },
  {
   "cell_type": "code",
   "execution_count": 66,
   "metadata": {
    "scrolled": false
   },
   "outputs": [
    {
     "name": "stdout",
     "output_type": "stream",
     "text": [
      "Warning: Maximum number of iterations has been exceeded.\n",
      "         Current function value: 0.261293\n",
      "         Iterations: 35\n",
      "         Function evaluations: 49\n",
      "         Gradient evaluations: 42\n",
      "                           Logit Regression Results                           \n",
      "==============================================================================\n",
      "Dep. Variable:                  CHURN   No. Observations:                  635\n",
      "Model:                          Logit   Df Residuals:                      605\n",
      "Method:                           MLE   Df Model:                           29\n",
      "Date:                Mon, 11 Feb 2019   Pseudo R-squ.:                  0.4660\n",
      "Time:                        20:07:57   Log-Likelihood:                -165.92\n",
      "converged:                      False   LL-Null:                       -310.70\n",
      "                                        LLR p-value:                 9.369e-45\n",
      "==============================================================================================\n",
      "                                 coef    std err          z      P>|z|      [0.025      0.975]\n",
      "----------------------------------------------------------------------------------------------\n",
      "Intercept                     -1.1342      2.139     -0.530      0.596      -5.326       3.058\n",
      "C(CHARGE_TYPE)[T.CAT 200]     -0.1864      0.629     -0.296      0.767      -1.419       1.046\n",
      "C(CHARGE_TYPE)[T.CAT 50]      -2.4395      1.021     -2.390      0.017      -4.440      -0.439\n",
      "C(CHARGE_TYPE)[T.Play 100]     0.9210      0.703      1.310      0.190      -0.457       2.299\n",
      "C(CHARGE_TYPE)[T.Play 300]    -0.2244      0.796     -0.282      0.778      -1.785       1.336\n",
      "C(HANDSET)[T.ASAD90]           5.4849      0.779      7.039      0.000       3.958       7.012\n",
      "C(HANDSET)[T.BS110]            1.1184      0.691      1.617      0.106      -0.237       2.474\n",
      "C(HANDSET)[T.BS210]           -4.3102      2.838     -1.519      0.129      -9.873       1.253\n",
      "C(HANDSET)[T.CAS30]            5.0987      0.883      5.777      0.000       3.369       6.829\n",
      "C(HANDSET)[T.CAS60]           -1.1870      2.411     -0.492      0.622      -5.912       3.538\n",
      "C(HANDSET)[T.S50]              1.6594      0.658      2.522      0.012       0.370       2.949\n",
      "C(HANDSET)[T.S80]              0.9463      0.715      1.324      0.186      -0.455       2.347\n",
      "C(HANDSET)[T.SOP10]            1.8914      1.128      1.677      0.093      -0.319       4.101\n",
      "C(HANDSET)[T.SOP20]            3.1225      1.259      2.479      0.013       0.654       5.591\n",
      "C(HANDSET)[T.WC95]            -4.7484      4.488     -1.058      0.290     -13.544       4.047\n",
      "C(USAGE_BAND)[T.Low]           1.1177      2.186      0.511      0.609      -3.166       5.401\n",
      "C(USAGE_BAND)[T.Med]          -0.5819      1.324     -0.439      0.660      -3.177       2.014\n",
      "C(USAGE_BAND)[T.MedHigh]      -1.1694      0.949     -1.232      0.218      -3.030       0.691\n",
      "C(USAGE_BAND)[T.MedLow]        1.1007      1.711      0.643      0.520      -2.253       4.454\n",
      "C(USAGE_BAND)[T.None]         -0.3415      2.972     -0.115      0.909      -6.167       5.484\n",
      "GENDER                        -0.5785      0.320     -1.810      0.070      -1.205       0.048\n",
      "AGE                           -0.0317      0.012     -2.626      0.009      -0.055      -0.008\n",
      "SERVICE_DURATION              -0.0283      0.011     -2.636      0.008      -0.049      -0.007\n",
      "DROPPED_CALLS                  0.2097      0.040      5.295      0.000       0.132       0.287\n",
      "PEAK_CALLS_NO                 -0.0008      0.003     -0.300      0.764      -0.006       0.004\n",
      "PEAK_CALLS_TIME                0.0014      0.001      0.983      0.325      -0.001       0.004\n",
      "WEEKEND_CALLS_NO              -0.0110      0.013     -0.874      0.382      -0.036       0.014\n",
      "WEEKEND_CALLS_TIME             0.0073      0.006      1.304      0.192      -0.004       0.018\n",
      "TOTAL_CALLS_NO                 0.0011      0.002      0.458      0.647      -0.003       0.006\n",
      "TOTAL_CALLS_TIME              -0.0012      0.002     -0.765      0.444      -0.004       0.002\n",
      "==============================================================================================\n"
     ]
    },
    {
     "name": "stderr",
     "output_type": "stream",
     "text": [
      "/home/pirl/anaconda3/lib/python3.7/site-packages/statsmodels/discrete/discrete_model.py:1724: RuntimeWarning: divide by zero encountered in log\n",
      "  return np.sum(np.log(self.cdf(q*np.dot(X,params))))\n",
      "/home/pirl/anaconda3/lib/python3.7/site-packages/statsmodels/discrete/discrete_model.py:1724: RuntimeWarning: divide by zero encountered in log\n",
      "  return np.sum(np.log(self.cdf(q*np.dot(X,params))))\n",
      "/home/pirl/anaconda3/lib/python3.7/site-packages/statsmodels/base/model.py:508: ConvergenceWarning: Maximum Likelihood optimization failed to converge. Check mle_retvals\n",
      "  \"Check mle_retvals\", ConvergenceWarning)\n"
     ]
    }
   ],
   "source": [
    "log_model = sm.Logit.from_formula(\"\"\"CHURN ~ GENDER + AGE + C(CHARGE_TYPE) + C(HANDSET) + C(USAGE_BAND) +\n",
    "                                    SERVICE_DURATION + DROPPED_CALLS + PEAK_CALLS_NO+PEAK_CALLS_TIME + \n",
    "                                    WEEKEND_CALLS_NO + WEEKEND_CALLS_TIME + TOTAL_CALLS_NO + TOTAL_CALLS_TIME + 1\"\"\",\n",
    "                                 df_train)\n",
    "# log_model = sm.Logit.from_formula(\"CHURN ~ AGE + 1\",\n",
    "#                                   df_const_train.drop(\"CUSTOMER_ID\",axis=1))\n",
    "log_res = log_model.fit(method=\"bfgs\")\n",
    "print(log_res.summary())"
   ]
  },
  {
   "cell_type": "code",
   "execution_count": 68,
   "metadata": {},
   "outputs": [
    {
     "data": {
      "text/plain": [
       "3    0\n",
       "4    0\n",
       "7    0\n",
       "8    0\n",
       "9    0\n",
       "dtype: int64"
      ]
     },
     "execution_count": 68,
     "metadata": {},
     "output_type": "execute_result"
    }
   ],
   "source": [
    "y_pred = log_res.predict(df_test)\n",
    "y_pred_class = (y_pred >0.5).astype(int)\n",
    "y_pred_class.head()"
   ]
  },
  {
   "cell_type": "code",
   "execution_count": 69,
   "metadata": {},
   "outputs": [
    {
     "name": "stdout",
     "output_type": "stream",
     "text": [
      "Accuracy:0.898\n"
     ]
    }
   ],
   "source": [
    "print(\"Accuracy:{0:.3f}\".format(metrics.accuracy_score(df_test[\"CHURN\"],y_pred_class)))"
   ]
  },
  {
   "cell_type": "code",
   "execution_count": 70,
   "metadata": {},
   "outputs": [
    {
     "data": {
      "text/plain": [
       "<matplotlib.axes._subplots.AxesSubplot at 0x7f6d99f6ae48>"
      ]
     },
     "execution_count": 70,
     "metadata": {},
     "output_type": "execute_result"
    },
    {
     "data": {
      "image/png": "[encoded data removed]",
      "text/plain": [
       "<Figure size 432x288 with 1 Axes>"
      ]
     },
     "metadata": {
      "needs_background": "light"
     },
     "output_type": "display_data"
    }
   ],
   "source": [
    "df_logistic_coef = pd.DataFrame({\"Coef\":log_res.params.values[1:]}, index=log_model.exog_names[1:])\n",
    "df_logistic_coef.plot.barh(y=\"Coef\")"
   ]
  },
  {
   "cell_type": "code",
   "execution_count": 71,
   "metadata": {},
   "outputs": [
    {
     "name": "stderr",
     "output_type": "stream",
     "text": [
      "/home/pirl/anaconda3/lib/python3.7/site-packages/ipykernel_launcher.py:5: DataConversionWarning: Data with input dtype int64, float64 were all converted to float64 by the scale function.\n",
      "  \"\"\"\n"
     ]
    },
    {
     "data": {
      "text/html": [
       "<div>\n",
       "<style scoped>\n",
       "    .dataframe tbody tr th:only-of-type {\n",
       "        vertical-align: middle;\n",
       "    }\n",
       "\n",
       "    .dataframe tbody tr th {\n",
       "        vertical-align: top;\n",
       "    }\n",
       "\n",
       "    .dataframe thead th {\n",
       "        text-align: right;\n",
       "    }\n",
       "</style>\n",
       "<table border=\"1\" class=\"dataframe\">\n",
       "  <thead>\n",
       "    <tr style=\"text-align: right;\">\n",
       "      <th></th>\n",
       "      <th>CHURN</th>\n",
       "      <th>GENDER</th>\n",
       "      <th>AGE</th>\n",
       "      <th>SERVICE_DURATION</th>\n",
       "      <th>DROPPED_CALLS</th>\n",
       "      <th>PEAK_CALLS_NO</th>\n",
       "      <th>PEAK_CALLS_TIME</th>\n",
       "      <th>WEEKEND_CALLS_NO</th>\n",
       "      <th>WEEKEND_CALLS_TIME</th>\n",
       "      <th>TOTAL_CALLS_NO</th>\n",
       "      <th>TOTAL_CALLS_TIME</th>\n",
       "    </tr>\n",
       "  </thead>\n",
       "  <tbody>\n",
       "    <tr>\n",
       "      <th>0</th>\n",
       "      <td>-0.487665</td>\n",
       "      <td>-0.958347</td>\n",
       "      <td>-0.061287</td>\n",
       "      <td>-0.066658</td>\n",
       "      <td>0.936779</td>\n",
       "      <td>-0.050954</td>\n",
       "      <td>-0.622843</td>\n",
       "      <td>-0.431938</td>\n",
       "      <td>-0.777862</td>\n",
       "      <td>0.069711</td>\n",
       "      <td>-0.778293</td>\n",
       "    </tr>\n",
       "    <tr>\n",
       "      <th>1</th>\n",
       "      <td>-0.487665</td>\n",
       "      <td>1.043463</td>\n",
       "      <td>-0.366521</td>\n",
       "      <td>-0.240702</td>\n",
       "      <td>2.073082</td>\n",
       "      <td>0.618542</td>\n",
       "      <td>-0.088273</td>\n",
       "      <td>-0.309382</td>\n",
       "      <td>-0.601091</td>\n",
       "      <td>0.247156</td>\n",
       "      <td>-0.454921</td>\n",
       "    </tr>\n",
       "    <tr>\n",
       "      <th>2</th>\n",
       "      <td>-0.487665</td>\n",
       "      <td>1.043463</td>\n",
       "      <td>-0.366521</td>\n",
       "      <td>1.070294</td>\n",
       "      <td>2.357157</td>\n",
       "      <td>0.130457</td>\n",
       "      <td>-0.232062</td>\n",
       "      <td>-0.983441</td>\n",
       "      <td>-1.374462</td>\n",
       "      <td>-0.328554</td>\n",
       "      <td>-0.811538</td>\n",
       "    </tr>\n",
       "    <tr>\n",
       "      <th>3</th>\n",
       "      <td>-0.487665</td>\n",
       "      <td>1.043463</td>\n",
       "      <td>1.464884</td>\n",
       "      <td>1.072417</td>\n",
       "      <td>0.084552</td>\n",
       "      <td>0.255718</td>\n",
       "      <td>-0.416436</td>\n",
       "      <td>-0.922163</td>\n",
       "      <td>-0.496134</td>\n",
       "      <td>0.310247</td>\n",
       "      <td>-0.286151</td>\n",
       "    </tr>\n",
       "    <tr>\n",
       "      <th>4</th>\n",
       "      <td>-0.487665</td>\n",
       "      <td>-0.958347</td>\n",
       "      <td>-0.137596</td>\n",
       "      <td>-0.139530</td>\n",
       "      <td>0.936779</td>\n",
       "      <td>0.851786</td>\n",
       "      <td>0.053197</td>\n",
       "      <td>-0.248104</td>\n",
       "      <td>0.083895</td>\n",
       "      <td>0.558670</td>\n",
       "      <td>-0.279066</td>\n",
       "    </tr>\n",
       "  </tbody>\n",
       "</table>\n",
       "</div>"
      ],
      "text/plain": [
       "      CHURN    GENDER       AGE  SERVICE_DURATION  DROPPED_CALLS  \\\n",
       "0 -0.487665 -0.958347 -0.061287         -0.066658       0.936779   \n",
       "1 -0.487665  1.043463 -0.366521         -0.240702       2.073082   \n",
       "2 -0.487665  1.043463 -0.366521          1.070294       2.357157   \n",
       "3 -0.487665  1.043463  1.464884          1.072417       0.084552   \n",
       "4 -0.487665 -0.958347 -0.137596         -0.139530       0.936779   \n",
       "\n",
       "   PEAK_CALLS_NO  PEAK_CALLS_TIME  WEEKEND_CALLS_NO  WEEKEND_CALLS_TIME  \\\n",
       "0      -0.050954        -0.622843         -0.431938           -0.777862   \n",
       "1       0.618542        -0.088273         -0.309382           -0.601091   \n",
       "2       0.130457        -0.232062         -0.983441           -1.374462   \n",
       "3       0.255718        -0.416436         -0.922163           -0.496134   \n",
       "4       0.851786         0.053197         -0.248104            0.083895   \n",
       "\n",
       "   TOTAL_CALLS_NO  TOTAL_CALLS_TIME  \n",
       "0        0.069711         -0.778293  \n",
       "1        0.247156         -0.454921  \n",
       "2       -0.328554         -0.811538  \n",
       "3        0.310247         -0.286151  \n",
       "4        0.558670         -0.279066  "
      ]
     },
     "execution_count": 71,
     "metadata": {},
     "output_type": "execute_result"
    }
   ],
   "source": [
    "df_char = data.select_dtypes(include=\"object\")\n",
    "df_numeric = data.select_dtypes(exclude=\"object\")\n",
    "\n",
    "df_char_train = df_char[msk]\n",
    "df_numeric_scaled_train = scale(df_numeric[msk])\n",
    "df_numeric_scaled_train = pd.DataFrame(df_numeric_scaled_train, columns=df_numeric.columns)\n",
    "df_numeric_scaled_train.head()"
   ]
  },
  {
   "cell_type": "code",
   "execution_count": 72,
   "metadata": {},
   "outputs": [],
   "source": [
    "df_numeric_scaled_train[\"CHURN\"] = np.where(df_numeric_scaled_train[\"CHURN\"]>0,1,0)\n",
    "df_numeric_scaled_train.head()\n",
    "\n",
    "df_scaled_train = pd.concat([df_numeric_scaled_train, df_char_train.reset_index(drop=True)],axis=1)"
   ]
  },
  {
   "cell_type": "code",
   "execution_count": 73,
   "metadata": {},
   "outputs": [
    {
     "name": "stdout",
     "output_type": "stream",
     "text": [
      "Warning: Maximum number of iterations has been exceeded.\n",
      "         Current function value: 0.262088\n",
      "         Iterations: 35\n",
      "         Function evaluations: 36\n",
      "         Gradient evaluations: 36\n"
     ]
    },
    {
     "name": "stderr",
     "output_type": "stream",
     "text": [
      "/home/pirl/anaconda3/lib/python3.7/site-packages/statsmodels/base/model.py:508: ConvergenceWarning: Maximum Likelihood optimization failed to converge. Check mle_retvals\n",
      "  \"Check mle_retvals\", ConvergenceWarning)\n"
     ]
    },
    {
     "data": {
      "text/plain": [
       "<matplotlib.axes._subplots.AxesSubplot at 0x7f6dac18c550>"
      ]
     },
     "execution_count": 73,
     "metadata": {},
     "output_type": "execute_result"
    },
    {
     "data": {
      "image/png": "[encoded data removed]",
      "text/plain": [
       "<Figure size 432x288 with 1 Axes>"
      ]
     },
     "metadata": {
      "needs_background": "light"
     },
     "output_type": "display_data"
    }
   ],
   "source": [
    "scaled_log_model = sm.Logit.from_formula(\"\"\"CHURN ~ GENDER + AGE + C(CHARGE_TYPE) + C(HANDSET) + C(USAGE_BAND) +\n",
    "                                    SERVICE_DURATION + DROPPED_CALLS + PEAK_CALLS_NO+PEAK_CALLS_TIME + \n",
    "                                    WEEKEND_CALLS_NO + WEEKEND_CALLS_TIME + TOTAL_CALLS_NO + TOTAL_CALLS_TIME + 1\"\"\",df_scaled_train)\n",
    "scaled_log_res = scaled_log_model.fit(method=\"bfgs\")\n",
    "df_log_scaled_coef = pd.DataFrame({\"Coef\":scaled_log_res.params.values[1:]}, index=scaled_log_model.exog_names[1:])\n",
    "df_log_scaled_coef.plot.barh(y=\"Coef\",legend=False)"
   ]
  },
  {
   "cell_type": "markdown",
   "metadata": {},
   "source": [
    "---"
   ]
  }
 ],
 "metadata": {
  "kernelspec": {
   "display_name": "Python 3",
   "language": "python",
   "name": "python3"
  },
  "language_info": {
   "codemirror_mode": {
    "name": "ipython",
    "version": 3
   },
   "file_extension": ".py",
   "mimetype": "text/x-python",
   "name": "python",
   "nbconvert_exporter": "python",
   "pygments_lexer": "ipython3",
   "version": "3.7.1"
  }
 },
 "nbformat": 4,
 "nbformat_minor": 2
}
