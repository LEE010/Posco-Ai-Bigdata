{
 "cells": [
  {
   "cell_type": "markdown",
   "metadata": {},
   "source": [
    "# TensorFlow 기초\n",
    "\n",
    "## TensorFlow 알아보기\n",
    "\n",
    "###   Computational Graph"
   ]
  },
  {
   "cell_type": "code",
   "execution_count": 1,
   "metadata": {},
   "outputs": [
    {
     "name": "stdout",
     "output_type": "stream",
     "text": [
      "10\n",
      "32\n",
      "42\n"
     ]
    }
   ],
   "source": [
    "import tensorflow as tf\n",
    "import numpy as np\n",
    "%matplotlib inline\n",
    "import matplotlib.pyplot as plt\n",
    "\n",
    "# numpy addition\n",
    "a_np = np.array(10)\n",
    "b_np = np.array(32)\n",
    "out_np = a_np + b_np\n",
    "\n",
    "print(a_np)\n",
    "print(b_np)\n",
    "print(out_np)"
   ]
  },
  {
   "cell_type": "code",
   "execution_count": 2,
   "metadata": {},
   "outputs": [
    {
     "name": "stdout",
     "output_type": "stream",
     "text": [
      "Tensor(\"Const:0\", shape=(), dtype=int32)\n",
      "Tensor(\"Const_1:0\", shape=(), dtype=int32)\n",
      "Tensor(\"add:0\", shape=(), dtype=int32)\n",
      "==========================================\n",
      "10\n",
      "32\n",
      "42\n",
      "==========================================\n",
      "10\n",
      "32\n",
      "42\n"
     ]
    }
   ],
   "source": [
    "# tensorflow addition\n",
    "a_tf = tf.constant(10)\n",
    "b_tf = tf.constant(32)\n",
    "out_tf = a_tf + b_tf\n",
    "\n",
    "print(a_tf)\n",
    "print(b_tf)\n",
    "print(out_tf)\n",
    "print(\"==========================================\")\n",
    "\n",
    "with tf.Session() as sess:\n",
    "    print(sess.run(a_tf))\n",
    "    print(sess.run(b_tf))\n",
    "    print(sess.run(out_tf))\n",
    "    print(\"==========================================\")\n",
    "    print(a_tf.eval())\n",
    "    print(b_tf.eval())\n",
    "    print(out_tf.eval())"
   ]
  },
  {
   "cell_type": "code",
   "execution_count": 24,
   "metadata": {},
   "outputs": [
    {
     "name": "stdout",
     "output_type": "stream",
     "text": [
      "Tensor(\"Const:0\", shape=(), dtype=int32)\n",
      "Tensor(\"Const_1:0\", shape=(), dtype=int32)\n",
      "Tensor(\"add:0\", shape=(), dtype=int32)\n",
      "==========================================\n",
      "10\n",
      "32\n",
      "42\n",
      "==========================================\n",
      "Tensor(\"Const:0\", shape=(), dtype=int32)\n",
      "Tensor(\"Const_1:0\", shape=(), dtype=int32)\n",
      "Tensor(\"add:0\", shape=(), dtype=int32)\n"
     ]
    }
   ],
   "source": [
    "# tensorflow addition\n",
    "a_tf = tf.constant(10)\n",
    "b_tf = tf.constant(32)\n",
    "out_tf = a_tf + b_tf\n",
    "\n",
    "print(a_tf)\n",
    "print(b_tf)\n",
    "print(out_tf)\n",
    "print(\"==========================================\")\n",
    "\n",
    "with tf.Session() as sess:\n",
    "    print(sess.run(a_tf))\n",
    "    print(sess.run(b_tf))\n",
    "    print(sess.run(out_tf))\n",
    "    print(\"==========================================\")\n",
    "    print(a_tf)\n",
    "    print(b_tf)\n",
    "    print(out_tf)"
   ]
  },
  {
   "cell_type": "code",
   "execution_count": 3,
   "metadata": {},
   "outputs": [
    {
     "name": "stdout",
     "output_type": "stream",
     "text": [
      "Tensor(\"Placeholder:0\", dtype=float32)\n",
      "Tensor(\"Placeholder_1:0\", dtype=float32)\n",
      "Tensor(\"add_1:0\", dtype=float32)\n",
      "==========================================\n",
      "1.0\n",
      "2.0\n",
      "7.0\n",
      "100.0\n"
     ]
    }
   ],
   "source": [
    "# parameterize the graph to accept external input\n",
    "a_tf = tf.placeholder(tf.float32) # 변수형 텐서 선언\n",
    "b_tf = tf.placeholder(tf.float32)\n",
    "out_tf = a_tf + b_tf\n",
    "\n",
    "print(a_tf)\n",
    "print(b_tf)\n",
    "print(out_tf)\n",
    "print(\"==========================================\")\n",
    "\n",
    "with tf.Session() as sess:\n",
    "    print(sess.run(a_tf, {a_tf: 1.0}))# feeddict를 이용하여 변수를 초기화 하는것과 비슷한 동작이 필요함\n",
    "    print(sess.run(b_tf, {b_tf: 2.0}))\n",
    "    print(sess.run(out_tf, {a_tf: 3.0, b_tf: 4.0}))\n",
    "    print(sess.run(out_tf, {a_tf: 90.0, b_tf: 10.0}))"
   ]
  },
  {
   "cell_type": "markdown",
   "metadata": {},
   "source": [
    "### Vector 연산"
   ]
  },
  {
   "cell_type": "code",
   "execution_count": 4,
   "metadata": {},
   "outputs": [
    {
     "name": "stdout",
     "output_type": "stream",
     "text": [
      "Numpy: [3. 3. 3. 3.]\n"
     ]
    }
   ],
   "source": [
    "# numpy\n",
    "x = np.array([1., 1., 1., 1.])\n",
    "y = np.array([2., 2., 2., 2.])\n",
    "out = x + y\n",
    "print(\"Numpy: {}\".format(out))"
   ]
  },
  {
   "cell_type": "code",
   "execution_count": 5,
   "metadata": {},
   "outputs": [
    {
     "name": "stdout",
     "output_type": "stream",
     "text": [
      "Tensor(\"Add_2:0\", shape=(4,), dtype=float32)\n",
      "Tensorflow: [3. 3. 3. 3.]\n"
     ]
    }
   ],
   "source": [
    "# tensorflow1\n",
    "x = tf.constant([1., 1., 1., 1.])\n",
    "y = tf.constant([2., 2., 2., 2.])\n",
    "out = tf.add(x, y)\n",
    "\n",
    "with tf.Session() as sess:\n",
    "    print(out)\n",
    "    print(\"Tensorflow: {}\".format(sess.run(out)))"
   ]
  },
  {
   "cell_type": "code",
   "execution_count": 6,
   "metadata": {},
   "outputs": [
    {
     "name": "stdout",
     "output_type": "stream",
     "text": [
      "Tensor(\"add_3:0\", shape=(4,), dtype=float32)\n",
      "Tensorflow: [3. 3. 3. 3.]\n"
     ]
    }
   ],
   "source": [
    "# tensorflow2\n",
    "x = tf.constant([1., 1., 1., 1.])\n",
    "y = tf.constant([2., 2., 2., 2.])\n",
    "out = x + y\n",
    "\n",
    "with tf.Session() as sess:\n",
    "    print(out)\n",
    "    print(\"Tensorflow: {}\".format(sess.run(out)))"
   ]
  },
  {
   "cell_type": "markdown",
   "metadata": {},
   "source": [
    "### Matrix 연산"
   ]
  },
  {
   "cell_type": "code",
   "execution_count": 7,
   "metadata": {},
   "outputs": [
    {
     "name": "stdout",
     "output_type": "stream",
     "text": [
      "[[1. 1. 1.]\n",
      " [1. 1. 1.]]\n",
      "+\n",
      "[[1. 2. 3.]\n",
      " [4. 5. 6.]]\n",
      "=\n",
      "[[2. 3. 4.]\n",
      " [5. 6. 7.]]\n"
     ]
    }
   ],
   "source": [
    "# matrix addition\n",
    "x = tf.constant(1.0, shape=[2, 3])\n",
    "y = tf.constant(np.reshape(np.arange(1.0, 7.0, dtype=np.float32), (2, 3)))\n",
    "out = x + y\n",
    "\n",
    "with tf.Session() as sess:\n",
    "    print(x.eval())\n",
    "    print(\"+\")\n",
    "    print(y.eval())\n",
    "    print(\"=\")\n",
    "    print(sess.run(out))"
   ]
  },
  {
   "cell_type": "code",
   "execution_count": 8,
   "metadata": {},
   "outputs": [
    {
     "name": "stdout",
     "output_type": "stream",
     "text": [
      "[[2. 2. 2.]\n",
      " [2. 2. 2.]]\n",
      "[[1. 2. 3.]\n",
      " [4. 5. 6.]]\n",
      "[[ 2.  4.  6.]\n",
      " [ 8. 10. 12.]]\n"
     ]
    }
   ],
   "source": [
    "# matrix elementwise multiplication\n",
    "x = tf.constant(2.0, shape=[2, 3])\n",
    "y = tf.constant(np.reshape(np.arange(1.0, 7.0, dtype=np.float32), (2, 3)))\n",
    "out = x * y\n",
    "\n",
    "with tf.Session() as sess:\n",
    "    print(x.eval())\n",
    "    print(y.eval())\n",
    "    print(sess.run(out))"
   ]
  },
  {
   "cell_type": "code",
   "execution_count": 9,
   "metadata": {},
   "outputs": [
    {
     "name": "stdout",
     "output_type": "stream",
     "text": [
      "input: \n",
      "[[1. 0. 0. 1.]]\n",
      "weights: \n",
      "[[-0.07646515  0.84772056]\n",
      " [ 0.60516673  1.6639327 ]\n",
      " [-0.21814296  0.7975588 ]\n",
      " [-0.2452568  -0.8280898 ]]\n",
      "output: \n",
      "[[-0.32172194  0.01963079]]\n"
     ]
    }
   ],
   "source": [
    "# matrix multiplication \n",
    "input_feature = tf.constant(\n",
    "    np.reshape([1, 0, 0, 1], (1, 4)).astype(np.float32))\n",
    "weights = tf.constant(np.random.randn(4, 2).astype(np.float32))\n",
    "output = tf.matmul(input_feature, weights)\n",
    "\n",
    "with tf.Session() as sess:\n",
    "    print(\"input: \\n{}\".format(sess.run(input_feature)))\n",
    "    print(\"weights: \\n{}\".format(sess.run(weights)))\n",
    "    print(\"output: \\n{}\".format(sess.run(output)))"
   ]
  },
  {
   "cell_type": "markdown",
   "metadata": {},
   "source": [
    "### Useful operation"
   ]
  },
  {
   "cell_type": "code",
   "execution_count": 10,
   "metadata": {},
   "outputs": [
    {
     "name": "stdout",
     "output_type": "stream",
     "text": [
      "[[1. 2. 3.]\n",
      " [4. 5. 6.]]\n",
      "3.5\n",
      "21.0\n",
      "[2. 5.]\n"
     ]
    }
   ],
   "source": [
    "# reduce_mean, reduce_sum\n",
    "x = tf.constant(np.reshape(np.arange(1.0, 7.0, dtype=np.float32), (2, 3)))\n",
    "tf_mean = tf.reduce_mean(x)\n",
    "tf_sum = tf.reduce_sum(x)\n",
    "tf_mean_2 = tf.reduce_mean(x, axis=1)\n",
    "\n",
    "with tf.Session() as sess:\n",
    "    print(sess.run(x))\n",
    "    print(sess.run(tf_mean))\n",
    "    print(sess.run(tf_sum))\n",
    "    print(sess.run(tf_mean_2))"
   ]
  },
  {
   "cell_type": "code",
   "execution_count": 11,
   "metadata": {},
   "outputs": [
    {
     "name": "stdout",
     "output_type": "stream",
     "text": [
      "[[1. 2. 3.]\n",
      " [4. 5. 6.]]\n",
      "[0 0 0]\n",
      "[2 2]\n"
     ]
    }
   ],
   "source": [
    "# argmax, argmin\n",
    "x = tf.constant(np.reshape(np.arange(1.0, 7.0, dtype=np.float32), (2, 3)))\n",
    "axis0 = tf.argmin(x, axis=0)\n",
    "axis1 = tf.argmax(x, axis=1)\n",
    "\n",
    "with tf.Session() as sess:\n",
    "    print(sess.run(x))\n",
    "    print(sess.run(axis0))\n",
    "    print(sess.run(axis1))"
   ]
  },
  {
   "cell_type": "code",
   "execution_count": 12,
   "metadata": {},
   "outputs": [
    {
     "name": "stdout",
     "output_type": "stream",
     "text": [
      "[[ True  True  True]\n",
      " [ True  True  True]]\n",
      "[[False  True False]\n",
      " [False False False]]\n"
     ]
    }
   ],
   "source": [
    "# equal\n",
    "x = tf.constant(np.reshape(np.arange(1.0, 7.0, dtype=np.float32), (2, 3)))\n",
    "y = tf.constant(np.reshape(np.arange(1.0, 7.0, dtype=np.float32), (2, 3)))\n",
    "y_ = tf.constant(2.0, shape=[2, 3])\n",
    "equal = tf.equal(x, y)\n",
    "equal_ = tf.equal(x, y_)\n",
    "\n",
    "with tf.Session() as sess:\n",
    "    print(sess.run(equal))\n",
    "    print(sess.run(equal_))"
   ]
  },
  {
   "cell_type": "code",
   "execution_count": 13,
   "metadata": {},
   "outputs": [
    {
     "name": "stdout",
     "output_type": "stream",
     "text": [
      "Tensor(\"Const_19:0\", shape=(4,), dtype=bool)\n",
      "[ True  True False False]\n",
      "Tensor(\"Cast:0\", shape=(4,), dtype=float32)\n",
      "[1. 1. 0. 0.]\n"
     ]
    }
   ],
   "source": [
    "# cast\n",
    "x = tf.constant([True, True, False, False])\n",
    "x_cast = tf.cast(x, tf.float32)\n",
    "\n",
    "with tf.Session() as sess:\n",
    "    print(x)\n",
    "    print(sess.run(x))\n",
    "    print(x_cast)\n",
    "    print(sess.run(x_cast))"
   ]
  },
  {
   "cell_type": "markdown",
   "metadata": {},
   "source": [
    "### 변수 변환 시켜보기"
   ]
  },
  {
   "cell_type": "code",
   "execution_count": 14,
   "metadata": {},
   "outputs": [
    {
     "name": "stdout",
     "output_type": "stream",
     "text": [
      "total: [[1. 5.]]\n",
      "total: [[ 2. 10.]]\n",
      "total: [[ 3. 15.]]\n",
      "total: [[ 4. 20.]]\n",
      "total: [[ 5. 25.]]\n"
     ]
    }
   ],
   "source": [
    "# define a variable and a constant\n",
    "total = tf.Variable(tf.zeros([1, 2]))\n",
    "inputs = tf.constant([1.0, 5.0])\n",
    "\n",
    "# make op to update a variable\n",
    "update_total = tf.assign(total, tf.add(total, inputs))\n",
    "\n",
    "# make op to initialize declared variable\n",
    "init = tf.global_variables_initializer()\n",
    "\n",
    "with tf.Session() as sess:\n",
    "    # initialize variables\n",
    "    sess.run(init)\n",
    "    \n",
    "    # update variable 5 times\n",
    "    for _ in range(5):\n",
    "        sess.run(update_total)\n",
    "        print(\"total: {}\".format(sess.run(total)))"
   ]
  },
  {
   "cell_type": "markdown",
   "metadata": {},
   "source": [
    "## 기본 예제\n",
    "\n",
    "### Toy data 생성"
   ]
  },
  {
   "cell_type": "code",
   "execution_count": 28,
   "metadata": {},
   "outputs": [
    {
     "data": {
      "image/png": "[encoded data removed]",
      "text/plain": [
       "<Figure size 288x288 with 1 Axes>"
      ]
     },
     "metadata": {
      "needs_background": "light"
     },
     "output_type": "display_data"
    }
   ],
   "source": [
    "num_examples = 50\n",
    "data = np.array([np.linspace(-2, 4, num_examples), np.linspace(-6, 6, num_examples)])\n",
    "plt.figure(figsize=(4, 4))\n",
    "plt.scatter(data[0], data[1])\n",
    "plt.show()"
   ]
  },
  {
   "cell_type": "markdown",
   "metadata": {},
   "source": [
    "### Noise 추가"
   ]
  },
  {
   "cell_type": "code",
   "execution_count": 29,
   "metadata": {},
   "outputs": [
    {
     "data": {
      "image/png": "[encoded data removed]",
      "text/plain": [
       "<Figure size 288x288 with 1 Axes>"
      ]
     },
     "metadata": {
      "needs_background": "light"
     },
     "output_type": "display_data"
    },
    {
     "ename": "AttributeError",
     "evalue": "'NoneType' object has no attribute 'eval'",
     "output_type": "error",
     "traceback": [
      "\u001b[0;31m---------------------------------------------------------------------------\u001b[0m",
      "\u001b[0;31mAttributeError\u001b[0m                            Traceback (most recent call last)",
      "\u001b[0;32m<ipython-input-29-7989eea00b7e>\u001b[0m in \u001b[0;36m<module>\u001b[0;34m\u001b[0m\n\u001b[1;32m      2\u001b[0m \u001b[0mplt\u001b[0m\u001b[0;34m.\u001b[0m\u001b[0mfigure\u001b[0m\u001b[0;34m(\u001b[0m\u001b[0mfigsize\u001b[0m\u001b[0;34m=\u001b[0m\u001b[0;34m(\u001b[0m\u001b[0;36m4\u001b[0m\u001b[0;34m,\u001b[0m \u001b[0;36m4\u001b[0m\u001b[0;34m)\u001b[0m\u001b[0;34m)\u001b[0m\u001b[0;34m\u001b[0m\u001b[0;34m\u001b[0m\u001b[0m\n\u001b[1;32m      3\u001b[0m \u001b[0mplt\u001b[0m\u001b[0;34m.\u001b[0m\u001b[0mscatter\u001b[0m\u001b[0;34m(\u001b[0m\u001b[0mdata\u001b[0m\u001b[0;34m[\u001b[0m\u001b[0;36m0\u001b[0m\u001b[0;34m]\u001b[0m\u001b[0;34m,\u001b[0m \u001b[0mdata\u001b[0m\u001b[0;34m[\u001b[0m\u001b[0;36m1\u001b[0m\u001b[0;34m]\u001b[0m\u001b[0;34m)\u001b[0m\u001b[0;34m\u001b[0m\u001b[0;34m\u001b[0m\u001b[0m\n\u001b[0;32m----> 4\u001b[0;31m \u001b[0mplt\u001b[0m\u001b[0;34m.\u001b[0m\u001b[0mshow\u001b[0m\u001b[0;34m(\u001b[0m\u001b[0;34m)\u001b[0m\u001b[0;34m.\u001b[0m\u001b[0meval\u001b[0m\u001b[0;34m(\u001b[0m\u001b[0;34m)\u001b[0m\u001b[0;34m\u001b[0m\u001b[0;34m\u001b[0m\u001b[0m\n\u001b[0m",
      "\u001b[0;31mAttributeError\u001b[0m: 'NoneType' object has no attribute 'eval'"
     ]
    }
   ],
   "source": [
    "data += np.random.randn(2, num_examples)\n",
    "plt.figure(figsize=(4, 4))\n",
    "plt.scatter(data[0], data[1])\n",
    "plt.show().eval()"
   ]
  },
  {
   "cell_type": "markdown",
   "metadata": {},
   "source": [
    "### Hyper-parameter 세팅"
   ]
  },
  {
   "cell_type": "code",
   "execution_count": 30,
   "metadata": {},
   "outputs": [],
   "source": [
    "training_step = 50\n",
    "learning_rate = 0.002"
   ]
  },
  {
   "cell_type": "markdown",
   "metadata": {},
   "source": [
    "### 모델 정의 및 학습"
   ]
  },
  {
   "cell_type": "code",
   "execution_count": 31,
   "metadata": {},
   "outputs": [
    {
     "name": "stdout",
     "output_type": "stream",
     "text": [
      "iter: 0, loss: 365.25213623046875\n",
      "iter: 1, loss: 211.5743865966797\n",
      "iter: 2, loss: 167.47335815429688\n",
      "iter: 3, loss: 151.2909698486328\n",
      "iter: 4, loss: 142.77166748046875\n",
      "iter: 5, loss: 136.80905151367188\n",
      "iter: 6, loss: 132.04629516601562\n",
      "iter: 7, loss: 128.06500244140625\n",
      "iter: 8, loss: 124.69044494628906\n",
      "iter: 9, loss: 121.8184585571289\n",
      "iter: 10, loss: 119.37130737304688\n",
      "iter: 11, loss: 117.28543853759766\n",
      "iter: 12, loss: 115.50732421875\n",
      "iter: 13, loss: 113.99152374267578\n",
      "iter: 14, loss: 112.69931030273438\n",
      "iter: 15, loss: 111.59773254394531\n",
      "iter: 16, loss: 110.65865325927734\n",
      "iter: 17, loss: 109.85808563232422\n",
      "iter: 18, loss: 109.17561340332031\n",
      "iter: 19, loss: 108.59381866455078\n",
      "iter: 20, loss: 108.09783935546875\n",
      "iter: 21, loss: 107.67501831054688\n",
      "iter: 22, loss: 107.31458282470703\n",
      "iter: 23, loss: 107.0073013305664\n",
      "iter: 24, loss: 106.74535369873047\n",
      "iter: 25, loss: 106.52204895019531\n",
      "iter: 26, loss: 106.33168029785156\n",
      "iter: 27, loss: 106.16939544677734\n",
      "iter: 28, loss: 106.03105163574219\n",
      "iter: 29, loss: 105.91311645507812\n",
      "iter: 30, loss: 105.81256103515625\n",
      "iter: 31, loss: 105.72685241699219\n",
      "iter: 32, loss: 105.6537857055664\n",
      "iter: 33, loss: 105.59149932861328\n",
      "iter: 34, loss: 105.53839111328125\n",
      "iter: 35, loss: 105.49312591552734\n",
      "iter: 36, loss: 105.45454406738281\n",
      "iter: 37, loss: 105.42163848876953\n",
      "iter: 38, loss: 105.39360046386719\n",
      "iter: 39, loss: 105.36968994140625\n",
      "iter: 40, loss: 105.34930419921875\n",
      "iter: 41, loss: 105.33192443847656\n",
      "iter: 42, loss: 105.31712341308594\n",
      "iter: 43, loss: 105.30449676513672\n",
      "iter: 44, loss: 105.29373168945312\n",
      "iter: 45, loss: 105.2845458984375\n",
      "iter: 46, loss: 105.27672576904297\n",
      "iter: 47, loss: 105.27006530761719\n",
      "iter: 48, loss: 105.26437377929688\n",
      "iter: 49, loss: 105.259521484375\n"
     ]
    }
   ],
   "source": [
    "tf.reset_default_graph()\n",
    "x, y = data\n",
    "x_with_bias = np.array([(1., a) for a in x]).astype(np.float32)\n",
    "\n",
    "input = tf.constant(x_with_bias)\n",
    "target = tf.constant(np.transpose([y]).astype(np.float32))\n",
    "#weights = tf.Variable(tf.random_normal([2, 1], 0, 0.1))\n",
    "init = tf.truncated_normal([2,1], stddev=.01)\n",
    "weights = tf.get_variable('w', initializer=init)\n",
    "y_hat = tf.matmul(input, weights)\n",
    "y_error = tf.subtract(y_hat, target)\n",
    "loss = tf.reduce_mean(tf.nn.l2_loss(y_error))\n",
    "\n",
    "update_weights = tf.train.GradientDescentOptimizer(learning_rate).minimize(loss)\n",
    "\n",
    "# Make op to initialize declared variable\n",
    "init = tf.global_variables_initializer()\n",
    "\n",
    "with tf.Session() as sess:\n",
    "    # Initialize variables\n",
    "    sess.run(init)\n",
    "    \n",
    "    # Training\n",
    "    for step in range(training_step):\n",
    "        _, loss_ = sess.run([update_weights, loss])\n",
    "        print('iter: {}, loss: {}'.format(step, loss_))"
   ]
  },
  {
   "cell_type": "code",
   "execution_count": 33,
   "metadata": {},
   "outputs": [
    {
     "data": {
      "text/plain": [
       "<matplotlib.collections.PathCollection at 0x7f54d47ad860>"
      ]
     },
     "execution_count": 33,
     "metadata": {},
     "output_type": "execute_result"
    },
    {
     "data": {
      "image/png": "[encoded data removed]",
      "text/plain": [
       "<Figure size 432x288 with 1 Axes>"
      ]
     },
     "metadata": {
      "needs_background": "light"
     },
     "output_type": "display_data"
    }
   ],
   "source": [
    "from sklearn.linear_model import LinearRegression\n",
    "x, y = data\n",
    "x = x.reshape(-1, 1)\n",
    "y = y.reshape(-1, 1)\n",
    "model = LinearRegression()\n",
    "model.fit(x, y)\n",
    "model.score(x, y)\n",
    "plt.scatter(x, y)\n",
    "plt.scatter(x, model.predict(x))"
   ]
  },
  {
   "cell_type": "code",
   "execution_count": 34,
   "metadata": {},
   "outputs": [
    {
     "name": "stdout",
     "output_type": "stream",
     "text": [
      "Coefficients: \n",
      " [938.23786125]\n",
      "Mean squared error: 2548.07\n",
      "Variance score: 0.47\n"
     ]
    },
    {
     "data": {
      "image/png": "[encoded data removed]",
      "text/plain": [
       "<Figure size 432x288 with 1 Axes>"
      ]
     },
     "metadata": {},
     "output_type": "display_data"
    }
   ],
   "source": [
    "# https://scikit-learn.org/stable/auto_examples/linear_model/plot_ols.html#sphx-glr-auto-examples-linear-model-plot-ols-py \n",
    "# Code source: Jaques Grobler\n",
    "# License: BSD 3 clause\n",
    "\n",
    "\n",
    "import matplotlib.pyplot as plt\n",
    "import numpy as np\n",
    "from sklearn import datasets, linear_model\n",
    "from sklearn.metrics import mean_squared_error, r2_score\n",
    "\n",
    "# Load the diabetes dataset\n",
    "diabetes = datasets.load_diabetes()\n",
    "\n",
    "\n",
    "# Use only one feature\n",
    "diabetes_X = diabetes.data[:, np.newaxis, 2]\n",
    "\n",
    "# Split the data into training/testing sets\n",
    "diabetes_X_train = diabetes_X[:-20]\n",
    "diabetes_X_test = diabetes_X[-20:]\n",
    "\n",
    "# Split the targets into training/testing sets\n",
    "diabetes_y_train = diabetes.target[:-20]\n",
    "diabetes_y_test = diabetes.target[-20:]\n",
    "\n",
    "# Create linear regression object\n",
    "regr = linear_model.LinearRegression()\n",
    "\n",
    "# Train the model using the training sets\n",
    "regr.fit(diabetes_X_train, diabetes_y_train)\n",
    "\n",
    "# Make predictions using the testing set\n",
    "diabetes_y_pred = regr.predict(diabetes_X_test)\n",
    "\n",
    "# The coefficients\n",
    "print('Coefficients: \\n', regr.coef_)\n",
    "# The mean squared error\n",
    "print(\"Mean squared error: %.2f\"\n",
    "      % mean_squared_error(diabetes_y_test, diabetes_y_pred))\n",
    "# Explained variance score: 1 is perfect prediction\n",
    "print('Variance score: %.2f' % r2_score(diabetes_y_test, diabetes_y_pred))\n",
    "\n",
    "# Plot outputs\n",
    "plt.scatter(diabetes_X_test, diabetes_y_test,  color='black')\n",
    "plt.plot(diabetes_X_test, diabetes_y_pred, color='blue', linewidth=3)\n",
    "\n",
    "plt.xticks(())\n",
    "plt.yticks(())\n",
    "\n",
    "plt.show()\n"
   ]
  },
  {
   "cell_type": "code",
   "execution_count": 21,
   "metadata": {},
   "outputs": [
    {
     "data": {
      "image/png": "[encoded data removed]",
      "text/plain": [
       "<Figure size 288x216 with 1 Axes>"
      ]
     },
     "metadata": {
      "needs_background": "light"
     },
     "output_type": "display_data"
    }
   ],
   "source": [
    "# https://scikit-learn.org/stable/auto_examples/linear_model/plot_logistic.html#sphx-glr-auto-examples-linear-model-plot-logistic-py\n",
    "# Code source: Gael Varoquaux\n",
    "# License: BSD 3 clause\n",
    "\n",
    "import numpy as np\n",
    "import matplotlib.pyplot as plt\n",
    "\n",
    "from sklearn import linear_model\n",
    "\n",
    "# General a toy dataset:s it's just a straight line with some Gaussian noise:\n",
    "xmin, xmax = -5, 5\n",
    "n_samples = 100\n",
    "np.random.seed(0)\n",
    "X = np.random.normal(size=n_samples)\n",
    "y = (X > 0).astype(np.float)\n",
    "X[X > 0] *= 4\n",
    "X += .3 * np.random.normal(size=n_samples)\n",
    "\n",
    "X = X[:, np.newaxis]\n",
    "\n",
    "# Fit the classifier\n",
    "clf = linear_model.LogisticRegression(C=1e5, solver='lbfgs')\n",
    "clf.fit(X, y)\n",
    "\n",
    "# and plot the result\n",
    "plt.figure(1, figsize=(4, 3))\n",
    "plt.clf()\n",
    "plt.scatter(X.ravel(), y, color='black', zorder=20)\n",
    "X_test = np.linspace(-5, 10, 300)\n",
    "\n",
    "\n",
    "def model(x):\n",
    "    return 1 / (1 + np.exp(-x))\n",
    "\n",
    "\n",
    "loss = model(X_test * clf.coef_ + clf.intercept_).ravel()\n",
    "plt.plot(X_test, loss, color='red', linewidth=3)\n",
    "\n",
    "ols = linear_model.LinearRegression()\n",
    "ols.fit(X, y)\n",
    "plt.plot(X_test, ols.coef_ * X_test + ols.intercept_, linewidth=1)\n",
    "plt.axhline(.5, color='.5')\n",
    "\n",
    "plt.ylabel('y')\n",
    "plt.xlabel('X')\n",
    "plt.xticks(range(-5, 10))\n",
    "plt.yticks([0, 0.5, 1])\n",
    "plt.ylim(-.25, 1.25)\n",
    "plt.xlim(-4, 10)\n",
    "plt.legend(('Logistic Regression Model', 'Linear Regression Model'),\n",
    "           loc=\"lower right\", fontsize='small')\n",
    "plt.tight_layout()\n",
    "plt.show()"
   ]
  },
  {
   "cell_type": "markdown",
   "metadata": {},
   "source": [
    "### tf.get_variable()"
   ]
  },
  {
   "cell_type": "code",
   "execution_count": 22,
   "metadata": {},
   "outputs": [],
   "source": [
    "tf.reset_default_graph()\n",
    "init = tf.truncated_normal([2,1], stddev=.01)\n",
    "w1 = tf.get_variable('w1', initializer=init)\n",
    "#w2 = tf.get_variable('w1', initializer=init)\n",
    "w2 = tf.get_variable('w2', initializer=init)\n",
    "\n",
    "with tf.variable_scope('fc1'):\n",
    "    init = tf.truncated_normal([2,1], stddev=.01)\n",
    "    w = tf.get_variable('w', initializer=init)\n",
    "    \n",
    "with tf.variable_scope('fc2'):\n",
    "    init = tf.truncated_normal([2,1], stddev=.01)\n",
    "    w = tf.get_variable('w', initializer=init)"
   ]
  },
  {
   "cell_type": "code",
   "execution_count": 23,
   "metadata": {},
   "outputs": [
    {
     "data": {
      "text/plain": [
       "[<tf.Variable 'w1:0' shape=(2, 1) dtype=float32_ref>,\n",
       " <tf.Variable 'w2:0' shape=(2, 1) dtype=float32_ref>,\n",
       " <tf.Variable 'fc1/w:0' shape=(2, 1) dtype=float32_ref>,\n",
       " <tf.Variable 'fc2/w:0' shape=(2, 1) dtype=float32_ref>]"
      ]
     },
     "execution_count": 23,
     "metadata": {},
     "output_type": "execute_result"
    }
   ],
   "source": [
    "tf.trainable_variables()"
   ]
  },
  {
   "cell_type": "code",
   "execution_count": null,
   "metadata": {},
   "outputs": [],
   "source": []
  }
 ],
 "metadata": {
  "kernelspec": {
   "display_name": "Python 3",
   "language": "python",
   "name": "python3"
  },
  "language_info": {
   "codemirror_mode": {
    "name": "ipython",
    "version": 3
   },
   "file_extension": ".py",
   "mimetype": "text/x-python",
   "name": "python",
   "nbconvert_exporter": "python",
   "pygments_lexer": "ipython3",
   "version": "3.6.8"
  }
 },
 "nbformat": 4,
 "nbformat_minor": 2
}
