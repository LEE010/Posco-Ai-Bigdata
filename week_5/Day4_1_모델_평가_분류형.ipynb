{
 "cells": [
  {
   "cell_type": "code",
   "execution_count": 1,
   "metadata": {},
   "outputs": [],
   "source": [
    "import pandas as pd\n",
    "import numpy as np\n",
    "from sklearn.preprocessing import scale\n",
    "from sklearn.tree import DecisionTreeClassifier\n",
    "from sklearn.ensemble import RandomForestClassifier\n",
    "from sklearn.ensemble import GradientBoostingClassifier\n",
    "from sklearn.svm import SVC\n",
    "from sklearn.metrics import f1_score"
   ]
  },
  {
   "cell_type": "code",
   "execution_count": 2,
   "metadata": {},
   "outputs": [
    {
     "data": {
      "text/html": [
       "<div>\n",
       "<style scoped>\n",
       "    .dataframe tbody tr th:only-of-type {\n",
       "        vertical-align: middle;\n",
       "    }\n",
       "\n",
       "    .dataframe tbody tr th {\n",
       "        vertical-align: top;\n",
       "    }\n",
       "\n",
       "    .dataframe thead th {\n",
       "        text-align: right;\n",
       "    }\n",
       "</style>\n",
       "<table border=\"1\" class=\"dataframe\">\n",
       "  <thead>\n",
       "    <tr style=\"text-align: right;\">\n",
       "      <th></th>\n",
       "      <th>BAD</th>\n",
       "      <th>LOAN</th>\n",
       "      <th>MORTDUE</th>\n",
       "      <th>VALUE</th>\n",
       "      <th>REASON</th>\n",
       "      <th>JOB</th>\n",
       "      <th>YOJ</th>\n",
       "      <th>DEROG</th>\n",
       "      <th>DELINQ</th>\n",
       "      <th>CLAGE</th>\n",
       "      <th>NINQ</th>\n",
       "      <th>CLNO</th>\n",
       "      <th>DEBTINC</th>\n",
       "    </tr>\n",
       "  </thead>\n",
       "  <tbody>\n",
       "    <tr>\n",
       "      <th>0</th>\n",
       "      <td>1</td>\n",
       "      <td>1700</td>\n",
       "      <td>30548</td>\n",
       "      <td>40320.0</td>\n",
       "      <td>HomeImp</td>\n",
       "      <td>Other</td>\n",
       "      <td>9.0</td>\n",
       "      <td>0</td>\n",
       "      <td>0.0</td>\n",
       "      <td>101.466002</td>\n",
       "      <td>1.0</td>\n",
       "      <td>8</td>\n",
       "      <td>37.113614</td>\n",
       "    </tr>\n",
       "    <tr>\n",
       "      <th>1</th>\n",
       "      <td>1</td>\n",
       "      <td>1800</td>\n",
       "      <td>28502</td>\n",
       "      <td>43034.0</td>\n",
       "      <td>HomeImp</td>\n",
       "      <td>Other</td>\n",
       "      <td>11.0</td>\n",
       "      <td>0</td>\n",
       "      <td>0.0</td>\n",
       "      <td>88.766030</td>\n",
       "      <td>0.0</td>\n",
       "      <td>8</td>\n",
       "      <td>36.884894</td>\n",
       "    </tr>\n",
       "    <tr>\n",
       "      <th>2</th>\n",
       "      <td>0</td>\n",
       "      <td>2300</td>\n",
       "      <td>102370</td>\n",
       "      <td>120953.0</td>\n",
       "      <td>HomeImp</td>\n",
       "      <td>Office</td>\n",
       "      <td>2.0</td>\n",
       "      <td>0</td>\n",
       "      <td>0.0</td>\n",
       "      <td>90.992533</td>\n",
       "      <td>0.0</td>\n",
       "      <td>13</td>\n",
       "      <td>31.588503</td>\n",
       "    </tr>\n",
       "    <tr>\n",
       "      <th>3</th>\n",
       "      <td>1</td>\n",
       "      <td>2400</td>\n",
       "      <td>34863</td>\n",
       "      <td>47471.0</td>\n",
       "      <td>HomeImp</td>\n",
       "      <td>Mgr</td>\n",
       "      <td>12.0</td>\n",
       "      <td>0</td>\n",
       "      <td>0.0</td>\n",
       "      <td>70.491080</td>\n",
       "      <td>1.0</td>\n",
       "      <td>21</td>\n",
       "      <td>38.263601</td>\n",
       "    </tr>\n",
       "    <tr>\n",
       "      <th>4</th>\n",
       "      <td>0</td>\n",
       "      <td>2400</td>\n",
       "      <td>98449</td>\n",
       "      <td>117195.0</td>\n",
       "      <td>HomeImp</td>\n",
       "      <td>Office</td>\n",
       "      <td>4.0</td>\n",
       "      <td>0</td>\n",
       "      <td>0.0</td>\n",
       "      <td>93.811775</td>\n",
       "      <td>0.0</td>\n",
       "      <td>13</td>\n",
       "      <td>29.681827</td>\n",
       "    </tr>\n",
       "  </tbody>\n",
       "</table>\n",
       "</div>"
      ],
      "text/plain": [
       "   BAD  LOAN  MORTDUE     VALUE   REASON     JOB   YOJ  DEROG  DELINQ  \\\n",
       "0    1  1700    30548   40320.0  HomeImp   Other   9.0      0     0.0   \n",
       "1    1  1800    28502   43034.0  HomeImp   Other  11.0      0     0.0   \n",
       "2    0  2300   102370  120953.0  HomeImp  Office   2.0      0     0.0   \n",
       "3    1  2400    34863   47471.0  HomeImp     Mgr  12.0      0     0.0   \n",
       "4    0  2400    98449  117195.0  HomeImp  Office   4.0      0     0.0   \n",
       "\n",
       "        CLAGE  NINQ  CLNO    DEBTINC  \n",
       "0  101.466002   1.0     8  37.113614  \n",
       "1   88.766030   0.0     8  36.884894  \n",
       "2   90.992533   0.0    13  31.588503  \n",
       "3   70.491080   1.0    21  38.263601  \n",
       "4   93.811775   0.0    13  29.681827  "
      ]
     },
     "execution_count": 2,
     "metadata": {},
     "output_type": "execute_result"
    }
   ],
   "source": [
    "data = pd.read_csv(\"./HMEQ.csv\", engine=\"python\")\n",
    "data.head()"
   ]
  },
  {
   "cell_type": "code",
   "execution_count": 3,
   "metadata": {},
   "outputs": [
    {
     "data": {
      "text/plain": [
       "BAD          0\n",
       "LOAN         0\n",
       "MORTDUE      0\n",
       "VALUE       14\n",
       "REASON       0\n",
       "JOB         81\n",
       "YOJ        205\n",
       "DEROG        0\n",
       "DELINQ      30\n",
       "CLAGE       37\n",
       "NINQ        56\n",
       "CLNO         0\n",
       "DEBTINC      0\n",
       "dtype: int64"
      ]
     },
     "execution_count": 3,
     "metadata": {},
     "output_type": "execute_result"
    }
   ],
   "source": [
    "data.isnull().sum(axis=0)"
   ]
  },
  {
   "cell_type": "code",
   "execution_count": 4,
   "metadata": {},
   "outputs": [],
   "source": [
    "data.JOB.fillna(\"Other\",inplace=True)\n",
    "data.fillna(data.mean(), inplace=True)"
   ]
  },
  {
   "cell_type": "code",
   "execution_count": 5,
   "metadata": {},
   "outputs": [
    {
     "data": {
      "text/html": [
       "<div>\n",
       "<style scoped>\n",
       "    .dataframe tbody tr th:only-of-type {\n",
       "        vertical-align: middle;\n",
       "    }\n",
       "\n",
       "    .dataframe tbody tr th {\n",
       "        vertical-align: top;\n",
       "    }\n",
       "\n",
       "    .dataframe thead th {\n",
       "        text-align: right;\n",
       "    }\n",
       "</style>\n",
       "<table border=\"1\" class=\"dataframe\">\n",
       "  <thead>\n",
       "    <tr style=\"text-align: right;\">\n",
       "      <th></th>\n",
       "      <th>BAD</th>\n",
       "      <th>LOAN</th>\n",
       "      <th>MORTDUE</th>\n",
       "      <th>VALUE</th>\n",
       "      <th>YOJ</th>\n",
       "      <th>DEROG</th>\n",
       "      <th>DELINQ</th>\n",
       "      <th>CLAGE</th>\n",
       "      <th>NINQ</th>\n",
       "      <th>CLNO</th>\n",
       "      <th>DEBTINC</th>\n",
       "      <th>REASON_DebtCon</th>\n",
       "      <th>REASON_HomeImp</th>\n",
       "      <th>JOB_Mgr</th>\n",
       "      <th>JOB_Office</th>\n",
       "      <th>JOB_Other</th>\n",
       "      <th>JOB_ProfExe</th>\n",
       "      <th>JOB_Sales</th>\n",
       "      <th>JOB_Self</th>\n",
       "    </tr>\n",
       "  </thead>\n",
       "  <tbody>\n",
       "    <tr>\n",
       "      <th>0</th>\n",
       "      <td>1</td>\n",
       "      <td>1700</td>\n",
       "      <td>30548</td>\n",
       "      <td>40320.0</td>\n",
       "      <td>9.0</td>\n",
       "      <td>0</td>\n",
       "      <td>0.0</td>\n",
       "      <td>101.466002</td>\n",
       "      <td>1.0</td>\n",
       "      <td>8</td>\n",
       "      <td>37.113614</td>\n",
       "      <td>0</td>\n",
       "      <td>1</td>\n",
       "      <td>0</td>\n",
       "      <td>0</td>\n",
       "      <td>1</td>\n",
       "      <td>0</td>\n",
       "      <td>0</td>\n",
       "      <td>0</td>\n",
       "    </tr>\n",
       "    <tr>\n",
       "      <th>1</th>\n",
       "      <td>1</td>\n",
       "      <td>1800</td>\n",
       "      <td>28502</td>\n",
       "      <td>43034.0</td>\n",
       "      <td>11.0</td>\n",
       "      <td>0</td>\n",
       "      <td>0.0</td>\n",
       "      <td>88.766030</td>\n",
       "      <td>0.0</td>\n",
       "      <td>8</td>\n",
       "      <td>36.884894</td>\n",
       "      <td>0</td>\n",
       "      <td>1</td>\n",
       "      <td>0</td>\n",
       "      <td>0</td>\n",
       "      <td>1</td>\n",
       "      <td>0</td>\n",
       "      <td>0</td>\n",
       "      <td>0</td>\n",
       "    </tr>\n",
       "    <tr>\n",
       "      <th>2</th>\n",
       "      <td>0</td>\n",
       "      <td>2300</td>\n",
       "      <td>102370</td>\n",
       "      <td>120953.0</td>\n",
       "      <td>2.0</td>\n",
       "      <td>0</td>\n",
       "      <td>0.0</td>\n",
       "      <td>90.992533</td>\n",
       "      <td>0.0</td>\n",
       "      <td>13</td>\n",
       "      <td>31.588503</td>\n",
       "      <td>0</td>\n",
       "      <td>1</td>\n",
       "      <td>0</td>\n",
       "      <td>1</td>\n",
       "      <td>0</td>\n",
       "      <td>0</td>\n",
       "      <td>0</td>\n",
       "      <td>0</td>\n",
       "    </tr>\n",
       "    <tr>\n",
       "      <th>3</th>\n",
       "      <td>1</td>\n",
       "      <td>2400</td>\n",
       "      <td>34863</td>\n",
       "      <td>47471.0</td>\n",
       "      <td>12.0</td>\n",
       "      <td>0</td>\n",
       "      <td>0.0</td>\n",
       "      <td>70.491080</td>\n",
       "      <td>1.0</td>\n",
       "      <td>21</td>\n",
       "      <td>38.263601</td>\n",
       "      <td>0</td>\n",
       "      <td>1</td>\n",
       "      <td>1</td>\n",
       "      <td>0</td>\n",
       "      <td>0</td>\n",
       "      <td>0</td>\n",
       "      <td>0</td>\n",
       "      <td>0</td>\n",
       "    </tr>\n",
       "    <tr>\n",
       "      <th>4</th>\n",
       "      <td>0</td>\n",
       "      <td>2400</td>\n",
       "      <td>98449</td>\n",
       "      <td>117195.0</td>\n",
       "      <td>4.0</td>\n",
       "      <td>0</td>\n",
       "      <td>0.0</td>\n",
       "      <td>93.811775</td>\n",
       "      <td>0.0</td>\n",
       "      <td>13</td>\n",
       "      <td>29.681827</td>\n",
       "      <td>0</td>\n",
       "      <td>1</td>\n",
       "      <td>0</td>\n",
       "      <td>1</td>\n",
       "      <td>0</td>\n",
       "      <td>0</td>\n",
       "      <td>0</td>\n",
       "      <td>0</td>\n",
       "    </tr>\n",
       "  </tbody>\n",
       "</table>\n",
       "</div>"
      ],
      "text/plain": [
       "   BAD  LOAN  MORTDUE     VALUE   YOJ  DEROG  DELINQ       CLAGE  NINQ  CLNO  \\\n",
       "0    1  1700    30548   40320.0   9.0      0     0.0  101.466002   1.0     8   \n",
       "1    1  1800    28502   43034.0  11.0      0     0.0   88.766030   0.0     8   \n",
       "2    0  2300   102370  120953.0   2.0      0     0.0   90.992533   0.0    13   \n",
       "3    1  2400    34863   47471.0  12.0      0     0.0   70.491080   1.0    21   \n",
       "4    0  2400    98449  117195.0   4.0      0     0.0   93.811775   0.0    13   \n",
       "\n",
       "     DEBTINC  REASON_DebtCon  REASON_HomeImp  JOB_Mgr  JOB_Office  JOB_Other  \\\n",
       "0  37.113614               0               1        0           0          1   \n",
       "1  36.884894               0               1        0           0          1   \n",
       "2  31.588503               0               1        0           1          0   \n",
       "3  38.263601               0               1        1           0          0   \n",
       "4  29.681827               0               1        0           1          0   \n",
       "\n",
       "   JOB_ProfExe  JOB_Sales  JOB_Self  \n",
       "0            0          0         0  \n",
       "1            0          0         0  \n",
       "2            0          0         0  \n",
       "3            0          0         0  \n",
       "4            0          0         0  "
      ]
     },
     "execution_count": 5,
     "metadata": {},
     "output_type": "execute_result"
    }
   ],
   "source": [
    "data_dummy = pd.get_dummies(data)\n",
    "data_dummy.head()"
   ]
  },
  {
   "cell_type": "code",
   "execution_count": 6,
   "metadata": {},
   "outputs": [
    {
     "name": "stdout",
     "output_type": "stream",
     "text": [
      "train data X size: (2604, 18)\n",
      "train data Y size: (2604,)\n",
      "test data X size: (1144, 18)\n",
      "test data Y size: (1144,)\n"
     ]
    }
   ],
   "source": [
    "np.random.seed(seed=1234)\n",
    "msk = np.random.rand(data_dummy.shape[0]) < 0.7\n",
    "df_train = data_dummy[msk]\n",
    "df_test = data_dummy[~msk]\n",
    "\n",
    "df_train_y = df_train[\"BAD\"]\n",
    "df_train_x = df_train.drop(\"BAD\",axis=1)\n",
    "\n",
    "df_test_y = df_test[\"BAD\"]\n",
    "df_test_x = df_test.drop(\"BAD\",axis=1)\n",
    "\n",
    "print(\"train data X size: {}\".format(df_train_x.shape))\n",
    "print(\"train data Y size: {}\".format(df_train_y.shape))\n",
    "print(\"test data X size: {}\".format(df_test_x.shape))\n",
    "print(\"test data Y size: {}\".format(df_test_y.shape))"
   ]
  },
  {
   "cell_type": "code",
   "execution_count": 7,
   "metadata": {},
   "outputs": [
    {
     "name": "stderr",
     "output_type": "stream",
     "text": [
      "/home/pirl/anaconda3/lib/python3.7/site-packages/ipykernel_launcher.py:1: DataConversionWarning: Data with input dtype uint8, int64, float64 were all converted to float64 by the scale function.\n",
      "  \"\"\"Entry point for launching an IPython kernel.\n",
      "/home/pirl/anaconda3/lib/python3.7/site-packages/ipykernel_launcher.py:2: DataConversionWarning: Data with input dtype uint8, int64, float64 were all converted to float64 by the scale function.\n",
      "  \n"
     ]
    }
   ],
   "source": [
    "df_train_x_scaled = scale(df_train_x)\n",
    "df_test_x_scaled = scale(df_test_x)"
   ]
  },
  {
   "cell_type": "code",
   "execution_count": 8,
   "metadata": {},
   "outputs": [],
   "source": [
    "model = [\"DecisionTree\",'RandomForest','GradientBoosting',\"SVM\"]\n",
    "\n",
    "train_accuracy = []\n",
    "test_accuracy = []\n",
    "\n",
    "model_f1_score = []"
   ]
  },
  {
   "cell_type": "code",
   "execution_count": 9,
   "metadata": {},
   "outputs": [],
   "source": [
    "# DecisionTree\n",
    "tree = DecisionTreeClassifier(criterion=\"gini\",max_depth=10,min_samples_leaf=30,random_state=1234)\n",
    "tree.fit(df_train_x_scaled,df_train_y)\n",
    "\n",
    "train_accuracy.append(tree.score(df_train_x_scaled,df_train_y))\n",
    "test_accuracy.append(tree.score(df_test_x_scaled,df_test_y))\n",
    "\n",
    "model_f1_score.append(f1_score(df_test_y,tree.predict(df_test_x_scaled)))"
   ]
  },
  {
   "cell_type": "code",
   "execution_count": 10,
   "metadata": {},
   "outputs": [],
   "source": [
    "# RandomForest\n",
    "rf = RandomForestClassifier(criterion=\"gini\",n_estimators=500,max_depth=4,min_samples_leaf=30,random_state=1234)\n",
    "rf.fit(df_train_x_scaled,df_train_y)\n",
    "\n",
    "train_accuracy.append(rf.score(df_train_x_scaled,df_train_y))\n",
    "test_accuracy.append(rf.score(df_test_x_scaled,df_test_y))\n",
    "\n",
    "model_f1_score.append(f1_score(df_test_y,rf.predict(df_test_x_scaled)))"
   ]
  },
  {
   "cell_type": "code",
   "execution_count": 11,
   "metadata": {},
   "outputs": [],
   "source": [
    "# GradientBoostring\n",
    "gb = GradientBoostingClassifier(learning_rate=0.1,max_depth=4,min_samples_leaf=30,n_estimators=5,random_state=1234)\n",
    "gb.fit(df_train_x_scaled,df_train_y)\n",
    "\n",
    "train_accuracy.append(gb.score(df_train_x_scaled,df_train_y))\n",
    "test_accuracy.append(gb.score(df_test_x_scaled,df_test_y))\n",
    "\n",
    "model_f1_score.append(f1_score(df_test_y,gb.predict(df_test_x_scaled)))"
   ]
  },
  {
   "cell_type": "code",
   "execution_count": 12,
   "metadata": {},
   "outputs": [],
   "source": [
    "# SVM\n",
    "svm = SVC(C=6,gamma=0.1,random_state=1234)\n",
    "svm.fit(df_train_x_scaled,df_train_y)\n",
    "\n",
    "train_accuracy.append(svm.score(df_train_x_scaled,df_train_y))\n",
    "test_accuracy.append(svm.score(df_test_x_scaled,df_test_y))\n",
    "\n",
    "model_f1_score.append(f1_score(df_test_y,svm.predict(df_test_x_scaled)))"
   ]
  },
  {
   "cell_type": "code",
   "execution_count": 13,
   "metadata": {},
   "outputs": [
    {
     "data": {
      "text/html": [
       "<div>\n",
       "<style scoped>\n",
       "    .dataframe tbody tr th:only-of-type {\n",
       "        vertical-align: middle;\n",
       "    }\n",
       "\n",
       "    .dataframe tbody tr th {\n",
       "        vertical-align: top;\n",
       "    }\n",
       "\n",
       "    .dataframe thead th {\n",
       "        text-align: right;\n",
       "    }\n",
       "</style>\n",
       "<table border=\"1\" class=\"dataframe\">\n",
       "  <thead>\n",
       "    <tr style=\"text-align: right;\">\n",
       "      <th></th>\n",
       "      <th>TrainAccuracy</th>\n",
       "      <th>TestAccuracy</th>\n",
       "      <th>F1Score</th>\n",
       "    </tr>\n",
       "  </thead>\n",
       "  <tbody>\n",
       "    <tr>\n",
       "      <th>DecisionTree</th>\n",
       "      <td>0.929</td>\n",
       "      <td>0.927</td>\n",
       "      <td>0.420</td>\n",
       "    </tr>\n",
       "    <tr>\n",
       "      <th>RandomForest</th>\n",
       "      <td>0.925</td>\n",
       "      <td>0.926</td>\n",
       "      <td>0.298</td>\n",
       "    </tr>\n",
       "    <tr>\n",
       "      <th>GradientBoosting</th>\n",
       "      <td>0.922</td>\n",
       "      <td>0.922</td>\n",
       "      <td>0.239</td>\n",
       "    </tr>\n",
       "    <tr>\n",
       "      <th>SVM</th>\n",
       "      <td>0.981</td>\n",
       "      <td>0.957</td>\n",
       "      <td>0.692</td>\n",
       "    </tr>\n",
       "  </tbody>\n",
       "</table>\n",
       "</div>"
      ],
      "text/plain": [
       "                  TrainAccuracy  TestAccuracy  F1Score\n",
       "DecisionTree              0.929         0.927    0.420\n",
       "RandomForest              0.925         0.926    0.298\n",
       "GradientBoosting          0.922         0.922    0.239\n",
       "SVM                       0.981         0.957    0.692"
      ]
     },
     "execution_count": 13,
     "metadata": {},
     "output_type": "execute_result"
    }
   ],
   "source": [
    "df_eval = pd.DataFrame(index=model)\n",
    "df_eval['TrainAccuracy'] = train_accuracy\n",
    "df_eval['TestAccuracy'] = test_accuracy\n",
    "df_eval['F1Score'] = model_f1_score\n",
    "df_eval.round(3)"
   ]
  },
  {
   "cell_type": "code",
   "execution_count": 19,
   "metadata": {},
   "outputs": [
    {
     "data": {
      "text/plain": [
       "<matplotlib.axes._subplots.AxesSubplot at 0x7fbf457d0e10>"
      ]
     },
     "execution_count": 19,
     "metadata": {},
     "output_type": "execute_result"
    },
    {
     "data": {
      "image/png": "[encoded data removed]",
      "text/plain": [
       "<Figure size 432x288 with 1 Axes>"
      ]
     },
     "metadata": {
      "needs_background": "light"
     },
     "output_type": "display_data"
    }
   ],
   "source": [
    "df_eval.plot.bar(rot=1)"
   ]
  }
 ],
 "metadata": {
  "kernelspec": {
   "display_name": "Python 3",
   "language": "python",
   "name": "python3"
  },
  "language_info": {
   "codemirror_mode": {
    "name": "ipython",
    "version": 3
   },
   "file_extension": ".py",
   "mimetype": "text/x-python",
   "name": "python",
   "nbconvert_exporter": "python",
   "pygments_lexer": "ipython3",
   "version": "3.7.1"
  }
 },
 "nbformat": 4,
 "nbformat_minor": 2
}
