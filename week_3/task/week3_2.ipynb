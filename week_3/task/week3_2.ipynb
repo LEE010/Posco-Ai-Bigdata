{
 "cells": [
  {
   "cell_type": "code",
   "execution_count": 1,
   "metadata": {},
   "outputs": [],
   "source": [
    "import numpy as np\n",
    "import pandas as pd\n",
    "from scipy import stats\n",
    "import matplotlib.pyplot as plt\n",
    "import seaborn as sns\n",
    "import statsmodels.api as sm\n",
    "from statsmodels.stats.proportion import proportions_ztest\n",
    "from sklearn import linear_model"
   ]
  },
  {
   "cell_type": "markdown",
   "metadata": {},
   "source": [
    "---"
   ]
  },
  {
   "cell_type": "markdown",
   "metadata": {},
   "source": [
    "# 기술 통계"
   ]
  },
  {
   "cell_type": "markdown",
   "metadata": {},
   "source": [
    ">1. 중심/산포 척도\n",
    ">> * 산수평균, 중앙값, 최빈값\n",
    ">> * Range, 분산, 표준편차\n",
    ">2. 범주형 데이터에 계산\n",
    ">> * counts, percents, cumulative counts, cumulative percents"
   ]
  },
  {
   "cell_type": "markdown",
   "metadata": {},
   "source": [
    "## 정의"
   ]
  },
  {
   "cell_type": "markdown",
   "metadata": {},
   "source": [
    "수집된 데이터로부터 ***평균, 분산 등의 요약 통계량*** 이나 ***그래프***를 이용하여 체계적으로 정리/요약 하여 ***전반적 특성***을 파악하는 것"
   ]
  },
  {
   "cell_type": "markdown",
   "metadata": {},
   "source": [
    "## 활용 용도"
   ]
  },
  {
   "cell_type": "markdown",
   "metadata": {},
   "source": [
    "* 데이터의 중심적 경향 파악 - 중심척도(Central Tendency)\n",
    ">* 평균(mean)\n",
    ">* 중앙값(median) \n",
    ">* 최빈값(mode)\n",
    "* 데이터의 퍼짐 정도(Spread) - 산포척도(Degree of Dispersion)\n",
    ">* 표준편차(Standard Deviation)\n",
    ">* 분산(Variance)\n",
    ">* 범위(Range)\n",
    ">* 사분위 범위(inter-quartile range)\n",
    "* 데이터의 분포모양 확인 - 분포모양(Shape)\n",
    ">* 왜도(Skewness)\n",
    ">* 첨도(Kurtosis)"
   ]
  },
  {
   "cell_type": "markdown",
   "metadata": {},
   "source": [
    "---"
   ]
  },
  {
   "cell_type": "markdown",
   "metadata": {},
   "source": [
    "## 중심/산포 척도"
   ]
  },
  {
   "cell_type": "markdown",
   "metadata": {},
   "source": [
    "### 중심척도"
   ]
  },
  {
   "cell_type": "markdown",
   "metadata": {},
   "source": [
    "* 산술평균(Mean)\n",
    ">* 이상치에 대한 영항이 큼\n",
    "* 중앙값(Median)\n",
    ">* 순서대로 정리하여 가운데 위치한 값\n",
    ">* 데이터 수가 짝수 시, 가운데 두 수의 평균값 (1+n)/2\n",
    ">* 이상치에 대한 영향을 거의 받지 않음"
   ]
  },
  {
   "cell_type": "markdown",
   "metadata": {},
   "source": [
    "### 산포척도"
   ]
  },
  {
   "cell_type": "markdown",
   "metadata": {},
   "source": [
    "* 범위(Range; R)\n",
    ">* 이상치에 대한 영향이 큼\n",
    ">> max(x) - min(x)\n",
    "* 표본분산(Sample Variance; s^2)\n",
    "* 표본 표준편차(Sample Standard Deviation; s)\n",
    "* Q3 - Q1\n",
    "> Q1: 1사분위수(25%), Q3: 3사분위수(75%)\n",
    ">> IQR: Interquartile Range: 데이터의 중간 50% 영역"
   ]
  },
  {
   "cell_type": "markdown",
   "metadata": {},
   "source": [
    "---"
   ]
  },
  {
   "cell_type": "markdown",
   "metadata": {},
   "source": [
    "### 실습1 - 기술통계"
   ]
  },
  {
   "cell_type": "markdown",
   "metadata": {},
   "source": [
    "자동차 연비 Data Set에서 기술통계치 구하기\n",
    ">* 시내에서 연비(mpg) 통계치 구하기\n",
    ">> 모델 별 데이터수, 평균, 중앙값, 표준편차, min, max, Q1, Q3"
   ]
  },
  {
   "cell_type": "code",
   "execution_count": 3,
   "metadata": {},
   "outputs": [
    {
     "data": {
      "text/html": [
       "<div>\n",
       "<style scoped>\n",
       "    .dataframe tbody tr th:only-of-type {\n",
       "        vertical-align: middle;\n",
       "    }\n",
       "\n",
       "    .dataframe tbody tr th {\n",
       "        vertical-align: top;\n",
       "    }\n",
       "\n",
       "    .dataframe thead th {\n",
       "        text-align: right;\n",
       "    }\n",
       "</style>\n",
       "<table border=\"1\" class=\"dataframe\">\n",
       "  <thead>\n",
       "    <tr style=\"text-align: right;\">\n",
       "      <th></th>\n",
       "      <th>manufacturer</th>\n",
       "      <th>model</th>\n",
       "      <th>displacement</th>\n",
       "      <th>year</th>\n",
       "      <th>cylinder</th>\n",
       "      <th>automatic</th>\n",
       "      <th>driving</th>\n",
       "      <th>mpg</th>\n",
       "      <th>highway_mileage</th>\n",
       "      <th>fuel</th>\n",
       "      <th>class</th>\n",
       "    </tr>\n",
       "  </thead>\n",
       "  <tbody>\n",
       "    <tr>\n",
       "      <th>0</th>\n",
       "      <td>audi</td>\n",
       "      <td>a4</td>\n",
       "      <td>1.8</td>\n",
       "      <td>1999</td>\n",
       "      <td>4</td>\n",
       "      <td>auto</td>\n",
       "      <td>f</td>\n",
       "      <td>18</td>\n",
       "      <td>29</td>\n",
       "      <td>p</td>\n",
       "      <td>compact</td>\n",
       "    </tr>\n",
       "    <tr>\n",
       "      <th>1</th>\n",
       "      <td>audi</td>\n",
       "      <td>a4</td>\n",
       "      <td>1.8</td>\n",
       "      <td>1999</td>\n",
       "      <td>4</td>\n",
       "      <td>manual</td>\n",
       "      <td>f</td>\n",
       "      <td>21</td>\n",
       "      <td>29</td>\n",
       "      <td>p</td>\n",
       "      <td>compact</td>\n",
       "    </tr>\n",
       "    <tr>\n",
       "      <th>2</th>\n",
       "      <td>audi</td>\n",
       "      <td>a4</td>\n",
       "      <td>2.0</td>\n",
       "      <td>2008</td>\n",
       "      <td>4</td>\n",
       "      <td>manual</td>\n",
       "      <td>f</td>\n",
       "      <td>20</td>\n",
       "      <td>31</td>\n",
       "      <td>p</td>\n",
       "      <td>compact</td>\n",
       "    </tr>\n",
       "  </tbody>\n",
       "</table>\n",
       "</div>"
      ],
      "text/plain": [
       "  manufacturer model  displacement  year  cylinder automatic driving  mpg  \\\n",
       "0         audi    a4           1.8  1999         4      auto       f   18   \n",
       "1         audi    a4           1.8  1999         4    manual       f   21   \n",
       "2         audi    a4           2.0  2008         4    manual       f   20   \n",
       "\n",
       "   highway_mileage fuel    class  \n",
       "0               29    p  compact  \n",
       "1               29    p  compact  \n",
       "2               31    p  compact  "
      ]
     },
     "execution_count": 3,
     "metadata": {},
     "output_type": "execute_result"
    }
   ],
   "source": [
    "cars_data = pd.read_csv('../files/실습화일/mycars.csv', engine='python')\n",
    "cars_data.head(3)"
   ]
  },
  {
   "cell_type": "code",
   "execution_count": 7,
   "metadata": {},
   "outputs": [
    {
     "data": {
      "text/html": [
       "<div>\n",
       "<style scoped>\n",
       "    .dataframe tbody tr th:only-of-type {\n",
       "        vertical-align: middle;\n",
       "    }\n",
       "\n",
       "    .dataframe tbody tr th {\n",
       "        vertical-align: top;\n",
       "    }\n",
       "\n",
       "    .dataframe thead tr th {\n",
       "        text-align: left;\n",
       "    }\n",
       "\n",
       "    .dataframe thead tr:last-of-type th {\n",
       "        text-align: right;\n",
       "    }\n",
       "</style>\n",
       "<table border=\"1\" class=\"dataframe\">\n",
       "  <thead>\n",
       "    <tr>\n",
       "      <th></th>\n",
       "      <th colspan=\"8\" halign=\"left\">mpg</th>\n",
       "    </tr>\n",
       "    <tr>\n",
       "      <th></th>\n",
       "      <th>count</th>\n",
       "      <th>mean</th>\n",
       "      <th>std</th>\n",
       "      <th>min</th>\n",
       "      <th>25%</th>\n",
       "      <th>50%</th>\n",
       "      <th>75%</th>\n",
       "      <th>max</th>\n",
       "    </tr>\n",
       "    <tr>\n",
       "      <th>model</th>\n",
       "      <th></th>\n",
       "      <th></th>\n",
       "      <th></th>\n",
       "      <th></th>\n",
       "      <th></th>\n",
       "      <th></th>\n",
       "      <th></th>\n",
       "      <th></th>\n",
       "    </tr>\n",
       "  </thead>\n",
       "  <tbody>\n",
       "    <tr>\n",
       "      <th>4runner 4wd</th>\n",
       "      <td>6.0</td>\n",
       "      <td>15.166667</td>\n",
       "      <td>0.752773</td>\n",
       "      <td>14.0</td>\n",
       "      <td>15.00</td>\n",
       "      <td>15.0</td>\n",
       "      <td>15.75</td>\n",
       "      <td>16.0</td>\n",
       "    </tr>\n",
       "    <tr>\n",
       "      <th>a4</th>\n",
       "      <td>7.0</td>\n",
       "      <td>18.857143</td>\n",
       "      <td>1.864454</td>\n",
       "      <td>16.0</td>\n",
       "      <td>18.00</td>\n",
       "      <td>18.0</td>\n",
       "      <td>20.50</td>\n",
       "      <td>21.0</td>\n",
       "    </tr>\n",
       "    <tr>\n",
       "      <th>a4 quattro</th>\n",
       "      <td>8.0</td>\n",
       "      <td>17.125000</td>\n",
       "      <td>1.807722</td>\n",
       "      <td>15.0</td>\n",
       "      <td>15.75</td>\n",
       "      <td>17.0</td>\n",
       "      <td>18.25</td>\n",
       "      <td>20.0</td>\n",
       "    </tr>\n",
       "    <tr>\n",
       "      <th>a6 quattro</th>\n",
       "      <td>3.0</td>\n",
       "      <td>16.000000</td>\n",
       "      <td>1.000000</td>\n",
       "      <td>15.0</td>\n",
       "      <td>15.50</td>\n",
       "      <td>16.0</td>\n",
       "      <td>16.50</td>\n",
       "      <td>17.0</td>\n",
       "    </tr>\n",
       "    <tr>\n",
       "      <th>altima</th>\n",
       "      <td>6.0</td>\n",
       "      <td>20.666667</td>\n",
       "      <td>1.966384</td>\n",
       "      <td>19.0</td>\n",
       "      <td>19.00</td>\n",
       "      <td>20.0</td>\n",
       "      <td>22.50</td>\n",
       "      <td>23.0</td>\n",
       "    </tr>\n",
       "    <tr>\n",
       "      <th>c1500 suburban 2wd</th>\n",
       "      <td>5.0</td>\n",
       "      <td>12.800000</td>\n",
       "      <td>1.303840</td>\n",
       "      <td>11.0</td>\n",
       "      <td>12.00</td>\n",
       "      <td>13.0</td>\n",
       "      <td>14.00</td>\n",
       "      <td>14.0</td>\n",
       "    </tr>\n",
       "    <tr>\n",
       "      <th>camry</th>\n",
       "      <td>7.0</td>\n",
       "      <td>19.857143</td>\n",
       "      <td>1.463850</td>\n",
       "      <td>18.0</td>\n",
       "      <td>18.50</td>\n",
       "      <td>21.0</td>\n",
       "      <td>21.00</td>\n",
       "      <td>21.0</td>\n",
       "    </tr>\n",
       "    <tr>\n",
       "      <th>camry solara</th>\n",
       "      <td>7.0</td>\n",
       "      <td>19.857143</td>\n",
       "      <td>1.772811</td>\n",
       "      <td>18.0</td>\n",
       "      <td>18.00</td>\n",
       "      <td>21.0</td>\n",
       "      <td>21.00</td>\n",
       "      <td>22.0</td>\n",
       "    </tr>\n",
       "    <tr>\n",
       "      <th>caravan 2wd</th>\n",
       "      <td>11.0</td>\n",
       "      <td>15.818182</td>\n",
       "      <td>1.834022</td>\n",
       "      <td>11.0</td>\n",
       "      <td>15.50</td>\n",
       "      <td>16.0</td>\n",
       "      <td>17.00</td>\n",
       "      <td>18.0</td>\n",
       "    </tr>\n",
       "    <tr>\n",
       "      <th>civic</th>\n",
       "      <td>9.0</td>\n",
       "      <td>24.444444</td>\n",
       "      <td>1.943651</td>\n",
       "      <td>21.0</td>\n",
       "      <td>24.00</td>\n",
       "      <td>24.0</td>\n",
       "      <td>25.00</td>\n",
       "      <td>28.0</td>\n",
       "    </tr>\n",
       "    <tr>\n",
       "      <th>corolla</th>\n",
       "      <td>5.0</td>\n",
       "      <td>25.600000</td>\n",
       "      <td>1.673320</td>\n",
       "      <td>24.0</td>\n",
       "      <td>24.00</td>\n",
       "      <td>26.0</td>\n",
       "      <td>26.00</td>\n",
       "      <td>28.0</td>\n",
       "    </tr>\n",
       "    <tr>\n",
       "      <th>corvette</th>\n",
       "      <td>5.0</td>\n",
       "      <td>15.400000</td>\n",
       "      <td>0.547723</td>\n",
       "      <td>15.0</td>\n",
       "      <td>15.00</td>\n",
       "      <td>15.0</td>\n",
       "      <td>16.00</td>\n",
       "      <td>16.0</td>\n",
       "    </tr>\n",
       "    <tr>\n",
       "      <th>dakota pickup 4wd</th>\n",
       "      <td>9.0</td>\n",
       "      <td>12.777778</td>\n",
       "      <td>1.986063</td>\n",
       "      <td>9.0</td>\n",
       "      <td>11.00</td>\n",
       "      <td>14.0</td>\n",
       "      <td>14.00</td>\n",
       "      <td>15.0</td>\n",
       "    </tr>\n",
       "    <tr>\n",
       "      <th>durango 4wd</th>\n",
       "      <td>7.0</td>\n",
       "      <td>11.857143</td>\n",
       "      <td>1.573592</td>\n",
       "      <td>9.0</td>\n",
       "      <td>11.00</td>\n",
       "      <td>13.0</td>\n",
       "      <td>13.00</td>\n",
       "      <td>13.0</td>\n",
       "    </tr>\n",
       "    <tr>\n",
       "      <th>expedition 2wd</th>\n",
       "      <td>3.0</td>\n",
       "      <td>11.333333</td>\n",
       "      <td>0.577350</td>\n",
       "      <td>11.0</td>\n",
       "      <td>11.00</td>\n",
       "      <td>11.0</td>\n",
       "      <td>11.50</td>\n",
       "      <td>12.0</td>\n",
       "    </tr>\n",
       "    <tr>\n",
       "      <th>explorer 4wd</th>\n",
       "      <td>6.0</td>\n",
       "      <td>13.666667</td>\n",
       "      <td>0.816497</td>\n",
       "      <td>13.0</td>\n",
       "      <td>13.00</td>\n",
       "      <td>13.5</td>\n",
       "      <td>14.00</td>\n",
       "      <td>15.0</td>\n",
       "    </tr>\n",
       "    <tr>\n",
       "      <th>f150 pickup 4wd</th>\n",
       "      <td>7.0</td>\n",
       "      <td>13.000000</td>\n",
       "      <td>1.000000</td>\n",
       "      <td>11.0</td>\n",
       "      <td>13.00</td>\n",
       "      <td>13.0</td>\n",
       "      <td>13.50</td>\n",
       "      <td>14.0</td>\n",
       "    </tr>\n",
       "    <tr>\n",
       "      <th>forester awd</th>\n",
       "      <td>6.0</td>\n",
       "      <td>18.833333</td>\n",
       "      <td>0.983192</td>\n",
       "      <td>18.0</td>\n",
       "      <td>18.00</td>\n",
       "      <td>18.5</td>\n",
       "      <td>19.75</td>\n",
       "      <td>20.0</td>\n",
       "    </tr>\n",
       "    <tr>\n",
       "      <th>grand cherokee 4wd</th>\n",
       "      <td>8.0</td>\n",
       "      <td>13.500000</td>\n",
       "      <td>2.507133</td>\n",
       "      <td>9.0</td>\n",
       "      <td>12.50</td>\n",
       "      <td>14.0</td>\n",
       "      <td>15.00</td>\n",
       "      <td>17.0</td>\n",
       "    </tr>\n",
       "    <tr>\n",
       "      <th>grand prix</th>\n",
       "      <td>5.0</td>\n",
       "      <td>17.000000</td>\n",
       "      <td>1.000000</td>\n",
       "      <td>16.0</td>\n",
       "      <td>16.00</td>\n",
       "      <td>17.0</td>\n",
       "      <td>18.00</td>\n",
       "      <td>18.0</td>\n",
       "    </tr>\n",
       "    <tr>\n",
       "      <th>gti</th>\n",
       "      <td>5.0</td>\n",
       "      <td>20.000000</td>\n",
       "      <td>2.000000</td>\n",
       "      <td>17.0</td>\n",
       "      <td>19.00</td>\n",
       "      <td>21.0</td>\n",
       "      <td>21.00</td>\n",
       "      <td>22.0</td>\n",
       "    </tr>\n",
       "    <tr>\n",
       "      <th>impreza awd</th>\n",
       "      <td>8.0</td>\n",
       "      <td>19.625000</td>\n",
       "      <td>0.744024</td>\n",
       "      <td>19.0</td>\n",
       "      <td>19.00</td>\n",
       "      <td>19.5</td>\n",
       "      <td>20.00</td>\n",
       "      <td>21.0</td>\n",
       "    </tr>\n",
       "    <tr>\n",
       "      <th>jetta</th>\n",
       "      <td>9.0</td>\n",
       "      <td>21.222222</td>\n",
       "      <td>4.867694</td>\n",
       "      <td>16.0</td>\n",
       "      <td>19.00</td>\n",
       "      <td>21.0</td>\n",
       "      <td>21.00</td>\n",
       "      <td>33.0</td>\n",
       "    </tr>\n",
       "    <tr>\n",
       "      <th>k1500 tahoe 4wd</th>\n",
       "      <td>4.0</td>\n",
       "      <td>12.500000</td>\n",
       "      <td>1.732051</td>\n",
       "      <td>11.0</td>\n",
       "      <td>11.00</td>\n",
       "      <td>12.5</td>\n",
       "      <td>14.00</td>\n",
       "      <td>14.0</td>\n",
       "    </tr>\n",
       "    <tr>\n",
       "      <th>land cruiser wagon 4wd</th>\n",
       "      <td>2.0</td>\n",
       "      <td>12.000000</td>\n",
       "      <td>1.414214</td>\n",
       "      <td>11.0</td>\n",
       "      <td>11.50</td>\n",
       "      <td>12.0</td>\n",
       "      <td>12.50</td>\n",
       "      <td>13.0</td>\n",
       "    </tr>\n",
       "    <tr>\n",
       "      <th>malibu</th>\n",
       "      <td>5.0</td>\n",
       "      <td>18.800000</td>\n",
       "      <td>1.923538</td>\n",
       "      <td>17.0</td>\n",
       "      <td>18.00</td>\n",
       "      <td>18.0</td>\n",
       "      <td>19.00</td>\n",
       "      <td>22.0</td>\n",
       "    </tr>\n",
       "    <tr>\n",
       "      <th>maxima</th>\n",
       "      <td>3.0</td>\n",
       "      <td>18.666667</td>\n",
       "      <td>0.577350</td>\n",
       "      <td>18.0</td>\n",
       "      <td>18.50</td>\n",
       "      <td>19.0</td>\n",
       "      <td>19.00</td>\n",
       "      <td>19.0</td>\n",
       "    </tr>\n",
       "    <tr>\n",
       "      <th>mountaineer 4wd</th>\n",
       "      <td>4.0</td>\n",
       "      <td>13.250000</td>\n",
       "      <td>0.500000</td>\n",
       "      <td>13.0</td>\n",
       "      <td>13.00</td>\n",
       "      <td>13.0</td>\n",
       "      <td>13.25</td>\n",
       "      <td>14.0</td>\n",
       "    </tr>\n",
       "    <tr>\n",
       "      <th>mustang</th>\n",
       "      <td>9.0</td>\n",
       "      <td>15.888889</td>\n",
       "      <td>1.452966</td>\n",
       "      <td>14.0</td>\n",
       "      <td>15.00</td>\n",
       "      <td>15.0</td>\n",
       "      <td>17.00</td>\n",
       "      <td>18.0</td>\n",
       "    </tr>\n",
       "    <tr>\n",
       "      <th>navigator 2wd</th>\n",
       "      <td>3.0</td>\n",
       "      <td>11.333333</td>\n",
       "      <td>0.577350</td>\n",
       "      <td>11.0</td>\n",
       "      <td>11.00</td>\n",
       "      <td>11.0</td>\n",
       "      <td>11.50</td>\n",
       "      <td>12.0</td>\n",
       "    </tr>\n",
       "    <tr>\n",
       "      <th>new beetle</th>\n",
       "      <td>6.0</td>\n",
       "      <td>24.000000</td>\n",
       "      <td>6.511528</td>\n",
       "      <td>19.0</td>\n",
       "      <td>20.00</td>\n",
       "      <td>20.5</td>\n",
       "      <td>27.00</td>\n",
       "      <td>35.0</td>\n",
       "    </tr>\n",
       "    <tr>\n",
       "      <th>passat</th>\n",
       "      <td>7.0</td>\n",
       "      <td>18.571429</td>\n",
       "      <td>1.902379</td>\n",
       "      <td>16.0</td>\n",
       "      <td>17.50</td>\n",
       "      <td>18.0</td>\n",
       "      <td>20.00</td>\n",
       "      <td>21.0</td>\n",
       "    </tr>\n",
       "    <tr>\n",
       "      <th>pathfinder 4wd</th>\n",
       "      <td>4.0</td>\n",
       "      <td>13.750000</td>\n",
       "      <td>1.258306</td>\n",
       "      <td>12.0</td>\n",
       "      <td>13.50</td>\n",
       "      <td>14.0</td>\n",
       "      <td>14.25</td>\n",
       "      <td>15.0</td>\n",
       "    </tr>\n",
       "    <tr>\n",
       "      <th>ram 1500 pickup 4wd</th>\n",
       "      <td>10.0</td>\n",
       "      <td>11.400000</td>\n",
       "      <td>1.505545</td>\n",
       "      <td>9.0</td>\n",
       "      <td>11.00</td>\n",
       "      <td>11.5</td>\n",
       "      <td>12.75</td>\n",
       "      <td>13.0</td>\n",
       "    </tr>\n",
       "    <tr>\n",
       "      <th>range rover</th>\n",
       "      <td>4.0</td>\n",
       "      <td>11.500000</td>\n",
       "      <td>0.577350</td>\n",
       "      <td>11.0</td>\n",
       "      <td>11.00</td>\n",
       "      <td>11.5</td>\n",
       "      <td>12.00</td>\n",
       "      <td>12.0</td>\n",
       "    </tr>\n",
       "    <tr>\n",
       "      <th>sonata</th>\n",
       "      <td>7.0</td>\n",
       "      <td>19.000000</td>\n",
       "      <td>1.414214</td>\n",
       "      <td>18.0</td>\n",
       "      <td>18.00</td>\n",
       "      <td>18.0</td>\n",
       "      <td>20.00</td>\n",
       "      <td>21.0</td>\n",
       "    </tr>\n",
       "    <tr>\n",
       "      <th>tiburon</th>\n",
       "      <td>7.0</td>\n",
       "      <td>18.285714</td>\n",
       "      <td>1.603567</td>\n",
       "      <td>16.0</td>\n",
       "      <td>17.00</td>\n",
       "      <td>19.0</td>\n",
       "      <td>19.50</td>\n",
       "      <td>20.0</td>\n",
       "    </tr>\n",
       "    <tr>\n",
       "      <th>toyota tacoma 4wd</th>\n",
       "      <td>7.0</td>\n",
       "      <td>15.571429</td>\n",
       "      <td>0.786796</td>\n",
       "      <td>15.0</td>\n",
       "      <td>15.00</td>\n",
       "      <td>15.0</td>\n",
       "      <td>16.00</td>\n",
       "      <td>17.0</td>\n",
       "    </tr>\n",
       "  </tbody>\n",
       "</table>\n",
       "</div>"
      ],
      "text/plain": [
       "                         mpg                                                 \\\n",
       "                       count       mean       std   min    25%   50%    75%   \n",
       "model                                                                         \n",
       "4runner 4wd              6.0  15.166667  0.752773  14.0  15.00  15.0  15.75   \n",
       "a4                       7.0  18.857143  1.864454  16.0  18.00  18.0  20.50   \n",
       "a4 quattro               8.0  17.125000  1.807722  15.0  15.75  17.0  18.25   \n",
       "a6 quattro               3.0  16.000000  1.000000  15.0  15.50  16.0  16.50   \n",
       "altima                   6.0  20.666667  1.966384  19.0  19.00  20.0  22.50   \n",
       "c1500 suburban 2wd       5.0  12.800000  1.303840  11.0  12.00  13.0  14.00   \n",
       "camry                    7.0  19.857143  1.463850  18.0  18.50  21.0  21.00   \n",
       "camry solara             7.0  19.857143  1.772811  18.0  18.00  21.0  21.00   \n",
       "caravan 2wd             11.0  15.818182  1.834022  11.0  15.50  16.0  17.00   \n",
       "civic                    9.0  24.444444  1.943651  21.0  24.00  24.0  25.00   \n",
       "corolla                  5.0  25.600000  1.673320  24.0  24.00  26.0  26.00   \n",
       "corvette                 5.0  15.400000  0.547723  15.0  15.00  15.0  16.00   \n",
       "dakota pickup 4wd        9.0  12.777778  1.986063   9.0  11.00  14.0  14.00   \n",
       "durango 4wd              7.0  11.857143  1.573592   9.0  11.00  13.0  13.00   \n",
       "expedition 2wd           3.0  11.333333  0.577350  11.0  11.00  11.0  11.50   \n",
       "explorer 4wd             6.0  13.666667  0.816497  13.0  13.00  13.5  14.00   \n",
       "f150 pickup 4wd          7.0  13.000000  1.000000  11.0  13.00  13.0  13.50   \n",
       "forester awd             6.0  18.833333  0.983192  18.0  18.00  18.5  19.75   \n",
       "grand cherokee 4wd       8.0  13.500000  2.507133   9.0  12.50  14.0  15.00   \n",
       "grand prix               5.0  17.000000  1.000000  16.0  16.00  17.0  18.00   \n",
       "gti                      5.0  20.000000  2.000000  17.0  19.00  21.0  21.00   \n",
       "impreza awd              8.0  19.625000  0.744024  19.0  19.00  19.5  20.00   \n",
       "jetta                    9.0  21.222222  4.867694  16.0  19.00  21.0  21.00   \n",
       "k1500 tahoe 4wd          4.0  12.500000  1.732051  11.0  11.00  12.5  14.00   \n",
       "land cruiser wagon 4wd   2.0  12.000000  1.414214  11.0  11.50  12.0  12.50   \n",
       "malibu                   5.0  18.800000  1.923538  17.0  18.00  18.0  19.00   \n",
       "maxima                   3.0  18.666667  0.577350  18.0  18.50  19.0  19.00   \n",
       "mountaineer 4wd          4.0  13.250000  0.500000  13.0  13.00  13.0  13.25   \n",
       "mustang                  9.0  15.888889  1.452966  14.0  15.00  15.0  17.00   \n",
       "navigator 2wd            3.0  11.333333  0.577350  11.0  11.00  11.0  11.50   \n",
       "new beetle               6.0  24.000000  6.511528  19.0  20.00  20.5  27.00   \n",
       "passat                   7.0  18.571429  1.902379  16.0  17.50  18.0  20.00   \n",
       "pathfinder 4wd           4.0  13.750000  1.258306  12.0  13.50  14.0  14.25   \n",
       "ram 1500 pickup 4wd     10.0  11.400000  1.505545   9.0  11.00  11.5  12.75   \n",
       "range rover              4.0  11.500000  0.577350  11.0  11.00  11.5  12.00   \n",
       "sonata                   7.0  19.000000  1.414214  18.0  18.00  18.0  20.00   \n",
       "tiburon                  7.0  18.285714  1.603567  16.0  17.00  19.0  19.50   \n",
       "toyota tacoma 4wd        7.0  15.571429  0.786796  15.0  15.00  15.0  16.00   \n",
       "\n",
       "                              \n",
       "                         max  \n",
       "model                         \n",
       "4runner 4wd             16.0  \n",
       "a4                      21.0  \n",
       "a4 quattro              20.0  \n",
       "a6 quattro              17.0  \n",
       "altima                  23.0  \n",
       "c1500 suburban 2wd      14.0  \n",
       "camry                   21.0  \n",
       "camry solara            22.0  \n",
       "caravan 2wd             18.0  \n",
       "civic                   28.0  \n",
       "corolla                 28.0  \n",
       "corvette                16.0  \n",
       "dakota pickup 4wd       15.0  \n",
       "durango 4wd             13.0  \n",
       "expedition 2wd          12.0  \n",
       "explorer 4wd            15.0  \n",
       "f150 pickup 4wd         14.0  \n",
       "forester awd            20.0  \n",
       "grand cherokee 4wd      17.0  \n",
       "grand prix              18.0  \n",
       "gti                     22.0  \n",
       "impreza awd             21.0  \n",
       "jetta                   33.0  \n",
       "k1500 tahoe 4wd         14.0  \n",
       "land cruiser wagon 4wd  13.0  \n",
       "malibu                  22.0  \n",
       "maxima                  19.0  \n",
       "mountaineer 4wd         14.0  \n",
       "mustang                 18.0  \n",
       "navigator 2wd           12.0  \n",
       "new beetle              35.0  \n",
       "passat                  21.0  \n",
       "pathfinder 4wd          15.0  \n",
       "ram 1500 pickup 4wd     13.0  \n",
       "range rover             12.0  \n",
       "sonata                  21.0  \n",
       "tiburon                 20.0  \n",
       "toyota tacoma 4wd       17.0  "
      ]
     },
     "execution_count": 7,
     "metadata": {},
     "output_type": "execute_result"
    }
   ],
   "source": [
    "cars_data[['mpg','model']].groupby('model').describe()"
   ]
  },
  {
   "cell_type": "markdown",
   "metadata": {},
   "source": [
    ">* 시내에서 연비(mpg) 통계치 구하기\n",
    ">> 구동 방식별 데이터 수, 평균, 중앙값, 표준편차, min, max, Q1, Q3"
   ]
  },
  {
   "cell_type": "code",
   "execution_count": 8,
   "metadata": {},
   "outputs": [
    {
     "data": {
      "text/html": [
       "<div>\n",
       "<style scoped>\n",
       "    .dataframe tbody tr th:only-of-type {\n",
       "        vertical-align: middle;\n",
       "    }\n",
       "\n",
       "    .dataframe tbody tr th {\n",
       "        vertical-align: top;\n",
       "    }\n",
       "\n",
       "    .dataframe thead tr th {\n",
       "        text-align: left;\n",
       "    }\n",
       "\n",
       "    .dataframe thead tr:last-of-type th {\n",
       "        text-align: right;\n",
       "    }\n",
       "</style>\n",
       "<table border=\"1\" class=\"dataframe\">\n",
       "  <thead>\n",
       "    <tr>\n",
       "      <th></th>\n",
       "      <th colspan=\"8\" halign=\"left\">mpg</th>\n",
       "    </tr>\n",
       "    <tr>\n",
       "      <th></th>\n",
       "      <th>count</th>\n",
       "      <th>mean</th>\n",
       "      <th>std</th>\n",
       "      <th>min</th>\n",
       "      <th>25%</th>\n",
       "      <th>50%</th>\n",
       "      <th>75%</th>\n",
       "      <th>max</th>\n",
       "    </tr>\n",
       "    <tr>\n",
       "      <th>automatic</th>\n",
       "      <th></th>\n",
       "      <th></th>\n",
       "      <th></th>\n",
       "      <th></th>\n",
       "      <th></th>\n",
       "      <th></th>\n",
       "      <th></th>\n",
       "      <th></th>\n",
       "    </tr>\n",
       "  </thead>\n",
       "  <tbody>\n",
       "    <tr>\n",
       "      <th>auto</th>\n",
       "      <td>157.0</td>\n",
       "      <td>15.968153</td>\n",
       "      <td>3.848777</td>\n",
       "      <td>9.0</td>\n",
       "      <td>13.0</td>\n",
       "      <td>16.0</td>\n",
       "      <td>18.0</td>\n",
       "      <td>29.0</td>\n",
       "    </tr>\n",
       "    <tr>\n",
       "      <th>manual</th>\n",
       "      <td>77.0</td>\n",
       "      <td>18.675325</td>\n",
       "      <td>4.488118</td>\n",
       "      <td>9.0</td>\n",
       "      <td>15.0</td>\n",
       "      <td>18.0</td>\n",
       "      <td>21.0</td>\n",
       "      <td>35.0</td>\n",
       "    </tr>\n",
       "  </tbody>\n",
       "</table>\n",
       "</div>"
      ],
      "text/plain": [
       "             mpg                                                  \n",
       "           count       mean       std  min   25%   50%   75%   max\n",
       "automatic                                                         \n",
       "auto       157.0  15.968153  3.848777  9.0  13.0  16.0  18.0  29.0\n",
       "manual      77.0  18.675325  4.488118  9.0  15.0  18.0  21.0  35.0"
      ]
     },
     "execution_count": 8,
     "metadata": {},
     "output_type": "execute_result"
    }
   ],
   "source": [
    "cars_data[['mpg','automatic']].groupby('automatic').describe()"
   ]
  },
  {
   "cell_type": "markdown",
   "metadata": {},
   "source": [
    "---"
   ]
  },
  {
   "cell_type": "markdown",
   "metadata": {},
   "source": [
    "### 실습2 - 기술통계"
   ]
  },
  {
   "cell_type": "markdown",
   "metadata": {},
   "source": [
    "자동차 연비 Data Set에서 기술통계치 구하기\n",
    ">* 자동차의 모델과 연비에 범주형 데이터에 대해 counts, percents, cumulative counts, cumulative percents를 계산하시오"
   ]
  },
  {
   "cell_type": "code",
   "execution_count": 15,
   "metadata": {},
   "outputs": [
    {
     "data": {
      "text/html": [
       "<div>\n",
       "<style scoped>\n",
       "    .dataframe tbody tr th:only-of-type {\n",
       "        vertical-align: middle;\n",
       "    }\n",
       "\n",
       "    .dataframe tbody tr th {\n",
       "        vertical-align: top;\n",
       "    }\n",
       "\n",
       "    .dataframe thead th {\n",
       "        text-align: right;\n",
       "    }\n",
       "</style>\n",
       "<table border=\"1\" class=\"dataframe\">\n",
       "  <thead>\n",
       "    <tr style=\"text-align: right;\">\n",
       "      <th>Model</th>\n",
       "      <th>Count</th>\n",
       "      <th>CumCnt</th>\n",
       "      <th>Percent</th>\n",
       "      <th>CumPct</th>\n",
       "    </tr>\n",
       "  </thead>\n",
       "  <tbody>\n",
       "    <tr>\n",
       "      <th>caravan 2wd</th>\n",
       "      <td>11</td>\n",
       "      <td>11</td>\n",
       "      <td>4.700855</td>\n",
       "      <td>4.700855</td>\n",
       "    </tr>\n",
       "    <tr>\n",
       "      <th>ram 1500 pickup 4wd</th>\n",
       "      <td>10</td>\n",
       "      <td>21</td>\n",
       "      <td>4.273504</td>\n",
       "      <td>8.974359</td>\n",
       "    </tr>\n",
       "    <tr>\n",
       "      <th>mustang</th>\n",
       "      <td>9</td>\n",
       "      <td>30</td>\n",
       "      <td>3.846154</td>\n",
       "      <td>12.820513</td>\n",
       "    </tr>\n",
       "    <tr>\n",
       "      <th>jetta</th>\n",
       "      <td>9</td>\n",
       "      <td>39</td>\n",
       "      <td>3.846154</td>\n",
       "      <td>16.666667</td>\n",
       "    </tr>\n",
       "    <tr>\n",
       "      <th>civic</th>\n",
       "      <td>9</td>\n",
       "      <td>48</td>\n",
       "      <td>3.846154</td>\n",
       "      <td>20.512821</td>\n",
       "    </tr>\n",
       "    <tr>\n",
       "      <th>dakota pickup 4wd</th>\n",
       "      <td>9</td>\n",
       "      <td>57</td>\n",
       "      <td>3.846154</td>\n",
       "      <td>24.358974</td>\n",
       "    </tr>\n",
       "    <tr>\n",
       "      <th>grand cherokee 4wd</th>\n",
       "      <td>8</td>\n",
       "      <td>65</td>\n",
       "      <td>3.418803</td>\n",
       "      <td>27.777778</td>\n",
       "    </tr>\n",
       "    <tr>\n",
       "      <th>a4 quattro</th>\n",
       "      <td>8</td>\n",
       "      <td>73</td>\n",
       "      <td>3.418803</td>\n",
       "      <td>31.196581</td>\n",
       "    </tr>\n",
       "    <tr>\n",
       "      <th>impreza awd</th>\n",
       "      <td>8</td>\n",
       "      <td>81</td>\n",
       "      <td>3.418803</td>\n",
       "      <td>34.615385</td>\n",
       "    </tr>\n",
       "    <tr>\n",
       "      <th>passat</th>\n",
       "      <td>7</td>\n",
       "      <td>88</td>\n",
       "      <td>2.991453</td>\n",
       "      <td>37.606838</td>\n",
       "    </tr>\n",
       "    <tr>\n",
       "      <th>durango 4wd</th>\n",
       "      <td>7</td>\n",
       "      <td>95</td>\n",
       "      <td>2.991453</td>\n",
       "      <td>40.598291</td>\n",
       "    </tr>\n",
       "    <tr>\n",
       "      <th>toyota tacoma 4wd</th>\n",
       "      <td>7</td>\n",
       "      <td>102</td>\n",
       "      <td>2.991453</td>\n",
       "      <td>43.589744</td>\n",
       "    </tr>\n",
       "    <tr>\n",
       "      <th>f150 pickup 4wd</th>\n",
       "      <td>7</td>\n",
       "      <td>109</td>\n",
       "      <td>2.991453</td>\n",
       "      <td>46.581197</td>\n",
       "    </tr>\n",
       "    <tr>\n",
       "      <th>sonata</th>\n",
       "      <td>7</td>\n",
       "      <td>116</td>\n",
       "      <td>2.991453</td>\n",
       "      <td>49.572650</td>\n",
       "    </tr>\n",
       "    <tr>\n",
       "      <th>a4</th>\n",
       "      <td>7</td>\n",
       "      <td>123</td>\n",
       "      <td>2.991453</td>\n",
       "      <td>52.564103</td>\n",
       "    </tr>\n",
       "    <tr>\n",
       "      <th>camry solara</th>\n",
       "      <td>7</td>\n",
       "      <td>130</td>\n",
       "      <td>2.991453</td>\n",
       "      <td>55.555556</td>\n",
       "    </tr>\n",
       "    <tr>\n",
       "      <th>camry</th>\n",
       "      <td>7</td>\n",
       "      <td>137</td>\n",
       "      <td>2.991453</td>\n",
       "      <td>58.547009</td>\n",
       "    </tr>\n",
       "    <tr>\n",
       "      <th>tiburon</th>\n",
       "      <td>7</td>\n",
       "      <td>144</td>\n",
       "      <td>2.991453</td>\n",
       "      <td>61.538462</td>\n",
       "    </tr>\n",
       "    <tr>\n",
       "      <th>explorer 4wd</th>\n",
       "      <td>6</td>\n",
       "      <td>150</td>\n",
       "      <td>2.564103</td>\n",
       "      <td>64.102564</td>\n",
       "    </tr>\n",
       "    <tr>\n",
       "      <th>altima</th>\n",
       "      <td>6</td>\n",
       "      <td>156</td>\n",
       "      <td>2.564103</td>\n",
       "      <td>66.666667</td>\n",
       "    </tr>\n",
       "    <tr>\n",
       "      <th>forester awd</th>\n",
       "      <td>6</td>\n",
       "      <td>162</td>\n",
       "      <td>2.564103</td>\n",
       "      <td>69.230769</td>\n",
       "    </tr>\n",
       "    <tr>\n",
       "      <th>4runner 4wd</th>\n",
       "      <td>6</td>\n",
       "      <td>168</td>\n",
       "      <td>2.564103</td>\n",
       "      <td>71.794872</td>\n",
       "    </tr>\n",
       "    <tr>\n",
       "      <th>new beetle</th>\n",
       "      <td>6</td>\n",
       "      <td>174</td>\n",
       "      <td>2.564103</td>\n",
       "      <td>74.358974</td>\n",
       "    </tr>\n",
       "    <tr>\n",
       "      <th>malibu</th>\n",
       "      <td>5</td>\n",
       "      <td>179</td>\n",
       "      <td>2.136752</td>\n",
       "      <td>76.495726</td>\n",
       "    </tr>\n",
       "    <tr>\n",
       "      <th>corvette</th>\n",
       "      <td>5</td>\n",
       "      <td>184</td>\n",
       "      <td>2.136752</td>\n",
       "      <td>78.632479</td>\n",
       "    </tr>\n",
       "    <tr>\n",
       "      <th>grand prix</th>\n",
       "      <td>5</td>\n",
       "      <td>189</td>\n",
       "      <td>2.136752</td>\n",
       "      <td>80.769231</td>\n",
       "    </tr>\n",
       "    <tr>\n",
       "      <th>c1500 suburban 2wd</th>\n",
       "      <td>5</td>\n",
       "      <td>194</td>\n",
       "      <td>2.136752</td>\n",
       "      <td>82.905983</td>\n",
       "    </tr>\n",
       "    <tr>\n",
       "      <th>gti</th>\n",
       "      <td>5</td>\n",
       "      <td>199</td>\n",
       "      <td>2.136752</td>\n",
       "      <td>85.042735</td>\n",
       "    </tr>\n",
       "    <tr>\n",
       "      <th>corolla</th>\n",
       "      <td>5</td>\n",
       "      <td>204</td>\n",
       "      <td>2.136752</td>\n",
       "      <td>87.179487</td>\n",
       "    </tr>\n",
       "    <tr>\n",
       "      <th>mountaineer 4wd</th>\n",
       "      <td>4</td>\n",
       "      <td>208</td>\n",
       "      <td>1.709402</td>\n",
       "      <td>88.888889</td>\n",
       "    </tr>\n",
       "    <tr>\n",
       "      <th>pathfinder 4wd</th>\n",
       "      <td>4</td>\n",
       "      <td>212</td>\n",
       "      <td>1.709402</td>\n",
       "      <td>90.598291</td>\n",
       "    </tr>\n",
       "    <tr>\n",
       "      <th>k1500 tahoe 4wd</th>\n",
       "      <td>4</td>\n",
       "      <td>216</td>\n",
       "      <td>1.709402</td>\n",
       "      <td>92.307692</td>\n",
       "    </tr>\n",
       "    <tr>\n",
       "      <th>range rover</th>\n",
       "      <td>4</td>\n",
       "      <td>220</td>\n",
       "      <td>1.709402</td>\n",
       "      <td>94.017094</td>\n",
       "    </tr>\n",
       "    <tr>\n",
       "      <th>maxima</th>\n",
       "      <td>3</td>\n",
       "      <td>223</td>\n",
       "      <td>1.282051</td>\n",
       "      <td>95.299145</td>\n",
       "    </tr>\n",
       "    <tr>\n",
       "      <th>a6 quattro</th>\n",
       "      <td>3</td>\n",
       "      <td>226</td>\n",
       "      <td>1.282051</td>\n",
       "      <td>96.581197</td>\n",
       "    </tr>\n",
       "    <tr>\n",
       "      <th>expedition 2wd</th>\n",
       "      <td>3</td>\n",
       "      <td>229</td>\n",
       "      <td>1.282051</td>\n",
       "      <td>97.863248</td>\n",
       "    </tr>\n",
       "    <tr>\n",
       "      <th>navigator 2wd</th>\n",
       "      <td>3</td>\n",
       "      <td>232</td>\n",
       "      <td>1.282051</td>\n",
       "      <td>99.145299</td>\n",
       "    </tr>\n",
       "    <tr>\n",
       "      <th>land cruiser wagon 4wd</th>\n",
       "      <td>2</td>\n",
       "      <td>234</td>\n",
       "      <td>0.854701</td>\n",
       "      <td>100.000000</td>\n",
       "    </tr>\n",
       "  </tbody>\n",
       "</table>\n",
       "</div>"
      ],
      "text/plain": [
       "Model                   Count  CumCnt   Percent      CumPct\n",
       "caravan 2wd                11      11  4.700855    4.700855\n",
       "ram 1500 pickup 4wd        10      21  4.273504    8.974359\n",
       "mustang                     9      30  3.846154   12.820513\n",
       "jetta                       9      39  3.846154   16.666667\n",
       "civic                       9      48  3.846154   20.512821\n",
       "dakota pickup 4wd           9      57  3.846154   24.358974\n",
       "grand cherokee 4wd          8      65  3.418803   27.777778\n",
       "a4 quattro                  8      73  3.418803   31.196581\n",
       "impreza awd                 8      81  3.418803   34.615385\n",
       "passat                      7      88  2.991453   37.606838\n",
       "durango 4wd                 7      95  2.991453   40.598291\n",
       "toyota tacoma 4wd           7     102  2.991453   43.589744\n",
       "f150 pickup 4wd             7     109  2.991453   46.581197\n",
       "sonata                      7     116  2.991453   49.572650\n",
       "a4                          7     123  2.991453   52.564103\n",
       "camry solara                7     130  2.991453   55.555556\n",
       "camry                       7     137  2.991453   58.547009\n",
       "tiburon                     7     144  2.991453   61.538462\n",
       "explorer 4wd                6     150  2.564103   64.102564\n",
       "altima                      6     156  2.564103   66.666667\n",
       "forester awd                6     162  2.564103   69.230769\n",
       "4runner 4wd                 6     168  2.564103   71.794872\n",
       "new beetle                  6     174  2.564103   74.358974\n",
       "malibu                      5     179  2.136752   76.495726\n",
       "corvette                    5     184  2.136752   78.632479\n",
       "grand prix                  5     189  2.136752   80.769231\n",
       "c1500 suburban 2wd          5     194  2.136752   82.905983\n",
       "gti                         5     199  2.136752   85.042735\n",
       "corolla                     5     204  2.136752   87.179487\n",
       "mountaineer 4wd             4     208  1.709402   88.888889\n",
       "pathfinder 4wd              4     212  1.709402   90.598291\n",
       "k1500 tahoe 4wd             4     216  1.709402   92.307692\n",
       "range rover                 4     220  1.709402   94.017094\n",
       "maxima                      3     223  1.282051   95.299145\n",
       "a6 quattro                  3     226  1.282051   96.581197\n",
       "expedition 2wd              3     229  1.282051   97.863248\n",
       "navigator 2wd               3     232  1.282051   99.145299\n",
       "land cruiser wagon 4wd      2     234  0.854701  100.000000"
      ]
     },
     "execution_count": 15,
     "metadata": {},
     "output_type": "execute_result"
    }
   ],
   "source": [
    "df = cars_data[['mpg','model']]\n",
    "count = df.model.value_counts(0)\n",
    "cumcnt = np.cumsum(count)\n",
    "percent = count/sum(count)*100\n",
    "cumpct = np.cumsum(percent)\n",
    "count_data = pd.DataFrame({'Count':count, 'CumCnt':cumcnt,'Percent':percent,'CumPct':cumpct})\n",
    "count_data.columns.name = 'Model'\n",
    "count_data\n",
    "# df = df.value_counts().sort_index()"
   ]
  },
  {
   "cell_type": "markdown",
   "metadata": {},
   "source": [
    "---"
   ]
  },
  {
   "cell_type": "markdown",
   "metadata": {},
   "source": [
    "# 추론 통계"
   ]
  },
  {
   "cell_type": "markdown",
   "metadata": {},
   "source": [
    ">1. 추정(Estimation)\n",
    ">> * 점추정\n",
    ">> * 구간추정\n",
    ">2. 가설검정(Hypothesis Test)\n",
    ">> * 평균검정\n",
    ">>> * t-test\n",
    ">>> * paried test\n",
    ">>> * ANOVA\n",
    ">> * F test\n",
    ">> * Chi square test\n",
    ">> * Proportion test"
   ]
  },
  {
   "cell_type": "markdown",
   "metadata": {},
   "source": [
    "### 정의"
   ]
  },
  {
   "cell_type": "markdown",
   "metadata": {},
   "source": [
    "표본에 포함된 정보로부터 모집단의 **특성을 파악**하고 **타당성을 검토**하여 **모수를 추론**하거나 **미래를 예측**하는것"
   ]
  },
  {
   "cell_type": "markdown",
   "metadata": {},
   "source": [
    "### 활용 용도"
   ]
  },
  {
   "cell_type": "markdown",
   "metadata": {},
   "source": [
    "* 통계적 추정(statistic estimation)\n",
    "> 표본의 성격을 나타내는 통계량을 기초로 하여 모수를 추정하는 통계적 분석 방법\n",
    "* 가설검정(Hypothesis test)\n",
    "> 모수에 대하여 특정한 가설을 세워놓고, 표본을 선택하여 통계량을 계산한 다음 이를 기초로 하여 모수에 대한 가설의 진위를 판단하는 방법"
   ]
  },
  {
   "cell_type": "markdown",
   "metadata": {},
   "source": [
    "### 이론"
   ]
  },
  {
   "cell_type": "markdown",
   "metadata": {},
   "source": [
    "* 모수(Parameter)\n",
    "> 모집단(population)의 기술적 척도\n",
    "* 통계량(Statistic)\n",
    "> 표본(sample)의 기술적 척도\n",
    "\n",
    ">> 표본 != 모집단 -> 표본으로 구해지는 결론과 추정치들은 항상 옳은 것이 아님.\n",
    "\n",
    "> 그래서, 통계적 추론에 신뢰의 척도, 즉 **신뢰수준(Confidence level)** 과 **유의수준(Significance level)**필요!"
   ]
  },
  {
   "cell_type": "markdown",
   "metadata": {},
   "source": [
    "---"
   ]
  },
  {
   "cell_type": "markdown",
   "metadata": {},
   "source": [
    "## 추정(estimation)"
   ]
  },
  {
   "cell_type": "markdown",
   "metadata": {},
   "source": [
    "### 정의"
   ]
  },
  {
   "cell_type": "markdown",
   "metadata": {},
   "source": [
    "> **모집단**에서 **추출**한**표본**에서 얻은 **정보를 이용**하여 ***모집단의 평균, 표준편차 등을 추측***하는것!"
   ]
  },
  {
   "cell_type": "markdown",
   "metadata": {},
   "source": [
    "### 종류"
   ]
  },
  {
   "cell_type": "markdown",
   "metadata": {},
   "source": [
    ">* 점추정\n",
    ">> 하나의 값으로 추정\n",
    ">* 구간추정\n",
    ">> 값을 포함하는 구간을 추정"
   ]
  },
  {
   "cell_type": "markdown",
   "metadata": {},
   "source": [
    "### 이론"
   ]
  },
  {
   "cell_type": "markdown",
   "metadata": {},
   "source": [
    ">* 신뢰도\n",
    ">> 추정하고자 하는 모평균이 신뢰구간에 포함될 확률\n",
    ">* 모평균 신뢰도(95%, 99% 등)"
   ]
  },
  {
   "cell_type": "markdown",
   "metadata": {},
   "source": [
    "* 계산\n",
    "> **점 추정하고자 하는 모수**를 표본 데이터를 이용하여 **하나의 수치로 추정**함\n",
    ">> * 모평균에 대한 점 추정량\n",
    ">>> * 표본평균\n",
    ">> * 모분산에 대한 점 추정량\n",
    ">>> * 표본 분산"
   ]
  },
  {
   "cell_type": "markdown",
   "metadata": {},
   "source": [
    ">1. 모평균\n",
    ">>1. 모표준편차를 아는경우\n",
    ">>> Z\n",
    ">>>> **모집단이 정규분포일경우 항상 성립**함\n",
    ">>2. 모표준편차를 모르는 경우\n",
    ">>> T\n",
    ">>>> **모집단이 정규분포가 아닐 경우 표본의 크기만 크다면** 중심극한 정리에 의해 성립\n",
    ">2. 모분산\n",
    ">> 카이제곱\n",
    ">>> 모집단이 정규분포일 경우 항상 성립함\n",
    ">3. 모비율\n",
    ">>> 표본크기가 클 때 근사적으로 성립함 "
   ]
  },
  {
   "cell_type": "markdown",
   "metadata": {},
   "source": [
    "### 구간추정"
   ]
  },
  {
   "cell_type": "markdown",
   "metadata": {},
   "source": [
    "> **추정하고자 하는 모수가 존재할 것으로 예상되는 구간**을 정하여 **추정**\n",
    ">> 모수가 존재할 것으로 예상되는 신뢰수준에 따라 신뢰구간 추정"
   ]
  },
  {
   "cell_type": "markdown",
   "metadata": {},
   "source": [
    "#### 모평균 신뢰구간 추정"
   ]
  },
  {
   "cell_type": "markdown",
   "metadata": {},
   "source": [
    ">* 모표준편차를 아는경우\n",
    ">> z분포를 계산하여 알 수 있음\n",
    ">* 모표준편차를 모르는 경우\n",
    ">>* 일반적인 경우 표본으로부터 표준편차를 추정해야만 함\n",
    ">>* 따라서 미지의 모표준편차대신 표본 표준편차를 사용하게 될 경우 T분포를 통해 알수있음"
   ]
  },
  {
   "cell_type": "markdown",
   "metadata": {},
   "source": [
    "## 가설검정"
   ]
  },
  {
   "cell_type": "markdown",
   "metadata": {},
   "source": [
    "### 정의"
   ]
  },
  {
   "cell_type": "markdown",
   "metadata": {},
   "source": [
    "> 어떤 가설이 옳은 가의 여부를 통계적 방법으로 판정\n",
    ">* 모집단 실제의 값이 얼마가 된다는 주장과 관련해, **표본의 정보** 를 사용해서 **가설의 타당성 여부를 판정**하는 과정 "
   ]
  },
  {
   "cell_type": "markdown",
   "metadata": {},
   "source": [
    "### 절차"
   ]
  },
  {
   "cell_type": "markdown",
   "metadata": {},
   "source": [
    ">1. 가설수립\n",
    ">>* 귀무가설\n",
    ">>* 대립가설\n",
    ">2. 유의수준\n",
    ">>* 기각역 수립\n",
    ">>* 판정의 기준\n",
    ">3. 검정통계량\n",
    ">>* 귀무가설이 참이라는 가정\n",
    ">4. 판정\n",
    ">>* 참으로 받아드릴 가설 선택"
   ]
  },
  {
   "cell_type": "markdown",
   "metadata": {},
   "source": [
    ">* 여러가지 추측의 설정(가설수립)\n",
    ">>* **귀무가설(null hypothesis):** 현재의 상황을 나타내는 가설로 대립가설을 부정함, H0\n",
    ">>> 귀무가설은: ~같다, ~ 차이가 없다, ~가 동일하다, 0이다.\n",
    ">>* **대립가설(alternative hypothesis):** 새로운 주장이거나 검토되는 가설 H1\n",
    ">* 모집단으로부터 임의 표본을 추출하고 검정 통계량(test statistic)을 계산\n",
    ">>* **검정통계량:** 검정에 사용되는 통계량\n",
    ">>* **기각역:** 귀무가설을 기각시키는 검정 통계량의 관측값 영역\n",
    ">* 유의 수준 검토:\n",
    ">>* 귀무가설이 참일 때 측정치에 의하여 ***귀무가설이 기각될 확률의 최대 허용 한계***\n",
    ">* 가설 기각 vs 채택"
   ]
  },
  {
   "cell_type": "markdown",
   "metadata": {},
   "source": [
    ">* p-value\n",
    ">>* 귀무가설이 참이라는 가정하에 표본데이터가 귀무가설을 지지하는 확률\n",
    ">>> P값이 유의수준보다 작으면 귀무가설을 기각하고, 아니면 기각하지 못함\n",
    ">* 유의수준\n",
    ">>* 귀무가설이 실제로 참인데도 불구하고 귀무가설이 거짓이라고 판단하는 **최대허용오류**\n",
    ">>> 1종 오류(참인데 거짓이라고 판단)의 위험성을 부담할 최대 허용수준(통상 0.05)"
   ]
  },
  {
   "cell_type": "markdown",
   "metadata": {},
   "source": [
    "## 통계에 의한 검정"
   ]
  },
  {
   "cell_type": "markdown",
   "metadata": {},
   "source": [
    ">1. 평균 검정(T-검정)\n",
    ">> 집단의 평균값에 대한 가설을 검정하는 도구\n",
    ">>* **1-sample-t:** 한 집단의 평균이 특정 값과 같은지 비교\n",
    ">>* **2-sample-t:** 두 집단 간 평균이 같은지 비교\n",
    ">>* **Paired-t:** 쌍을 이룬 두 집단간 평균이 같은지 비교\n",
    ">2. 분산 검정(F-검정)\n",
    ">> 두 개 이상의 집단간 모 분산이 동일한 지를 검정하는 도구\n",
    ">>* **2 Variances:** 두 집단간 분산 비교\n",
    ">>* **Equal Variances:** 3 집단간의 분산 비교\n",
    ">3. 비율 검정(Proportion Test)\n",
    ">> 한 집단 또는 두 집단의 비율이 같은 지를 검정하는 도구\n",
    ">>* **1 Proportion test:** 한 집단의 비율이 특정 비율과 같은지 비교\n",
    ">>* **2 Proportion test:** 두 집단의 비율 비교\n",
    ">4. 카이제곱 검정\n",
    ">> 범주들 간의 동일성이나 독립성을 검정하거나, 적합도를 검정하는 도구\n",
    ">>* **동일성 검정:** 특성별 두 가지 이상으로 분류된 범주간에 상호 동일한 비율로 나타는가를 검정\n",
    ">>* **독립성 검정:** 특성별 두 가지 이상으로 분류된 범주간에 상호 관련성이 있는지를 검정\n",
    ">>* **적합도 검정:** 어떤 특성치 또는 사건이 기대치에 따라 발생했는지 여부를 검정"
   ]
  },
  {
   "cell_type": "markdown",
   "metadata": {},
   "source": [
    "___"
   ]
  },
  {
   "cell_type": "markdown",
   "metadata": {},
   "source": [
    "### 실습3 - 추론 통계"
   ]
  },
  {
   "cell_type": "markdown",
   "metadata": {},
   "source": [
    "새로운 품종의 감자 20BOX를 랜덤 추출하여 무게를 측정할 결과가 다음과 같음  \n",
    "이 자료로부터 신품종 배추의 평균 무게에 대한 95% 신뢰구간을 구하시오.  \n",
    "(단, 모표준편차는 3.8로 알려져 있음)"
   ]
  },
  {
   "cell_type": "code",
   "execution_count": 21,
   "metadata": {},
   "outputs": [
    {
     "name": "stdout",
     "output_type": "stream",
     "text": [
      "신뢰구간:([19.33],[19.67])\n"
     ]
    }
   ],
   "source": [
    "df = pd.DataFrame({\"Weight\":[18,18,20,21,20,23,19,18,17,21,22,20,20,21,20,19,19,18,17,19]})\n",
    "lower, upper = stats.norm.interval(0.95, loc=df.mean(), scale=0.397/np.sqrt(len(df)))\n",
    "print(\"신뢰구간:({0},{1})\".format(lower.round(2),upper.round(2)))"
   ]
  },
  {
   "cell_type": "markdown",
   "metadata": {},
   "source": [
    "___"
   ]
  },
  {
   "cell_type": "markdown",
   "metadata": {},
   "source": [
    "### 실습4 - 모평균 신뢰구간 추정 - 모표준편차를 모르는 경우"
   ]
  },
  {
   "cell_type": "markdown",
   "metadata": {},
   "source": [
    "제품개발자는 새로 개발된 강조으이 평균 인장강도를 70kg/mm^2으로 기대하고 있음.  \n",
    "이를 검증하기 위해 시험 생산되는 강종 중 임의로 20개의 코일을 대상으로 랜덤하게 시편을 채취하였음  \n",
    "표본평균은 71.5kg/mm2, 표본표준편차는 1.933kg/mm2임을 알았음  \n",
    "이 모평균값의 95% 신뢰구간을 추정하시오"
   ]
  },
  {
   "cell_type": "code",
   "execution_count": 28,
   "metadata": {},
   "outputs": [
    {
     "name": "stdout",
     "output_type": "stream",
     "text": [
      "신뢰구간:([70.6],[72.4])\n"
     ]
    }
   ],
   "source": [
    "df = pd.DataFrame({\"Sample\":[73, 71,74,69,70,73,70,68,75,72,70,72,73,70,70,72,71,70,75,72]})\n",
    "lower, upper = stats.t.interval(0.95,len(df)-1,loc=df.mean(),scale=stats.sem(df))\n",
    "print(\"신뢰구간:({0},{1})\".format(lower.round(2),upper.round(2)))\n",
    "# df.sem()"
   ]
  },
  {
   "cell_type": "markdown",
   "metadata": {},
   "source": [
    "___"
   ]
  },
  {
   "cell_type": "markdown",
   "metadata": {},
   "source": [
    "### 실습 5 - 1-Sample_T test"
   ]
  },
  {
   "cell_type": "markdown",
   "metadata": {},
   "source": [
    "고객서비스센터의 고객만족도 평균은 76.7이다. 개선활동을 완료한 후 다음과 같은 10개의 고객만족도 데이터를 얻었다. 개선활동이 만족도를 변화 시켰는가? (유의수준 0.05)"
   ]
  },
  {
   "cell_type": "code",
   "execution_count": 31,
   "metadata": {},
   "outputs": [
    {
     "name": "stdout",
     "output_type": "stream",
     "text": [
      "t검정 통계량: 4.879\n",
      "p-value: 0.001\n"
     ]
    }
   ],
   "source": [
    "df = pd.DataFrame({\"Sample\":[85.0,79.0,79.1,79.9,81.6,78.6,85.4,83.4,78.1,79.2]})\n",
    "t_result = stats.ttest_1samp(df,76.7)\n",
    "t,p =t_result.statistic, t_result.pvalue\n",
    "print('t검정 통계량: %.3f'% t)\n",
    "print('p-value: %.3f'% p)"
   ]
  },
  {
   "cell_type": "markdown",
   "metadata": {},
   "source": [
    "p-value가 유의수준보다 낮으므로 대립가설을 채택한다. 즉 개선활동이 만족도를 변화 시켰다."
   ]
  },
  {
   "cell_type": "markdown",
   "metadata": {},
   "source": [
    "___"
   ]
  },
  {
   "cell_type": "markdown",
   "metadata": {},
   "source": [
    "### 실습 6 - Paired T-test"
   ]
  },
  {
   "cell_type": "markdown",
   "metadata": {},
   "source": [
    "회사원 10명에 대해 영어점수가 학원가기 전의 점수와 학원수강 후에 영어점수가 짝을 이루고 있다. 회사원들의 성적은 학원가기 전후에 대해 차이가 있는지 검정하라."
   ]
  },
  {
   "cell_type": "code",
   "execution_count": 33,
   "metadata": {},
   "outputs": [
    {
     "name": "stdout",
     "output_type": "stream",
     "text": [
      "t검정 통계량: -2.266\n",
      "p-value: 0.049682\n"
     ]
    }
   ],
   "source": [
    "df = pd.DataFrame({\"Before\":[720,589,780,648,720,589,780,648,780,648],\n",
    "                   \"After\":[710,580,787,712,750,600,782,670,790,680]})\n",
    "t_result = stats.ttest_rel(df.Before,df.After)\n",
    "t,p =t_result.statistic, t_result.pvalue\n",
    "print('t검정 통계량: %.3f'% t)\n",
    "print('p-value: %f'% p)"
   ]
  },
  {
   "cell_type": "markdown",
   "metadata": {},
   "source": [
    "p-value가 유의수준 0.05보다 낮으므로 대립가설을 채택한다. 즉 학원이 회사원들의 성적에 영향을 끼쳤다."
   ]
  },
  {
   "cell_type": "markdown",
   "metadata": {},
   "source": [
    "___"
   ]
  },
  {
   "cell_type": "markdown",
   "metadata": {},
   "source": [
    "### 실습 7 - 1 proportion test"
   ]
  },
  {
   "cell_type": "markdown",
   "metadata": {},
   "source": [
    "고급강 A제품을 가공하는 국내 고객사는 전체 주에 20% 정도가 만족을 표시했다.  \n",
    "한해동안 A제품의 품질에 대해 노력을 하여 전체 고객 중 100여개의 업체를 표본으로 하여 가공 품질을 확인한 후 10개의 업체가 만족을 표현했다. 과연 품질개선을 한 결과로 기존보다 전체 고개 중 만족도의 차이가 있는것인가? 유의수준 = 0.05"
   ]
  },
  {
   "cell_type": "code",
   "execution_count": 35,
   "metadata": {},
   "outputs": [
    {
     "name": "stdout",
     "output_type": "stream",
     "text": [
      "1 proportion test\n",
      "P검정 통계량: -3.333\n",
      "p-value: 0.001\n"
     ]
    }
   ],
   "source": [
    "count = 10\n",
    "nobs = 100\n",
    "value = 0.2\n",
    "\n",
    "stat, pval = proportions_ztest(count, nobs, value)\n",
    "print(\"1 proportion test\")\n",
    "print(\"P검정 통계량: %.3f\"% stat)\n",
    "print(\"p-value: %.3f\"% pval)"
   ]
  },
  {
   "cell_type": "markdown",
   "metadata": {},
   "source": [
    "p-value가 유의수준 0.05보다 낮으므로 대립가설을 채택한다. 즉 품질개선이 만족도의 변화를 가져왔다."
   ]
  },
  {
   "cell_type": "markdown",
   "metadata": {},
   "source": [
    "___"
   ]
  },
  {
   "cell_type": "markdown",
   "metadata": {},
   "source": [
    "### 실습 8 - 2 proportion test"
   ]
  },
  {
   "cell_type": "markdown",
   "metadata": {},
   "source": [
    "동일한 제품을 생산하는 두 공장에서 불량률을 측정한 결과 아래와 같다.  \n",
    "두공정의 불량률이 같다고 할 수 있는가? 유의수준=0.05\n",
    ">* 공장A: N1 = 1200, X1 = 14\n",
    ">* 공장B: N2 = 1200, X1 = 5"
   ]
  },
  {
   "cell_type": "code",
   "execution_count": 37,
   "metadata": {},
   "outputs": [
    {
     "name": "stdout",
     "output_type": "stream",
     "text": [
      "2 proportion test\n",
      "p검정통계량: 2.073\n",
      "p: 0.038\n"
     ]
    }
   ],
   "source": [
    "count = np.array([14,5])\n",
    "nobs = np.array([1200, 1200])\n",
    "\n",
    "stat, pval = proportions_ztest(count, nobs)\n",
    "print(\"2 proportion test\")\n",
    "print(\"p검정통계량: %.3f\"% stat)\n",
    "print(\"p: %.3f\"% pval)"
   ]
  },
  {
   "cell_type": "markdown",
   "metadata": {},
   "source": [
    "p-value가 유의수준 0.05보다 낮으므로 대립가설을 채택한다. 즉 두 공정의 불량률은 차이가 있다."
   ]
  },
  {
   "cell_type": "markdown",
   "metadata": {},
   "source": [
    "___"
   ]
  },
  {
   "cell_type": "markdown",
   "metadata": {},
   "source": [
    "### 실습 9 - chi-square test"
   ]
  },
  {
   "cell_type": "markdown",
   "metadata": {},
   "source": [
    "노트북 컴퓨터의 6가지 제품에 대하여 7가지 제품의 이미지를 중복 선택 할 수 있도록 32명의 소비자를 대상으로 설문조사한 Table이다. 각 제품에 대해 이미지에 대해 차이가 있겠는가?"
   ]
  },
  {
   "cell_type": "code",
   "execution_count": 38,
   "metadata": {},
   "outputs": [
    {
     "name": "stdout",
     "output_type": "stream",
     "text": [
      "chi-square test\n",
      "chisq: 98.274\n",
      "p: 0.000\n",
      "degree of freedom: 30\n",
      "expected value: \n",
      "[[11.004  8.21   5.24   3.843  1.921  9.782]\n",
      " [ 8.528  6.362  4.061  2.978  1.489  7.581]\n",
      " [10.454  7.799  4.978  3.651  1.825  9.293]\n",
      " [ 8.253  6.157  3.93   2.882  1.441  7.336]\n",
      " [ 7.978  5.952  3.799  2.786  1.393  7.092]\n",
      " [ 8.803  6.568  4.192  3.074  1.537  7.825]\n",
      " [ 7.978  5.952  3.799  2.786  1.393  7.092]]\n"
     ]
    }
   ],
   "source": [
    "df = pd.DataFrame({'As':[18,8,4,4,3,3],\n",
    "                   'Price':[1,2,1,1,1,25],\n",
    "                   'Performance':[8,14,3,2,3,8],\n",
    "                   'Expandability':[7,5,4,3,1,10],\n",
    "                   'Design':[10,5,9,2,1,2],\n",
    "                   'Stability':[9,9,5,7,1,1],\n",
    "                   'Functionality':[10,4,4,3,1,7]})\n",
    "\n",
    "chi, pval, dof, expected = stats.chi2_contingency(df.T)\n",
    "print(\"chi-square test\")\n",
    "print(\"chisq: %.3f\"% chi)\n",
    "print(\"p: %.3f\"% pval)\n",
    "print(\"degree of freedom: %d\"% dof)\n",
    "print(\"expected value: \\n{0}\".format(expected.round(3)))"
   ]
  },
  {
   "cell_type": "markdown",
   "metadata": {},
   "source": [
    "p-value가 유의수준 0.05보다 낮으므로 대립가설을 채택한다. 각 제품에 대해 이미지 차이가 있다."
   ]
  },
  {
   "cell_type": "code",
   "execution_count": null,
   "metadata": {},
   "outputs": [],
   "source": []
  }
 ],
 "metadata": {
  "kernelspec": {
   "display_name": "Python 3",
   "language": "python",
   "name": "python3"
  },
  "language_info": {
   "codemirror_mode": {
    "name": "ipython",
    "version": 3
   },
   "file_extension": ".py",
   "mimetype": "text/x-python",
   "name": "python",
   "nbconvert_exporter": "python",
   "pygments_lexer": "ipython3",
   "version": "3.7.1"
  }
 },
 "nbformat": 4,
 "nbformat_minor": 2
}
