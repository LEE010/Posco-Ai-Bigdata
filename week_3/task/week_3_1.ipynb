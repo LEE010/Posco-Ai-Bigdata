{
 "cells": [
  {
   "cell_type": "code",
   "execution_count": 1,
   "metadata": {},
   "outputs": [],
   "source": [
    "import numpy as np\n",
    "import pandas as pd\n",
    "from scipy import stats\n",
    "import matplotlib.pyplot as plt\n",
    "import seaborn as sns\n",
    "import statsmodels.api as sm\n",
    "from statsmodels.stats.proportion import proportions_ztest\n",
    "from sklearn import linear_model"
   ]
  },
  {
   "cell_type": "markdown",
   "metadata": {},
   "source": [
    "# 정규분포"
   ]
  },
  {
   "cell_type": "markdown",
   "metadata": {},
   "source": [
    "> 연속형 확률변수 X가 우연적 상태에서 무한히 집합할 때, 중심값 근처에 대다수가 밀집되는 좌우 종모양의 분포가 형성되는데, 이러한 확률분포를 N(모평균,모분산)로 표현되는 분포\n",
    ">> 정규분포는 2개의 변수 평균과 표준편차에 대해 모양이 결정됨\n",
    "\n",
    "> 용도:\n",
    ">> 수집된 자료의 분포를 근사하는 데에 자주 사용된다.\n",
    ">>> 중심극한정리에 의해 독립적인 확률변수들의 평균은 정규분포에 가까워지는 성질이 있기 때문"
   ]
  },
  {
   "cell_type": "markdown",
   "metadata": {},
   "source": [
    "# 표준정규분포"
   ]
  },
  {
   "cell_type": "markdown",
   "metadata": {},
   "source": [
    ">정규분포 밀도함수를 통해 X를 Z로 정규화함으로써 평균이 0, 표준편차가 1인 정규분포\n",
    ">> 평균이 0이고 표준편차가 1인 정규분포를 ***표준정규분포***라고 함\n",
    "\n",
    "> 용도\n",
    ">> Z-분포로 하는 검정을 Z-검정이라한다. (Z-검정에 이용됨)\n",
    ">>> z-검정은 모분산을 알 때 모평균을 구하는 것"
   ]
  },
  {
   "cell_type": "markdown",
   "metadata": {},
   "source": [
    "## 실습 1 - 정규분포/표준정규분포"
   ]
  },
  {
   "cell_type": "markdown",
   "metadata": {},
   "source": [
    "대한민국 남성의 20 ~ 30대 키를 측정한 결과, 평균 175cm, 표준편차 5cm이다.\n",
    "나의 키가 180cm 일 경우에 나는 몇 % 범위에 위치하는가?"
   ]
  },
  {
   "cell_type": "code",
   "execution_count": 12,
   "metadata": {},
   "outputs": [
    {
     "data": {
      "text/plain": [
       "[<matplotlib.lines.Line2D at 0x7fa179936940>]"
      ]
     },
     "execution_count": 12,
     "metadata": {},
     "output_type": "execute_result"
    },
    {
     "data": {
      "image/png": "[encoded data removed]",
      "text/plain": [
       "<Figure size 432x288 with 1 Axes>"
      ]
     },
     "metadata": {
      "needs_background": "light"
     },
     "output_type": "display_data"
    }
   ],
   "source": [
    "normal = stats.norm(175, 5)\n",
    "# np.linspace(시작, 끝, 갯수(default = 50))\n",
    "# 주어진 범위를 지정한 원소 개수로 나누어 전해지는 간격으로 연속적인 원소를 가진 배열 생성\n",
    "x_axis = np.linspace(160,190,400)\n",
    "plt.plot(x_axis, normal.pdf(x_axis))"
   ]
  },
  {
   "cell_type": "code",
   "execution_count": 5,
   "metadata": {},
   "outputs": [
    {
     "data": {
      "text/plain": [
       "15.865525393145708"
      ]
     },
     "execution_count": 5,
     "metadata": {},
     "output_type": "execute_result"
    }
   ],
   "source": [
    "(1 -stats.norm.cdf(180, loc=175, scale=5)) * 100"
   ]
  },
  {
   "cell_type": "code",
   "execution_count": 7,
   "metadata": {},
   "outputs": [
    {
     "data": {
      "text/plain": [
       "15.865525393145708"
      ]
     },
     "execution_count": 7,
     "metadata": {},
     "output_type": "execute_result"
    }
   ],
   "source": [
    "stats.norm.sf(180, loc=175, scale=5) * 100"
   ]
  },
  {
   "cell_type": "markdown",
   "metadata": {},
   "source": [
    "---"
   ]
  },
  {
   "cell_type": "markdown",
   "metadata": {},
   "source": [
    "## 실습 2 - 정규분포/표준정규분포"
   ]
  },
  {
   "cell_type": "markdown",
   "metadata": {},
   "source": [
    "어떤 자동차 1리터당 주행거리가 평균 12km, 표준편차 3km인 정규분포를 이룬다고 하자.\n",
    "\n",
    ">1. 1리터를 가지고 12km 이상 15km 이하를 달릴 확률은 얼마인가?\n",
    ">2. 1리터를 가지고 9km 이상 15km 이하를 달릴 확률은 얼마인가?\n",
    ">3. 1리터를 가지고 15km 이상을 달릴 확률은 얼마인가?"
   ]
  },
  {
   "cell_type": "code",
   "execution_count": 13,
   "metadata": {},
   "outputs": [
    {
     "data": {
      "text/plain": [
       "[<matplotlib.lines.Line2D at 0x7fa179ddb828>]"
      ]
     },
     "execution_count": 13,
     "metadata": {},
     "output_type": "execute_result"
    },
    {
     "data": {
      "image/png": "[encoded data removed]",
      "text/plain": [
       "<Figure size 432x288 with 1 Axes>"
      ]
     },
     "metadata": {
      "needs_background": "light"
     },
     "output_type": "display_data"
    }
   ],
   "source": [
    "normal = stats.norm(12, 3)\n",
    "# np.linspace(시작, 끝, 갯수(default = 50))\n",
    "# 주어진 범위를 지정한 원소 개수로 나누어 전해지는 간격으로 연속적인 원소를 가진 배열 생성\n",
    "x_axis = np.linspace(3,21,400)\n",
    "plt.plot(x_axis, normal.pdf(x_axis))"
   ]
  },
  {
   "cell_type": "markdown",
   "metadata": {},
   "source": [
    "### 1"
   ]
  },
  {
   "cell_type": "code",
   "execution_count": 8,
   "metadata": {},
   "outputs": [
    {
     "data": {
      "text/plain": [
       "34.13447460685429"
      ]
     },
     "execution_count": 8,
     "metadata": {},
     "output_type": "execute_result"
    }
   ],
   "source": [
    "(stats.norm.cdf(15, loc=12, scale=3) - stats.norm.cdf(12, loc=12, scale=3)) * 100"
   ]
  },
  {
   "cell_type": "markdown",
   "metadata": {},
   "source": [
    "### 2"
   ]
  },
  {
   "cell_type": "code",
   "execution_count": 9,
   "metadata": {},
   "outputs": [
    {
     "data": {
      "text/plain": [
       "68.26894921370858"
      ]
     },
     "execution_count": 9,
     "metadata": {},
     "output_type": "execute_result"
    }
   ],
   "source": [
    "(stats.norm.cdf(15, loc=12, scale=3) - stats.norm.cdf(9, loc=12, scale=3)) * 100"
   ]
  },
  {
   "cell_type": "markdown",
   "metadata": {},
   "source": [
    "### 3"
   ]
  },
  {
   "cell_type": "code",
   "execution_count": 10,
   "metadata": {},
   "outputs": [
    {
     "data": {
      "text/plain": [
       "15.865525393145708"
      ]
     },
     "execution_count": 10,
     "metadata": {},
     "output_type": "execute_result"
    }
   ],
   "source": [
    "stats.norm.sf(15, loc=12, scale=3) * 100"
   ]
  },
  {
   "cell_type": "markdown",
   "metadata": {},
   "source": [
    "---"
   ]
  },
  {
   "cell_type": "markdown",
   "metadata": {},
   "source": [
    "## 실습 3 - 정규분포/표준정규분포"
   ]
  },
  {
   "cell_type": "markdown",
   "metadata": {},
   "source": [
    "* Random Data 생성: n = 1000, x bar = 0, Standard Deviation = 1\n",
    "* 표준정규분포 그리기"
   ]
  },
  {
   "cell_type": "code",
   "execution_count": 29,
   "metadata": {},
   "outputs": [
    {
     "data": {
      "text/plain": [
       "array([ 0.47, -1.19,  1.43, -0.31, -0.72,  0.89,  0.86, -0.64,  0.02,\n",
       "       -2.24,  1.15,  0.99,  0.95, -2.02, -0.33,  0.  ,  0.41,  0.29,\n",
       "        1.32, -1.55, -0.2 , -0.66,  0.19,  0.55,  1.32, -0.47,  0.68,\n",
       "       -1.82, -0.18,  1.06, -0.4 ,  0.34,  1.05,  1.05,  0.86, -0.12,\n",
       "        0.12, -0.32,  0.84,  2.39,  0.08, -0.57,  0.04, -2.07,  0.25,\n",
       "       -0.9 , -0.14,  0.02,  0.76,  0.22,  0.84, -1.45, -1.4 , -0.1 ,\n",
       "       -0.55, -0.14,  0.35, -0.04,  0.57,  1.55, -0.97, -0.07,  0.31,\n",
       "       -0.21,  1.03, -2.4 ,  2.03, -1.14,  0.21,  0.7 , -0.79,  0.46,\n",
       "        0.7 ,  0.52, -0.93,  2.01,  0.23, -1.15,  0.63,  0.04,  0.46,\n",
       "       -3.56,  1.32,  0.15,  0.16, -0.43,  0.77,  0.98,  0.27,  1.39,\n",
       "        0.08, -0.4 , -1.03, -0.58,  0.82, -0.08, -0.34,  0.53, -1.07,\n",
       "       -0.51,  0.29,  0.57,  0.5 ,  0.29,  0.48,  1.36, -0.78, -0.47,\n",
       "        1.22, -1.28,  0.88, -1.71, -0.45,  0.75, -0.2 , -0.18,  0.68,\n",
       "       -1.82,  0.05,  0.39, -0.25, -0.62, -0.68,  0.44, -1.7 ,  0.39,\n",
       "       -0.48, -0.3 ,  0.69,  0.68,  0.24,  0.15,  0.82,  1.89,  0.64,\n",
       "       -0.96, -2.09,  1.93, -1.74,  1.21,  0.8 , -0.38,  0.7 , -0.85,\n",
       "        1.18, -0.52,  0.7 ,  0.98, -0.12,  2.37,  0.5 ,  0.8 , -0.47,\n",
       "       -0.06,  1.36, -0.8 , -2.12, -0.33, -0.89,  0.33,  0.54, -0.74,\n",
       "       -0.32, -0.92, -0.86,  0.23,  0.63,  0.19,  0.95,  0.99, -0.07,\n",
       "       -0.55, -0.94, -1.24,  0.14, -0.22,  2.12,  0.12, -1.41,  1.42,\n",
       "       -2.15, -1.35,  0.36, -0.01,  1.27, -1.45, -1.2 , -0.59, -0.41,\n",
       "       -1.43,  0.21, -0.59, -1.47, -0.9 ,  1.1 , -0.43, -0.16,  0.89,\n",
       "        0.29, -1.05, -0.32, -0.62,  0.16, -0.57,  1.06, -0.79, -0.52,\n",
       "        0.07,  1.91,  0.79,  0.51, -0.55,  1.04,  2.11,  1.46,  1.02,\n",
       "        0.75, -0.68,  0.44,  0.69, -0.28,  1.92,  0.41,  0.89,  0.23,\n",
       "       -2.08, -0.39, -0.09,  1.13,  0.25,  0.12,  0.3 , -0.16, -0.74,\n",
       "       -1.25,  0.25,  0.58,  2.76,  0.4 ,  0.67, -0.28,  0.5 ,  0.86,\n",
       "       -1.05, -1.39,  1.15,  1.18,  0.39, -0.88,  0.3 ,  1.86, -1.71,\n",
       "       -1.41,  0.13,  0.  , -1.27, -0.84,  0.55, -0.5 , -0.79,  1.53,\n",
       "        0.21,  0.31,  0.87,  0.3 ,  1.08,  0.36,  1.89, -0.49,  0.39,\n",
       "        0.02, -0.66, -0.32, -0.72,  0.18,  0.98,  0.02,  0.55,  0.35,\n",
       "       -0.28, -0.49, -0.37, -2.4 ,  1.54,  0.06, -0.28, -1.27,  1.79,\n",
       "       -0.35, -0.1 ,  0.39,  0.82, -0.68,  1.06,  0.03,  1.34, -0.05,\n",
       "       -0.36, -1.55, -0.32,  0.53,  0.71, -0.22,  2.64, -1.74, -0.09,\n",
       "        1.43,  0.59,  0.17, -1.75,  0.29, -0.54,  0.17,  0.98, -0.03,\n",
       "       -0.29,  0.92, -0.06, -0.73, -1.02,  1.  ,  0.96,  0.71,  0.13,\n",
       "       -0.81, -0.34,  1.91,  0.16,  0.76, -0.42,  0.18,  0.27,  0.07,\n",
       "       -0.04, -0.17,  0.27,  1.38, -0.02,  0.13,  0.43,  0.26,  0.57,\n",
       "        0.59, -0.17, -1.07, -0.05, -0.85,  0.42,  0.43, -0.98, -0.43,\n",
       "        1.5 , -0.36, -0.46, -1.34, -0.04,  0.82,  2.1 ,  1.28,  0.27,\n",
       "        1.  ,  1.08,  0.34, -0.2 ,  2.48,  1.39, -1.15, -1.27,  0.61,\n",
       "       -1.08, -0.61,  0.1 , -1.44,  0.21, -0.9 , -1.72,  1.79, -1.31,\n",
       "        0.56, -0.68,  1.57, -0.1 ,  1.85, -0.33,  0.19, -0.5 ,  1.03,\n",
       "       -1.74, -0.76, -0.88,  0.39, -0.95,  0.33,  0.53, -1.12,  0.05,\n",
       "        0.06, -1.03, -0.24,  1.93, -0.23, -0.92,  0.36, -1.27, -0.2 ,\n",
       "       -0.46,  0.99,  1.39,  1.09,  0.44, -0.96,  1.25,  0.5 , -0.63,\n",
       "       -0.7 , -0.24,  0.59,  0.35, -1.82, -0.91, -0.75, -0.11,  0.27,\n",
       "        0.24, -0.26, -0.31,  0.45, -0.06, -0.47,  0.35, -1.03, -0.31,\n",
       "        1.41, -1.25, -1.56,  1.56, -0.59, -0.17,  1.67, -0.54, -0.68,\n",
       "        0.6 , -0.22,  0.33, -0.38, -0.78,  0.27,  0.28, -1.22, -0.72,\n",
       "       -1.73,  0.27,  0.1 , -0.36, -0.59,  0.03, -0.57,  1.11, -1.21,\n",
       "       -1.34,  2.08, -1.49, -1.15,  0.42,  0.41,  0.72,  0.26, -0.24,\n",
       "       -0.5 , -0.7 ,  1.38, -0.29,  0.5 ,  1.95, -0.28,  0.04,  0.45,\n",
       "       -1.41,  0.45,  0.52, -1.15, -1.38, -0.5 , -0.41, -1.72, -0.03,\n",
       "       -0.77,  0.1 , -0.71, -2.23,  0.73,  0.92, -0.56, -1.52, -0.01,\n",
       "       -0.25, -0.17,  0.12, -2.07, -1.  ,  0.52,  0.82, -0.15, -0.05,\n",
       "       -0.7 ,  1.73,  0.23,  1.09, -0.35, -0.03, -0.2 , -0.48,  1.71,\n",
       "        1.44, -1.17,  0.04,  0.36,  0.57,  1.1 , -0.43,  0.76,  0.01,\n",
       "        0.22, -1.13, -0.95, -0.13,  0.03,  2.1 ,  1.57, -0.62, -0.4 ,\n",
       "       -1.14, -0.9 , -1.1 , -0.07, -1.32, -0.56,  0.16, -0.63, -0.87,\n",
       "       -1.  ,  1.21,  1.71, -0.62, -0.21, -1.19,  0.66,  0.2 ,  1.09,\n",
       "       -0.49,  1.37,  0.89,  0.84,  0.51, -0.05,  0.74, -1.72,  0.09,\n",
       "        0.32, -0.38, -0.  ,  1.05, -0.17,  0.8 ,  0.55, -1.15,  1.64,\n",
       "       -1.44,  2.03, -1.37,  0.07,  0.61,  1.49,  0.22, -1.53,  0.8 ,\n",
       "       -0.42,  1.12,  1.57,  1.43, -1.37, -0.27,  0.78, -0.1 , -0.59,\n",
       "        0.24, -1.  ,  0.19, -0.95,  1.47,  0.72, -0.17,  0.76, -1.19,\n",
       "       -0.53, -0.02, -1.11, -1.06,  1.02,  1.71,  0.03,  0.12,  0.29,\n",
       "       -0.3 ,  0.41,  0.95,  0.52, -1.97,  0.5 , -0.35, -0.45, -1.12,\n",
       "       -0.79,  1.06, -1.3 ,  0.54,  0.35,  0.87, -1.58, -0.16, -0.64,\n",
       "       -0.72,  1.7 ,  1.28, -0.45,  0.39,  0.43, -0.13, -0.39, -0.64,\n",
       "        0.17, -0.84,  0.86, -0.2 , -0.11, -0.24, -0.9 ,  0.8 , -0.29,\n",
       "        0.68, -0.34,  0.49,  0.77, -2.2 , -2.6 ,  0.48, -1.59, -1.11,\n",
       "       -1.  , -2.28,  1.55, -1.15,  0.19,  0.99, -1.59, -0.47, -0.19,\n",
       "        0.21,  1.61,  0.57, -0.64,  1.54,  0.31, -0.45,  1.77,  0.27,\n",
       "       -1.46,  1.85,  1.7 ,  0.35,  0.34,  1.06,  1.2 , -2.59, -0.71,\n",
       "        0.8 ,  1.19, -0.13, -1.07,  1.45, -0.28, -1.04,  0.2 ,  0.5 ,\n",
       "        1.61, -1.9 ,  1.3 ,  0.55, -0.2 ,  0.55,  0.26,  0.22,  0.93,\n",
       "        1.74, -0.12,  0.95,  0.71, -0.58, -0.76,  1.66,  2.55, -0.04,\n",
       "       -0.36, -1.86,  2.65, -0.14,  0.1 ,  0.12,  0.26,  1.49,  1.45,\n",
       "        0.7 ,  1.47,  0.35, -1.09,  0.36, -1.81, -0.2 ,  0.43, -0.54,\n",
       "        0.3 ,  2.08, -1.84, -0.51, -0.58,  1.06,  0.02,  0.02, -1.68,\n",
       "        0.81, -0.63, -1.25,  0.62, -0.12, -1.28,  0.32,  0.67,  0.15,\n",
       "        0.33, -0.35, -0.91,  1.68,  0.68, -0.7 ,  0.1 ,  1.2 , -0.28,\n",
       "       -0.05,  0.35, -0.41, -1.81, -0.9 ,  1.05, -0.98,  0.35,  0.67,\n",
       "        1.07, -0.23,  0.36, -1.51, -0.08, -0.3 , -0.73, -0.25, -0.13,\n",
       "       -0.37, -2.62,  2.12,  0.69, -0.16,  1.38,  0.07,  0.31,  0.45,\n",
       "       -0.79, -0.07, -1.42, -0.14, -0.56, -0.5 ,  0.69, -0.25, -1.27,\n",
       "       -0.26,  2.34, -0.78,  0.08, -1.34,  0.41,  0.2 ,  0.48,  0.03,\n",
       "       -0.18,  0.02,  2.05, -2.53,  0.42, -0.96, -0.13, -1.08,  1.25,\n",
       "        0.57,  0.3 ,  0.87, -0.16,  0.69,  1.98, -0.12,  0.96, -1.18,\n",
       "        1.47, -0.02,  0.71, -0.81, -2.25, -1.13, -0.31, -0.96,  0.67,\n",
       "        0.06, -0.66, -0.29, -0.22,  0.2 , -0.85,  2.64, -0.33, -0.15,\n",
       "        0.89,  1.29,  0.33, -0.08, -0.06,  1.86, -0.75, -0.34, -0.55,\n",
       "       -0.6 ,  2.12,  0.02, -0.87, -0.36, -0.95,  1.59,  0.  , -0.46,\n",
       "       -1.52,  0.15, -0.84,  0.01, -0.54,  0.68, -0.97,  0.82, -0.12,\n",
       "       -0.69,  1.04,  0.98,  0.62, -0.79,  0.02,  0.6 , -0.38, -0.06,\n",
       "        1.98,  0.08,  0.4 , -0.85, -0.08, -0.53, -0.24,  1.11, -0.04,\n",
       "       -0.96, -0.63,  0.27,  0.49,  0.59, -0.18, -0.43,  0.04, -2.37,\n",
       "       -1.59, -2.44, -0.26, -0.82, -0.04, -0.39,  0.23,  0.33,  0.84,\n",
       "       -0.91, -0.04, -1.99,  0.11, -0.59, -0.98, -1.04,  2.04, -0.66,\n",
       "       -0.61,  0.87, -0.74, -1.47,  0.71, -0.13, -0.16,  1.08, -0.61,\n",
       "       -0.71,  0.07, -0.42, -0.34,  1.31, -1.82,  0.22, -0.67,  0.26,\n",
       "        0.47,  0.49,  0.51, -1.14, -0.11,  1.27, -0.93,  0.19,  1.  ,\n",
       "       -0.1 , -2.12, -2.2 ,  1.12,  2.01,  0.3 , -0.49, -0.51, -1.07,\n",
       "        2.2 , -0.3 ,  1.35,  0.63, -0.07, -1.84,  0.11,  2.01, -0.76,\n",
       "        1.02, -1.59,  0.29,  1.34, -0.24, -0.23, -0.34,  0.32,  1.4 ,\n",
       "       -0.88,  0.11,  0.43,  1.61, -0.3 ,  1.64,  0.13,  0.17, -1.37,\n",
       "       -0.42,  0.88, -1.47,  0.76, -0.64, -0.02, -0.39,  0.89,  1.13,\n",
       "        1.73, -0.71, -1.29, -0.64,  0.7 ,  0.88, -0.65, -1.32, -0.82,\n",
       "        0.16,  0.67, -0.57,  0.74,  0.62,  0.97, -0.71, -0.74, -0.96,\n",
       "        0.46,  0.66,  0.75, -1.87, -0.56,  0.27,  0.93,  0.33,  0.74,\n",
       "       -0.8 ])"
      ]
     },
     "execution_count": 29,
     "metadata": {},
     "output_type": "execute_result"
    }
   ],
   "source": [
    "# seed를 선택하여 매번 실행시 동일한 값이 나오도록 설정\n",
    "np.random.seed(seed=1234)\n",
    "# 평균: 0, 표준편차:1, 데이터 수: 1000\n",
    "normal = np.random.normal(0,1,1000)\n",
    "# np.round(normal, 2)\n",
    "normal.round(2)"
   ]
  },
  {
   "cell_type": "code",
   "execution_count": 33,
   "metadata": {
    "scrolled": true
   },
   "outputs": [
    {
     "data": {
      "text/plain": [
       "<matplotlib.axes._subplots.AxesSubplot at 0x7fa1789e5898>"
      ]
     },
     "execution_count": 33,
     "metadata": {},
     "output_type": "execute_result"
    },
    {
     "data": {
      "image/png": "[encoded data removed]",
      "text/plain": [
       "<Figure size 432x288 with 1 Axes>"
      ]
     },
     "metadata": {
      "needs_background": "light"
     },
     "output_type": "display_data"
    }
   ],
   "source": [
    "sns.distplot(normal)"
   ]
  },
  {
   "cell_type": "markdown",
   "metadata": {},
   "source": [
    "---"
   ]
  },
  {
   "cell_type": "markdown",
   "metadata": {},
   "source": [
    "# T분포"
   ]
  },
  {
   "cell_type": "markdown",
   "metadata": {},
   "source": [
    "> 정규분포의 평균을 측정할 때 주로 사용\n",
    ">> t-검정은 모분산을 모를 때 모평균을 구하는 것이다."
   ]
  },
  {
   "cell_type": "markdown",
   "metadata": {},
   "source": [
    "## 실습 4 - T분포"
   ]
  },
  {
   "cell_type": "markdown",
   "metadata": {},
   "source": [
    "* Random Data 생성: n = 1000, Degree of freedom = 10\n",
    "* Random Data 생성: n = 1000, Degree of freedom = 50"
   ]
  },
  {
   "cell_type": "code",
   "execution_count": 35,
   "metadata": {},
   "outputs": [
    {
     "name": "stdout",
     "output_type": "stream",
     "text": [
      "[ 0.59  0.61  0.97 -0.29  1.01  0.1   0.39 -0.68  0.18 -0.57 -0.16  0.51\n",
      "  0.9   0.72  0.09 -1.02 -0.14 -0.59 -1.45 -0.08  0.46 -0.26  1.64 -0.79\n",
      "  0.19  0.51 -0.7   0.75  0.97  1.04  0.22 -0.91 -1.15 -0.98  0.27  0.18\n",
      " -0.86 -0.57  1.21 -0.93  0.96 -0.83 -0.65 -1.07  0.64  0.23  0.77  0.16\n",
      " -1.47 -0.3   1.31  0.74  0.45 -0.09 -2.28 -0.09 -0.38  0.06  0.62 -1.89\n",
      "  0.15  0.97 -2.76 -0.01  1.67 -0.75  0.24 -0.17  1.21 -0.87  0.18 -0.4\n",
      " -0.53 -0.98  0.78 -0.98  0.4   1.19  0.34  0.08  0.12 -0.53 -1.22  1.11\n",
      " -0.26  0.57 -1.19  0.38  2.57 -0.52 -0.78 -0.29  1.51  0.94  0.28 -2.41\n",
      " -0.37  0.99  0.02 -0.3  -1.94  0.43 -0.99 -0.6  -0.59 -0.42 -1.66  0.44\n",
      " -1.8  -0.73  0.32  0.09 -0.03 -0.08 -0.89  0.85 -0.87 -0.93  0.18  0.36\n",
      "  1.41  0.7   0.61 -0.09 -0.35  0.79 -1.37  1.7   0.87  0.06 -1.46  0.64\n",
      " -1.41 -0.02  2.29 -0.09  1.99 -1.   -0.89 -0.28  0.31  1.08 -0.18 -0.48\n",
      "  0.45  1.41  1.03 -1.08 -0.74 -0.38 -0.77 -0.35 -0.45 -0.32  1.77 -2.09\n",
      "  1.86  0.37 -0.21  0.95 -1.4   0.27 -0.49 -1.12 -1.1  -0.78 -0.57 -0.02\n",
      "  0.38  0.03  0.58 -0.54 -0.54  0.52 -1.09 -0.84 -0.75  1.21 -0.16  1.2\n",
      " -0.15  1.15 -0.36  1.2  -1.18 -0.61  0.77 -0.67 -0.99 -2.63 -0.5  -1.03\n",
      " -0.55  1.18  1.93  2.42  1.2   0.88  0.79  2.39  0.35  0.88  0.68 -0.84\n",
      "  0.07  0.61 -1.38  1.87 -1.46  0.21 -0.98 -1.8   0.95 -0.23  0.81 -1.03\n",
      "  0.36 -1.53 -0.55  1.22  0.31  0.69 -0.74  0.06 -0.43  0.93  0.2  -1.05\n",
      " -0.81  0.87  1.17 -2.3  -1.54  0.78 -1.74  0.38 -0.52  0.16 -1.13  0.02\n",
      "  0.29  1.5   1.24 -1.03  0.19 -0.55  1.21  1.19  0.73 -1.7  -0.61  0.11\n",
      "  2.61 -0.7   0.1   1.92  1.41  0.42 -1.9   0.26 -2.04 -1.22 -0.5   0.1\n",
      " -0.79  0.1   0.67  0.47  0.78 -2.2   0.38 -1.54  0.32 -0.36 -0.08 -1.61\n",
      " -1.96  0.02  0.3  -0.06 -0.61 -0.12  2.71  1.83  0.48 -0.01  0.51  0.36\n",
      "  1.16  0.62  2.06 -0.04  0.83  0.78 -0.37 -0.15 -0.22 -2.04  0.75 -2.12\n",
      " -0.62  0.   -0.93 -0.34 -1.51  0.54 -0.5  -0.09 -0.87  1.93  0.72 -2.51\n",
      "  1.99 -0.24 -0.21  2.13  0.45 -1.38 -2.55 -0.21  0.22 -0.77  0.12 -0.75\n",
      "  2.32 -1.18  0.74 -0.47 -0.7   1.28 -1.79 -0.49 -0.1  -0.11 -3.23  0.12\n",
      "  0.33 -0.42  1.24  2.07 -0.66 -0.47 -0.25  1.22 -0.88  1.52  0.13 -0.82\n",
      "  0.86  1.8   1.98  0.82 -0.84 -0.15  0.69 -0.63  0.42  1.63  0.9  -0.47\n",
      "  0.06 -0.18  0.83  0.64  0.94  1.45 -0.9  -0.63  1.76  1.24 -1.26  3.47\n",
      " -1.76  0.62 -0.45 -0.95 -0.44  0.06  0.32  1.36 -1.3   0.26 -1.12  0.11\n",
      " -2.54 -1.17 -0.35  0.38 -1.65  1.15 -0.28 -0.78 -0.4  -1.1   0.36 -0.7\n",
      "  0.01  0.19 -0.37 -1.51 -0.59 -1.42 -0.25  0.31  3.11 -0.35  2.04  1.09\n",
      "  1.31  0.98  0.9   1.   -0.43  0.53 -1.21 -1.15  0.43  0.28  0.66  0.08\n",
      "  1.4   0.58 -0.08 -1.33  2.19 -0.62 -0.19  1.47  0.   -1.65 -2.27  0.27\n",
      "  0.77 -0.87  1.52 -0.62 -1.21 -0.25 -0.78 -2.31  0.72 -0.02  0.2   0.96\n",
      " -0.39  0.71 -0.39 -0.62 -1.33 -0.97 -0.08  0.81  1.01  0.27  0.17 -1.55\n",
      "  1.92 -0.58  1.13  0.97 -0.14  0.04 -0.24  0.7  -0.12 -2.28  1.13 -1.15\n",
      "  0.41 -1.82 -1.61  0.4   1.05  0.46 -0.03  1.99 -0.02  1.45  0.18 -0.85\n",
      " -0.33  1.76 -0.59  0.48 -0.23  1.41 -0.43 -0.36  0.84 -0.38  3.36  0.85\n",
      " -0.27 -0.51  0.99  0.8  -0.58  1.09  0.85  0.31 -0.05 -0.46 -0.35  0.06\n",
      "  0.47 -0.37 -0.51  0.89  0.16  0.71 -0.73  0.9  -0.78 -0.64  0.08 -0.79\n",
      " -0.37  0.2   1.5   0.52 -0.51 -0.78  0.38 -0.31  0.65  1.18  0.12  0.52\n",
      " -1.12  0.9  -0.28  1.81 -2.52 -0.79 -1.46 -0.48  1.07 -0.44  0.87  1.67\n",
      "  0.31 -0.72  0.2  -1.64 -1.   -1.68 -0.34  0.28  0.77  1.49  0.37 -1.27\n",
      " -0.56  1.61  0.07  2.1   0.72  0.99  0.01  0.34  0.3  -1.49  3.16 -0.36\n",
      "  1.82  0.5  -1.63  0.57  0.93 -0.13  0.46  0.34 -0.56 -2.36  0.3   0.93\n",
      " -0.67  1.15  0.84 -1.75 -0.99 -1.94  0.32  0.14 -1.36 -0.51 -0.37 -1.11\n",
      " -0.19  1.12  0.05 -1.97  0.89 -0.7   0.43  0.36  0.46  0.65 -0.16 -0.01\n",
      " -0.04  0.75 -0.17 -3.43  1.65  1.18  1.62 -0.82  1.82 -0.38  1.34  1.09\n",
      "  0.09  0.39 -0.11  1.28  0.52 -1.9   1.03  2.7   0.98 -0.03 -1.53  0.2\n",
      "  1.1  -0.16  1.49 -0.13  0.71  1.26 -1.    0.44 -0.64 -0.45  0.85 -1.58\n",
      " -2.46  1.08  0.65  0.63 -0.25  0.87 -0.86  1.11  0.71 -0.86 -1.34 -0.06\n",
      "  0.3   0.92  2.04  1.44  0.92  0.6  -0.16 -0.76  0.79  1.37 -0.32  0.81\n",
      " -1.37 -0.72  0.63 -1.59  1.61 -0.57  0.49  0.35 -0.36 -2.4  -0.26  0.02\n",
      "  2.2   0.56  0.27 -0.73  0.36  0.44  2.26 -0.16 -0.74 -1.61  0.13  0.91\n",
      " -0.51 -0.62 -0.2   0.33  0.42 -0.3   0.23 -0.21  1.45  0.31  0.61 -0.95\n",
      "  2.07 -0.37 -1.35 -0.36  0.39 -0.39 -0.03  0.39  0.5  -1.28 -0.09  0.27\n",
      " -0.7   0.57 -0.05  2.41 -0.33  1.38  0.47  0.7   1.07  0.09  0.82 -0.14\n",
      " -0.89 -0.04  0.88  0.55 -0.77  0.48 -2.   -0.94 -0.89  1.69 -0.29  1.07\n",
      "  1.98  0.36 -0.53 -0.26 -1.04 -3.24  1.48  0.74  0.64  1.68 -0.97 -2.17\n",
      "  0.69 -0.48  1.42  0.15 -0.17 -1.25 -1.07  2.92  1.49 -0.95  0.05  0.48\n",
      " -0.9  -0.28  0.02  3.29 -0.12  0.17  0.36 -1.08 -2.38  0.34 -1.03  1.71\n",
      "  0.09  1.31 -0.28 -0.61  0.63  1.    0.47 -0.78 -0.33 -2.2  -1.59 -0.01\n",
      " -1.88  0.85 -0.19 -0.19 -0.27  1.36  1.    2.42  0.46  1.8   0.13  0.91\n",
      " -0.12  1.56  1.52 -1.94  1.37  0.2   0.69  0.4  -0.64  0.85  0.07 -1.\n",
      " -0.26 -0.22  0.42  0.37  0.59 -1.01  2.23  1.56 -1.37 -0.41  0.49 -0.02\n",
      " -1.95 -1.75  0.35  1.86  0.97 -0.31  1.35 -1.29  0.32  0.48 -0.08  0.09\n",
      "  0.81 -0.43 -0.37  0.57  0.64  0.98  0.68  2.17 -0.79  0.36  0.09  1.71\n",
      " -0.42  0.58  0.65  0.72 -0.77  0.02 -0.82  0.65 -0.12  0.19 -0.3  -0.58\n",
      " -0.25 -0.5   1.44 -0.86 -0.37 -0.1   0.03 -1.06  1.16  1.59  0.89 -0.51\n",
      " -0.45  1.43 -0.95 -2.15  0.03 -1.21 -0.88  1.2   0.02  1.08 -0.78 -0.37\n",
      "  0.18 -1.13  0.12  1.91  0.58 -0.64  1.69  0.33  1.18  1.16  1.52  0.63\n",
      "  0.84  0.42 -2.42  0.75  1.65  0.86 -0.68 -0.58  0.42  1.19  0.37  0.31\n",
      " -0.62 -0.51 -0.79 -0.69  1.58  1.94 -0.51 -2.9   0.45 -0.22 -0.19 -0.92\n",
      "  0.63 -1.23 -1.75  0.62  2.01  0.98  0.53 -0.87  1.54  0.83 -0.56  0.85\n",
      " -0.64 -0.99 -0.47  0.03 -0.17  0.58  0.11  1.61  1.01  0.4  -0.47  1.16\n",
      " -1.36  0.25 -1.12 -0.62  0.56  1.62  0.51 -0.91  0.12  0.17  2.99 -0.61\n",
      "  1.54  0.27  1.24 -0.73  0.62  0.23 -1.18 -0.29 -1.62  1.04  0.39 -0.02\n",
      " -0.45 -0.83 -1.03  0.82  2.26  0.3  -0.66 -1.48  1.54  0.1   0.1   1.12\n",
      "  0.8  -0.07 -1.7   1.01 -0.18 -1.97  0.09  0.37 -0.41 -0.31  0.24 -1.38\n",
      " -0.38  1.34 -0.16  0.95  0.06 -0.34  1.61 -1.3  -0.39 -0.23 -1.81 -0.58\n",
      "  1.63  1.01  0.03  0.72] [-0.82  1.55 -0.49 -1.54  0.13 -0.99 -0.51  0.07  1.84  1.11  0.44  0.72\n",
      " -0.21 -1.22 -0.35  0.78  0.69  0.09  2.56 -0.2  -0.41 -0.35 -1.16 -0.39\n",
      "  1.64 -0.88  2.02 -0.35 -1.36  0.2   0.76  0.94  0.52 -0.64  0.93  0.32\n",
      "  0.74 -0.37  0.18 -1.98 -0.63  0.11 -2.18  3.42 -1.33 -0.03  0.86  1.56\n",
      " -0.43  1.42  0.48  0.54 -1.75  1.51 -1.18  1.55 -1.83  1.95  0.1  -0.65\n",
      " -0.61  0.02 -0.04 -0.74  0.23  0.72  0.77  0.7   1.39 -0.32  0.96 -0.77\n",
      "  1.32  0.12 -0.45 -2.26  0.28  0.01  1.45  0.67 -0.48 -1.67 -0.91  1.45\n",
      "  1.68 -0.52  0.4  -0.06  0.1  -0.35 -1.17 -0.84 -0.64  0.03  1.06  0.56\n",
      "  1.71 -1.83 -1.36 -0.17 -0.25 -0.38 -1.07  0.98  1.97 -0.24  0.69 -0.75\n",
      " -1.14 -0.05  1.38  0.28  0.31  2.11 -0.03  0.88 -1.06 -0.27 -0.17  0.03\n",
      " -1.62  0.01  0.08  0.19  0.49  0.95  0.25  1.67  0.66  0.64 -0.66 -0.85\n",
      "  0.87 -0.51 -0.33 -0.62  1.98 -0.72  0.58  0.79 -1.71 -1.49  2.35 -1.22\n",
      " -0.53  1.78  1.82 -2.02  0.02  0.09 -0.25 -1.59 -0.74 -0.78 -0.2  -0.66\n",
      " -0.83 -0.38  1.33  1.13  0.61  0.96 -0.35 -0.72  0.97 -0.01  0.49 -0.16\n",
      " -0.44  0.35  0.89  2.21  0.14  0.79 -1.97  0.31  0.99  0.77 -1.66 -1.37\n",
      "  0.73  0.17  0.04  0.89  0.41  0.04  0.87  0.07  0.06 -0.12 -0.49  1.84\n",
      " -0.07 -0.98  0.04 -1.36  0.69  0.07  1.08  2.54  1.13 -0.68  0.88  0.89\n",
      " -0.58 -0.17 -0.5  -0.26 -0.9  -2.1  -0.88 -1.34 -1.62 -0.17 -1.41  0.31\n",
      "  0.54  0.   -0.1  -1.36 -0.35  0.07 -0.07 -0.19 -0.42  2.2  -0.05  0.66\n",
      "  1.09 -1.08  0.79  1.72 -0.52 -0.38  0.29 -1.58 -0.67 -0.23 -0.79  0.08\n",
      "  0.2   0.69 -0.27  1.35  0.24 -1.77  0.99  0.46  1.02  1.73 -0.93 -0.17\n",
      "  0.57  0.77 -0.92 -0.47  1.85  0.06 -0.08  0.83 -0.28  0.55 -0.11 -0.73\n",
      "  0.02 -0.17  0.49  0.24 -1.06 -1.37 -0.16  0.09  0.74  1.33  1.21  0.24\n",
      " -0.76 -0.12 -0.82  1.    0.04  0.3  -0.42  0.63 -0.71 -0.29 -0.89  0.7\n",
      "  1.99  0.98 -0.95  0.61  0.73  2.03 -1.55 -0.28  0.76  0.05  0.18  1.67\n",
      "  1.18 -1.04 -0.47  0.74  0.26 -0.35 -0.4   1.62 -0.6  -0.56  1.26 -0.01\n",
      "  0.93 -0.19  0.19  0.32  1.4  -1.13 -0.91  0.39  2.24 -1.14  1.05 -0.51\n",
      "  1.57 -0.81  0.1  -1.1  -0.71  0.21  0.86  0.39 -0.86  0.52  0.3  -1.71\n",
      "  0.44 -0.05  1.33 -1.29 -0.34  0.66 -0.09 -2.31 -0.31 -0.21 -1.09  0.68\n",
      "  0.03  1.1  -0.72 -0.81 -1.67 -1.1  -0.17  1.01  0.44 -1.55  0.76 -1.3\n",
      " -0.14  0.53  1.26 -0.53  0.67 -0.64 -2.88  0.22 -0.06  1.49 -0.58  1.57\n",
      " -1.18  0.95 -1.4   0.24  0.   -0.18 -1.99 -1.51  0.4   0.95  0.47 -0.12\n",
      " -0.31 -0.8  -1.61  0.18  0.4  -0.96  0.55 -0.33  0.02 -0.31  1.7   1.97\n",
      " -0.38  0.19 -1.19 -0.13  0.13  1.23 -0.47 -1.32  1.58 -0.52  0.63  0.1\n",
      " -1.27  1.01 -0.63 -0.04 -0.45 -0.28 -0.73  1.48 -1.01  0.11 -0.84  0.44\n",
      " -0.89  0.95  1.07 -0.25  0.31 -0.43 -0.24 -0.13  0.32  0.33 -0.32  0.66\n",
      " -0.41  1.1   0.01 -0.56  0.32 -0.54 -1.14  1.18 -0.91 -1.77  1.93  0.08\n",
      "  0.63 -0.19  0.01  0.92  0.3  -0.3  -1.71 -0.31 -0.64 -0.15 -0.36  0.4\n",
      " -0.02  0.11 -1.69 -0.55  1.5  -2.01  0.25  0.64  0.8   0.09 -0.29 -0.1\n",
      " -1.43 -0.9   1.38 -1.51  1.58  2.68  0.17  1.01  1.64  0.21  1.52 -1.68\n",
      " -1.27  1.26 -1.57 -0.52  1.58  1.15 -0.94 -2.9  -0.23  0.61  2.1  -0.61\n",
      " -1.9   0.93  0.1   0.69 -0.32  0.96 -0.29 -0.53 -0.11 -0.47 -0.16  0.34\n",
      "  0.17  1.33  0.27 -1.59  0.08 -0.32  1.97 -0.61  0.43 -1.06  0.26  0.48\n",
      "  2.11 -0.47  0.37 -0.63  2.27  2.2   1.61  0.81  0.2   1.85  1.48  0.5\n",
      " -0.33  1.96  0.83  0.12 -0.22  0.16  0.54 -0.06  0.83 -1.13  0.25  1.09\n",
      "  0.59  0.07  0.77  0.18  0.75  1.27 -0.24  0.5  -1.62 -0.27 -1.64  1.23\n",
      "  1.18 -0.95 -0.69  0.64  0.99 -1.31  0.67  1.25  0.51  0.2  -0.83  0.46\n",
      " -0.78  2.45 -0.21 -1.28  0.4  -0.24  0.89  1.64  0.33 -1.08 -0.31 -1.04\n",
      " -1.03  2.06  0.03  0.14  0.89  0.05  0.72 -0.5  -0.05 -0.44 -0.48 -0.39\n",
      " -0.96  1.27 -0.12 -0.91 -1.32 -0.19  1.38  1.98 -1.25  1.14 -0.14  0.52\n",
      " -2.15  0.32 -0.06 -0.85 -0.03 -1.07  1.22 -0.44  1.11  0.47 -1.07 -0.89\n",
      " -0.48  1.99  0.47 -0.3   0.37 -1.33  0.81 -0.48  0.85 -0.14  0.77  1.74\n",
      "  1.04 -0.06  0.24 -0.69  1.47  1.21  1.13 -0.06 -0.56  0.66 -1.72 -0.79\n",
      "  0.45 -0.21 -2.24 -0.   -0.01 -1.45  0.75  0.07  0.64  0.54 -1.51 -0.93\n",
      "  2.03 -0.66  0.16  0.98 -1.49 -0.62  0.95 -0.34  1.62 -0.64  1.15  0.31\n",
      "  0.6  -0.57 -0.24  0.4  -0.77 -0.31 -1.56 -1.86 -0.66 -0.3   1.31 -0.82\n",
      "  0.63 -1.73  0.02  0.25 -1.43  0.51  2.88 -0.35  0.46 -1.03  1.4   1.01\n",
      " -0.08 -0.64  2.19 -0.51 -1.38 -0.05  0.25  0.48 -0.79 -0.73  0.63  1.36\n",
      "  0.12  1.02 -0.57  0.56  1.3  -1.8  -1.19  0.2   0.66 -0.54 -0.13 -0.41\n",
      "  0.94 -1.19  0.48 -0.93 -0.88  0.34  0.75 -1.21 -0.04 -1.76  0.09 -1.56\n",
      "  0.75 -0.42  0.48  0.59 -0.2  -0.09 -1.02  1.19 -0.95 -1.29 -0.37 -0.63\n",
      "  0.36  0.2  -0.07  2.11  0.16  0.89  0.22  0.34  0.57  0.04  3.46 -0.22\n",
      "  0.75  0.37 -2.53 -0.29 -0.71 -1.38  1.78 -0.46 -0.35  0.12 -0.3   0.35\n",
      " -0.02  0.02  0.9   0.34  0.99  0.3  -0.23  0.72  1.39 -0.52 -0.81 -1.22\n",
      " -1.55  1.65  0.11  1.58 -0.24 -0.82 -1.61 -0.63 -0.51 -1.58  0.61  0.\n",
      "  1.38  0.51  0.69  0.57  1.37 -0.45 -0.39  1.98  0.13 -0.52  0.1  -0.39\n",
      "  0.07 -1.08 -0.47 -0.1  -0.19  1.39 -0.81 -1.2   1.03  0.32  0.58  0.7\n",
      "  0.23  0.83  0.85  0.94  1.97 -0.18 -0.26  0.22 -0.34 -1.89  1.29 -0.04\n",
      " -1.06 -1.   -1.16 -0.29 -0.05  2.65  0.33 -1.72  0.13 -0.95 -0.63 -0.05\n",
      " -0.49 -0.69 -0.84 -0.52 -1.26 -0.74  1.69 -0.27  0.79  0.77 -0.06 -0.83\n",
      " -0.18  0.22  1.59 -0.29 -0.66 -1.81  0.23  0.04 -0.64 -0.99  0.05  0.6\n",
      "  0.37 -1.4  -0.33 -1.21 -0.08  0.09 -0.81  0.84  1.88 -0.32  0.28  0.01\n",
      "  0.85 -0.52 -2.24 -0.73  1.07 -0.75 -1.5  -0.11 -1.14 -1.15 -1.12  0.24\n",
      " -1.11  1.16 -0.3  -0.04 -0.85 -0.87 -0.24 -1.71  0.48  0.09 -0.29 -1.33\n",
      " -1.65 -0.17  0.28 -0.35 -0.4  -1.84 -2.36  0.41 -0.4   0.41 -0.42 -0.31\n",
      "  2.22 -0.16 -0.88  0.74  1.26 -1.17  0.42  0.11  0.64  0.87 -0.44 -0.68\n",
      "  0.51 -1.2   0.3   0.68 -0.58  0.36 -0.33  0.25 -0.41 -1.55  0.08 -0.81\n",
      " -0.49 -0.08  1.05 -0.95 -0.32  0.29 -0.66  0.43  0.17 -0.11  0.53  1.89\n",
      "  0.15 -0.45 -0.7  -0.21  0.59 -0.41  0.95 -0.   -0.26  1.11 -1.4  -0.47\n",
      " -0.89  0.26  0.31  0.17 -0.52  2.38  0.11  0.12  1.23 -1.24 -1.17  0.03\n",
      "  1.9   0.01 -0.76 -0.63  1.01  1.05 -0.37 -0.06 -0.23 -1.97  0.94  0.7\n",
      " -0.51 -0.1   0.3   1.3  -1.22 -0.29  1.41 -0.18 -0.03  1.37  1.01 -0.33\n",
      "  2.19 -1.73 -2.67 -0.38  0.98  0.39  1.6  -0.8  -1.64 -0.48  0.59  0.38\n",
      "  0.72  0.07 -1.01 -0.63]\n"
     ]
    }
   ],
   "source": [
    "# seed를 선택하여 매번 실행시 동일한 값이 나오도록 설정\n",
    "np.random.seed(seed=1234)\n",
    "# 자유도20, 데이터 수: 1000\n",
    "t_df_20 = np.random.standard_t(df=20, size=1000)\n",
    "# 자유도50, 데이터 수: 1000\n",
    "t_df_50 = np.random.standard_t(df=50, size=1000)\n",
    "# np.round(normal, 2)\n",
    "print(t_df_20.round(2),t_df_50.round(2))"
   ]
  },
  {
   "cell_type": "code",
   "execution_count": 36,
   "metadata": {},
   "outputs": [
    {
     "name": "stderr",
     "output_type": "stream",
     "text": [
      "/home/pirl/anaconda3/lib/python3.7/site-packages/scipy/stats/stats.py:1713: FutureWarning: Using a non-tuple sequence for multidimensional indexing is deprecated; use `arr[tuple(seq)]` instead of `arr[seq]`. In the future this will be interpreted as an array index, `arr[np.array(seq)]`, which will result either in an error or a different result.\n",
      "  return np.add.reduce(sorted[indexer] * weights, axis=axis) / sumval\n"
     ]
    },
    {
     "data": {
      "text/plain": [
       "<matplotlib.axes._subplots.AxesSubplot at 0x7fa17838a080>"
      ]
     },
     "execution_count": 36,
     "metadata": {},
     "output_type": "execute_result"
    },
    {
     "data": {
      "image/png": "[encoded data removed]",
      "text/plain": [
       "<Figure size 432x288 with 1 Axes>"
      ]
     },
     "metadata": {
      "needs_background": "light"
     },
     "output_type": "display_data"
    }
   ],
   "source": [
    "sns.distplot(t_df_20, fit=stats.norm, kde=False)"
   ]
  },
  {
   "cell_type": "code",
   "execution_count": 37,
   "metadata": {
    "scrolled": true
   },
   "outputs": [
    {
     "data": {
      "text/plain": [
       "<matplotlib.axes._subplots.AxesSubplot at 0x7fa17886ce48>"
      ]
     },
     "execution_count": 37,
     "metadata": {},
     "output_type": "execute_result"
    },
    {
     "data": {
      "image/png": "[encoded data removed]",
      "text/plain": [
       "<Figure size 432x288 with 1 Axes>"
      ]
     },
     "metadata": {
      "needs_background": "light"
     },
     "output_type": "display_data"
    }
   ],
   "source": [
    "sns.distplot(t_df_50, fit=stats.norm, kde=False)"
   ]
  },
  {
   "cell_type": "markdown",
   "metadata": {},
   "source": [
    "---"
   ]
  },
  {
   "cell_type": "markdown",
   "metadata": {},
   "source": [
    "## 실습 5 - T분포"
   ]
  },
  {
   "cell_type": "markdown",
   "metadata": {},
   "source": [
    "> 확률변수 t는 자유도가 10인 t-분포를 따른다. t값이 2.0일때, P(T<= t)를 계산하시오"
   ]
  },
  {
   "cell_type": "code",
   "execution_count": 40,
   "metadata": {},
   "outputs": [],
   "source": [
    "t = 2.0\n",
    "df = 10"
   ]
  },
  {
   "cell_type": "code",
   "execution_count": 43,
   "metadata": {},
   "outputs": [
    {
     "data": {
      "text/plain": [
       "96.33059826146297"
      ]
     },
     "execution_count": 43,
     "metadata": {},
     "output_type": "execute_result"
    }
   ],
   "source": [
    "# 누적확률 값 계산\n",
    "prop = stats.t.cdf(t, df)\n",
    "prop * 100"
   ]
  },
  {
   "cell_type": "markdown",
   "metadata": {},
   "source": [
    "---"
   ]
  },
  {
   "cell_type": "markdown",
   "metadata": {},
   "source": [
    "# 카이제곱 분포"
   ]
  },
  {
   "cell_type": "markdown",
   "metadata": {},
   "source": [
    "> 정규분포를 따르는 모집단에서 크기가 n인 표본을 무작위로 반복하여 추출하였을 때, 각 표본에 대해 구한 표본분산들은 카이제곱 분포를 따름(분산의 분포)\n",
    ">> 용도: 모집단의 평균 추정, 검정\n",
    ">>>카이제곱 검정은 모분산을 구하는 것이다"
   ]
  },
  {
   "cell_type": "markdown",
   "metadata": {},
   "source": [
    "## 실습 6 - 카이제곱 분포"
   ]
  },
  {
   "cell_type": "markdown",
   "metadata": {},
   "source": [
    "* Random Data 생성: n = 1000, df = 3\n",
    "* Random Data 생성: n = 1000, df = 50"
   ]
  },
  {
   "cell_type": "code",
   "execution_count": 44,
   "metadata": {},
   "outputs": [
    {
     "name": "stderr",
     "output_type": "stream",
     "text": [
      "/home/pirl/anaconda3/lib/python3.7/site-packages/scipy/stats/stats.py:1713: FutureWarning: Using a non-tuple sequence for multidimensional indexing is deprecated; use `arr[tuple(seq)]` instead of `arr[seq]`. In the future this will be interpreted as an array index, `arr[np.array(seq)]`, which will result either in an error or a different result.\n",
      "  return np.add.reduce(sorted[indexer] * weights, axis=axis) / sumval\n"
     ]
    },
    {
     "data": {
      "text/plain": [
       "<matplotlib.axes._subplots.AxesSubplot at 0x7fa17816b748>"
      ]
     },
     "execution_count": 44,
     "metadata": {},
     "output_type": "execute_result"
    },
    {
     "data": {
      "image/png": "[encoded data removed]",
      "text/plain": [
       "<Figure size 432x288 with 1 Axes>"
      ]
     },
     "metadata": {
      "needs_background": "light"
     },
     "output_type": "display_data"
    }
   ],
   "source": [
    "np.random.seed(seed=1234)\n",
    "# 카이제곱 분포를 따르는 데이터 생성\n",
    "chisq_df3 = np.random.chisquare(df=3,size=1000)\n",
    "chisq_df50 = np.random.chisquare(df=50,size=1000)\n",
    "# 히스토그램, 카이제곱 분포의 kde생성\n",
    "sns.distplot(chisq_df3, kde=True)\n",
    "# sns.distplot(chisq_df50, kde=True)"
   ]
  },
  {
   "cell_type": "markdown",
   "metadata": {},
   "source": [
    "## 실습 7 - 카이제곱 분포"
   ]
  },
  {
   "cell_type": "markdown",
   "metadata": {},
   "source": [
    "* 확률변수 x^2은 자유도가 8인 카이제곱 분포를 따른다. x^2값이 3.0일때, P(X<=x^2)를 계산하시오"
   ]
  },
  {
   "cell_type": "code",
   "execution_count": 6,
   "metadata": {},
   "outputs": [
    {
     "data": {
      "text/plain": [
       "0.06564245437845008"
      ]
     },
     "execution_count": 6,
     "metadata": {},
     "output_type": "execute_result"
    }
   ],
   "source": [
    "chisq = 3\n",
    "df = 8\n",
    "prop = stats.chi2.cdf(chisq, df)\n",
    "prop"
   ]
  },
  {
   "cell_type": "markdown",
   "metadata": {},
   "source": [
    "---"
   ]
  },
  {
   "cell_type": "markdown",
   "metadata": {},
   "source": [
    "# F 분포"
   ]
  },
  {
   "cell_type": "markdown",
   "metadata": {},
   "source": [
    "> * F분포는 카이제곱 분포와 마찬가지로, 종형의 대칭 분포가 아니다.\n",
    "* 표준정규분포를 제곱하여 합한 카이제곱 분포 2개를 서로 나눈 값이므로, 0보다 큰 영역에서만 그려진다.\n",
    "* F(n1,n2)와 1/F(n2,n1)은 동일한 분포를 가진다\n",
    "* T분포를 제곱하면 F분포를 하게 된다.\n",
    "\n",
    "> ***용도:***  \n",
    ">> F-검정은 A의 모표준편차 / B의 모표준편차 을 구할 때 사용한다."
   ]
  },
  {
   "cell_type": "markdown",
   "metadata": {},
   "source": [
    "## 실습 8 - F 분포"
   ]
  },
  {
   "cell_type": "markdown",
   "metadata": {},
   "source": [
    "> * Random Data 생성:\n",
    ">> n = 1000, numerator df = 10, denominator df = 10\n",
    "> * Random Data 생성:\n",
    ">> n = 100, numerator df = 10, denominator df = 50\n"
   ]
  },
  {
   "cell_type": "code",
   "execution_count": 7,
   "metadata": {},
   "outputs": [
    {
     "name": "stderr",
     "output_type": "stream",
     "text": [
      "/home/pirl/anaconda3/lib/python3.7/site-packages/scipy/stats/stats.py:1713: FutureWarning: Using a non-tuple sequence for multidimensional indexing is deprecated; use `arr[tuple(seq)]` instead of `arr[seq]`. In the future this will be interpreted as an array index, `arr[np.array(seq)]`, which will result either in an error or a different result.\n",
      "  return np.add.reduce(sorted[indexer] * weights, axis=axis) / sumval\n"
     ]
    },
    {
     "data": {
      "text/plain": [
       "<matplotlib.axes._subplots.AxesSubplot at 0x7f19e51ff668>"
      ]
     },
     "execution_count": 7,
     "metadata": {},
     "output_type": "execute_result"
    },
    {
     "data": {
      "image/png": "[encoded data removed]",
      "text/plain": [
       "<Figure size 432x288 with 1 Axes>"
      ]
     },
     "metadata": {
      "needs_background": "light"
     },
     "output_type": "display_data"
    }
   ],
   "source": [
    "np.random.seed(seed = 1234)\n",
    "F_df10_10 = np.random.f(dfnum=10,dfden=10,size=1000)\n",
    "sns.distplot(F_df10_10, kde=True)"
   ]
  },
  {
   "cell_type": "code",
   "execution_count": 8,
   "metadata": {},
   "outputs": [
    {
     "data": {
      "text/plain": [
       "<matplotlib.axes._subplots.AxesSubplot at 0x7f19e4ceea58>"
      ]
     },
     "execution_count": 8,
     "metadata": {},
     "output_type": "execute_result"
    },
    {
     "data": {
      "image/png": "[encoded data removed]",
      "text/plain": [
       "<Figure size 432x288 with 1 Axes>"
      ]
     },
     "metadata": {
      "needs_background": "light"
     },
     "output_type": "display_data"
    }
   ],
   "source": [
    "np.random.seed(seed = 1234)\n",
    "F_df10_50 = np.random.f(dfnum=10,dfden=50,size=100)\n",
    "sns.distplot(F_df10_50, kde=True)"
   ]
  },
  {
   "cell_type": "markdown",
   "metadata": {},
   "source": [
    "---"
   ]
  },
  {
   "cell_type": "markdown",
   "metadata": {},
   "source": [
    "# 와이블 분포"
   ]
  },
  {
   "cell_type": "markdown",
   "metadata": {},
   "source": [
    "> * 지수분포를 보다 일반화 시켜, 여러 다양한 확률분포 형태를 모두 나타낼 수 있도록 고안됨 >> 신뢰성 분야의 응용에서 자주 사용되는 수명 분포\n",
    "> 스웨덴 물리학자 와이블이 재료의 파괴강도를 설명하기 위해 1939년에 제안\n",
    "> * ***용도:***  \n",
    ">> * 부품의 수명 추정 분석 \n",
    ">> * 신뢰성 공학에서 실패 분석 \n",
    ">> * 산업현장에서 어떤 제품의 제고에 걸리는 시간"
   ]
  },
  {
   "cell_type": "markdown",
   "metadata": {},
   "source": [
    "## 실습 9 - 와이블 분포"
   ]
  },
  {
   "cell_type": "markdown",
   "metadata": {},
   "source": [
    "> 어떤 제품의 수명시간 X가 형상모수 5.2, 척도모수 2,200인 와이블 분포를 따른다고 할 때, 이 제품이 적어도 2,500 시간 이상 작동할 확률을 구하라.\n",
    ">> 척도모수 1500, 형상모수 2.5인 와이블 분포로, 1,200 이상일 확률은 ( ) 이다."
   ]
  },
  {
   "cell_type": "code",
   "execution_count": 11,
   "metadata": {},
   "outputs": [
    {
     "name": "stdout",
     "output_type": "stream",
     "text": [
      "척도모수 2200, 형상모수 5.2인 와이블 분포로 2500 이상일 확률은 0.857 이다.\n"
     ]
    }
   ],
   "source": [
    "x = 2500\n",
    "alpha = 5.2\n",
    "beta = 2200\n",
    "# 누적 확률 값 계산\n",
    "\n",
    "prop = stats.weibull_min.cdf(x, alpha, scale=beta)\n",
    "print(\"척도모수 {0}, 형상모수 {1}인 와이블 분포로 {2} 이상일 확률은 {3:.3f} 이다.\".format(beta, alpha, x, prop))"
   ]
  },
  {
   "cell_type": "markdown",
   "metadata": {},
   "source": [
    "---"
   ]
  },
  {
   "cell_type": "markdown",
   "metadata": {},
   "source": [
    "# 이항 분포"
   ]
  },
  {
   "cell_type": "markdown",
   "metadata": {},
   "source": [
    "> * 연속된 n번의 독립적 시행에서 각 시행이 확률 p를 가질때의 이산 확률 분포 >> 이항분포는 베르누이 실험을 여러 번 시행해서 특정한 횟수의 성공/실패 또는 양품/불량품이 나타날 확률을 알고자 할 때 사용되는 분포로, 베르누이 분포는 이항분포에서 시행횟수 n=1 인 특수한 경우임\n",
    ">> * 베르누이 시행을 n번 시행함\n",
    ">> * 각 시행마다 성공의 확률 p는 항상 일정함\n",
    ">> * 각 시행은 통계적으로 독립적임\n",
    "> * ***용도***  \n",
    ">> * 남/여 또는 찬/반 같은 이항변수인 자료의 분포를 추론하는 데 사용 \n",
    ">> * 연구자가 사건의 발생이냐 그렇지 않느냐에 관심을 가짐 사건의 발생 정도에 관심 없음\n",
    ">>> * 예) 병원의 경우: 죽느냐 사느냐에 관심, 치료 후 얼마나 오랫동안 살았는지에는 관심 없음"
   ]
  },
  {
   "cell_type": "markdown",
   "metadata": {},
   "source": [
    "---"
   ]
  },
  {
   "cell_type": "markdown",
   "metadata": {},
   "source": [
    "# 포아송 분포"
   ]
  },
  {
   "cell_type": "markdown",
   "metadata": {},
   "source": [
    "> * 일정한 단위(면적, 시간, 공간, 구간) 당 특정한 사실이 일어날 확률에 관한 분포\n",
    ">> 이항분포에서, 평균을 일정(np = m)하게 하고 n을 충분히 크게 (n=무한대) 로 하는 경우, n>=50 이고, p<=0.1 인 경우의 이항분포의 확률값은 포아송 분포에 근사\n",
    "> * ***용도***: 단위시간, 단위구간 또는 단위 면적에서의 사건 발생 수와 관련  \n",
    ">> * 회로 판 1개에서 발견할 수 있는 납땜불량이 x건 이하일 확률\n",
    ">> * 단위 시간 내에 걸려오는 전화수가 x건 이하일 확률\n",
    ">> * 경부 고속도로에서 하루에 발생되는 교통사고가 x대 이하일 확률"
   ]
  },
  {
   "cell_type": "markdown",
   "metadata": {},
   "source": [
    "## 실습 10 - 포아송 분포"
   ]
  },
  {
   "cell_type": "markdown",
   "metadata": {},
   "source": [
    "* 도장공정에서 광택도 불량이 30%나 된다고 함\n",
    "* 5대의 차량을 임의로 선택했을 때 불량대수가 각각 0,1,2,3,4,5 대가 나올 확률은 얼마인가?"
   ]
  },
  {
   "cell_type": "code",
   "execution_count": 12,
   "metadata": {},
   "outputs": [
    {
     "name": "stdout",
     "output_type": "stream",
     "text": [
      "P(X=0) = 0.168\n",
      "P(X=1) = 0.360\n",
      "P(X=2) = 0.309\n",
      "P(X=3) = 0.132\n",
      "P(X=4) = 0.028\n",
      "P(X=5) = 0.002\n"
     ]
    }
   ],
   "source": [
    "n = 5\n",
    "for i in range(n+1):\n",
    "    # 이항분포 Probability Mass Function\n",
    "    prop = stats.binom.pmf(k=i, n=n, p=0.3)\n",
    "    print('P(X={0}) = {1:.3f}'.format(i,prop))"
   ]
  },
  {
   "cell_type": "markdown",
   "metadata": {},
   "source": [
    "## 실습 11 - 포아송 분포"
   ]
  },
  {
   "cell_type": "markdown",
   "metadata": {},
   "source": [
    "* 한 상점에서는 평균 1시간에 2명씩 포아송분포로 손님이 도착한다.\n",
    "* 이 때 10시에서 11시 사이에 다음이 발생할 확률을 구하시오\n",
    ">1. 2명의 손님이 도착\n",
    ">2. 1명 이하의 손님이 도착\n",
    ">3. 3명 이상의 손님이 도착"
   ]
  },
  {
   "cell_type": "code",
   "execution_count": 15,
   "metadata": {},
   "outputs": [
    {
     "name": "stdout",
     "output_type": "stream",
     "text": [
      "0.2706705664732254\n",
      "0.40600584970983794\n",
      "0.14287653950145296\n"
     ]
    }
   ],
   "source": [
    "# 평균\n",
    "mu = 2\n",
    "# 2명의 손님이 도착\n",
    "prop = stats.poisson.pmf(2,mu)\n",
    "print(prop)\n",
    "# 1명 이하의 손님이 도착\n",
    "prop = stats.poisson.cdf(1,mu)\n",
    "print(prop)\n",
    "# 3aud 이상의 손님이 도착\n",
    "prop = stats.poisson.sf(3,mu)\n",
    "print(prop)"
   ]
  },
  {
   "cell_type": "markdown",
   "metadata": {},
   "source": [
    "---"
   ]
  },
  {
   "cell_type": "markdown",
   "metadata": {},
   "source": [
    "# 기술 통계"
   ]
  },
  {
   "cell_type": "markdown",
   "metadata": {},
   "source": [
    ">1. 중심/산포 척도\n",
    ">> * 산수평균, 중앙값, 최빈값\n",
    ">> * Range, 분산, 표준편차\n",
    ">2. 범주형 데이터에 계산\n",
    ">> * counts, percents, cumulative counts, cumulative percents"
   ]
  },
  {
   "cell_type": "markdown",
   "metadata": {},
   "source": [
    "## 정의"
   ]
  },
  {
   "cell_type": "markdown",
   "metadata": {},
   "source": [
    "수집된 데이터로부터 ***평균, 분산 등의 요약 통계량*** 이나 ***그래프***를 이용하여 체계적으로 정리/요약 하여 ***전반적 특성***을 파악하는 것"
   ]
  },
  {
   "cell_type": "markdown",
   "metadata": {},
   "source": [
    "## 활용 용도"
   ]
  },
  {
   "cell_type": "markdown",
   "metadata": {},
   "source": [
    "* 데이터의 중심적 경향 파악 - 중심척도(Central Tendency)\n",
    ">* 평균(mean)\n",
    ">* 중앙값(median) \n",
    ">* 최빈값(mode)\n",
    "* 데이터의 퍼짐 정도(Spread) - 산포척도(Degree of Dispersion)\n",
    ">* 표준편차(Standard Deviation)\n",
    ">* 분산(Variance)\n",
    ">* 범위(Range)\n",
    ">* 사분위 범위(inter-quartile range)\n",
    "* 데이터의 분포모양 확인 - 분포모양(Shape)\n",
    ">* 왜도(Skewness)\n",
    ">* 첨도(Kurtosis)"
   ]
  },
  {
   "cell_type": "markdown",
   "metadata": {},
   "source": [
    "## 중심/산포 척도"
   ]
  },
  {
   "cell_type": "markdown",
   "metadata": {},
   "source": []
  }
 ],
 "metadata": {
  "kernelspec": {
   "display_name": "Python 3",
   "language": "python",
   "name": "python3"
  },
  "language_info": {
   "codemirror_mode": {
    "name": "ipython",
    "version": 3
   },
   "file_extension": ".py",
   "mimetype": "text/x-python",
   "name": "python",
   "nbconvert_exporter": "python",
   "pygments_lexer": "ipython3",
   "version": "3.7.1"
  }
 },
 "nbformat": 4,
 "nbformat_minor": 2
}
