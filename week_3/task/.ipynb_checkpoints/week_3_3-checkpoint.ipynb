{
 "cells": [
  {
   "cell_type": "code",
   "execution_count": 1,
   "metadata": {},
   "outputs": [],
   "source": [
    "import numpy as np\n",
    "import pandas as pd\n",
    "from scipy import stats\n",
    "import matplotlib.pyplot as plt\n",
    "import seaborn as sns\n",
    "import statsmodels.api as sm\n",
    "from statsmodels.stats.proportion import proportions_ztest\n",
    "from sklearn import linear_model"
   ]
  },
  {
   "cell_type": "markdown",
   "metadata": {},
   "source": [
    "# 상관, 회귀 분석"
   ]
  },
  {
   "cell_type": "markdown",
   "metadata": {},
   "source": [
    "## 상관 분석(Correlation Analysis)"
   ]
  },
  {
   "cell_type": "markdown",
   "metadata": {},
   "source": [
    "### 정의"
   ]
  },
  {
   "cell_type": "markdown",
   "metadata": {},
   "source": [
    ">* 두 수량형 변수 간에 선형적 관계의 강도와 방향을 분석하는 통계방법\n",
    ">* 한 변수가 증가할 때 다른 한 변수가 선형적인 증가 또는 감소하는지 나타낸것. 산점도 활용!"
   ]
  },
  {
   "cell_type": "markdown",
   "metadata": {},
   "source": [
    "### 이론"
   ]
  },
  {
   "cell_type": "markdown",
   "metadata": {},
   "source": [
    ">* 상관계수\n",
    ">>* 두 변수 간의 선형적인 관계 정도와 방향을 수치로 표시한 표준화된 지수\n",
    ">>* 공분산은 척도의 단위에 따라 달라짐 -> 상관계수 활용\n",
    ">* 상관계수의 특성\n",
    ">>* 상관계수의 범위 -1<=r<=1\n",
    ">>* 한 변수 또는 두 변수의 값에 일정한(0이아닌) 수를 더하거나 곱해도 상관계수는 변하지 않음\n",
    ">>* 변수 척도의 단위에 영향을 받지 않음\n",
    ">>* 단, 두 변수간의 연관된 정도를 나타낼 뿐 인과관계를 설명하는 것은 아님"
   ]
  },
  {
   "cell_type": "markdown",
   "metadata": {},
   "source": [
    "___"
   ]
  },
  {
   "cell_type": "markdown",
   "metadata": {},
   "source": [
    "### 실습1 - Correlation Analysis"
   ]
  },
  {
   "cell_type": "markdown",
   "metadata": {},
   "source": [
    "초코칩의 강도와 재료 반죽온도간에 관계를 분석하기 위한 상관분석 실시"
   ]
  },
  {
   "cell_type": "code",
   "execution_count": 2,
   "metadata": {},
   "outputs": [
    {
     "name": "stdout",
     "output_type": "stream",
     "text": [
      "Correlation Analysis\n",
      "corr: -0.718\n",
      "p: 0.000\n"
     ]
    }
   ],
   "source": [
    "df1 = [37.6, 38.6, 37.2, 36.4, 38.6, 39, 37.2, 36.1, 35.9, 37.1, 36.9, 37.5, 36.3, 38.1, 39, 36.9, 36.8, 37.6, 33, 33.5]\n",
    "df2 = [15, 14, 16, 17, 14, 17, 16, 15, 16, 14, 16, 18, 18, 13, 15, 17, 14, 16, 20, 21]\n",
    "\n",
    "## 상관분석 실행\n",
    "corr, pval = stats.pearsonr(df1,df2)\n",
    "print('Correlation Analysis')\n",
    "print('corr: %.3f' % corr)\n",
    "print('p: %.3f' % pval)"
   ]
  },
  {
   "cell_type": "markdown",
   "metadata": {},
   "source": [
    "corr 값이 -1과 차이가 많이 없으므로 음의 상관관계가 있다고 할 수 있다."
   ]
  },
  {
   "cell_type": "markdown",
   "metadata": {},
   "source": [
    "___"
   ]
  },
  {
   "cell_type": "markdown",
   "metadata": {},
   "source": [
    "## 회귀 분석(Regression)"
   ]
  },
  {
   "cell_type": "markdown",
   "metadata": {},
   "source": [
    "### 정의"
   ]
  },
  {
   "cell_type": "markdown",
   "metadata": {},
   "source": [
    ">* 회귀분석은 **독립변수**(요인, Predictor: X)와 **종속변수**(반응변수, Response: Y)의 **함수관계를 통계적으로 찾아보는 분석방법**으로 다양한 모형(Model)로 만들어질 수 있음."
   ]
  },
  {
   "cell_type": "markdown",
   "metadata": {},
   "source": [
    "### 이론"
   ]
  },
  {
   "cell_type": "markdown",
   "metadata": {},
   "source": [
    ">* 회귀모형\n",
    ">> 종속변수와 설명변수들 간의 관계를 수학적으로 표현한 식\n",
    ">>> Y = f(X)  \n",
    ">* 단순 선형 회귀(Simple linear regression)\n",
    ">> 독립변수가 한 개이고 종속변수가 한 개인 경우 함수관계가 직선방정식의 관계인 것을 가정\n",
    ">* 다중 선형 회귀(Multiple linear regression)\n",
    ">> 독립변수가 두 개 이상이고 종속변수가 한 개인 경우 변수관계가 선형방정식의 관계인 것을 가정\n",
    ">* 비 선형 회귀(Non-linear regression)\n",
    ">> 독립변수와 종속병수의 관계를 곡선으로 가정하여 분석"
   ]
  },
  {
   "cell_type": "markdown",
   "metadata": {},
   "source": [
    "---"
   ]
  },
  {
   "cell_type": "markdown",
   "metadata": {},
   "source": [
    "### 실습2 - Simple Liner Regression"
   ]
  },
  {
   "cell_type": "markdown",
   "metadata": {},
   "source": [
    "초코칩의 강도와 굽는 시간과의 인과관계를 분석하기 위한 회귀분석 실시"
   ]
  },
  {
   "cell_type": "code",
   "execution_count": 15,
   "metadata": {},
   "outputs": [
    {
     "data": {
      "text/html": [
       "<table class=\"simpletable\">\n",
       "<caption>OLS Regression Results</caption>\n",
       "<tr>\n",
       "  <th>Dep. Variable:</th>            <td>y</td>        <th>  R-squared:         </th> <td>   0.999</td> \n",
       "</tr>\n",
       "<tr>\n",
       "  <th>Model:</th>                   <td>OLS</td>       <th>  Adj. R-squared:    </th> <td>   0.999</td> \n",
       "</tr>\n",
       "<tr>\n",
       "  <th>Method:</th>             <td>Least Squares</td>  <th>  F-statistic:       </th> <td>2.054e+04</td>\n",
       "</tr>\n",
       "<tr>\n",
       "  <th>Date:</th>             <td>Sun, 27 Jan 2019</td> <th>  Prob (F-statistic):</th> <td>2.70e-30</td> \n",
       "</tr>\n",
       "<tr>\n",
       "  <th>Time:</th>                 <td>22:46:34</td>     <th>  Log-Likelihood:    </th> <td>  46.530</td> \n",
       "</tr>\n",
       "<tr>\n",
       "  <th>No. Observations:</th>      <td>    20</td>      <th>  AIC:               </th> <td>  -91.06</td> \n",
       "</tr>\n",
       "<tr>\n",
       "  <th>Df Residuals:</th>          <td>    19</td>      <th>  BIC:               </th> <td>  -90.06</td> \n",
       "</tr>\n",
       "<tr>\n",
       "  <th>Df Model:</th>              <td>     1</td>      <th>                     </th>     <td> </td>    \n",
       "</tr>\n",
       "<tr>\n",
       "  <th>Covariance Type:</th>      <td>nonrobust</td>    <th>                     </th>     <td> </td>    \n",
       "</tr>\n",
       "</table>\n",
       "<table class=\"simpletable\">\n",
       "<tr>\n",
       "   <td></td>     <th>coef</th>     <th>std err</th>      <th>t</th>      <th>P>|t|</th>  <th>[0.025</th>    <th>0.975]</th>  \n",
       "</tr>\n",
       "<tr>\n",
       "  <th>x1</th> <td>    0.0210</td> <td>    0.000</td> <td>  143.334</td> <td> 0.000</td> <td>    0.021</td> <td>    0.021</td>\n",
       "</tr>\n",
       "</table>\n",
       "<table class=\"simpletable\">\n",
       "<tr>\n",
       "  <th>Omnibus:</th>       <td> 2.655</td> <th>  Durbin-Watson:     </th> <td>   1.125</td>\n",
       "</tr>\n",
       "<tr>\n",
       "  <th>Prob(Omnibus):</th> <td> 0.265</td> <th>  Jarque-Bera (JB):  </th> <td>   1.169</td>\n",
       "</tr>\n",
       "<tr>\n",
       "  <th>Skew:</th>          <td> 0.047</td> <th>  Prob(JB):          </th> <td>   0.557</td>\n",
       "</tr>\n",
       "<tr>\n",
       "  <th>Kurtosis:</th>      <td> 1.819</td> <th>  Cond. No.          </th> <td>    1.00</td>\n",
       "</tr>\n",
       "</table><br/><br/>Warnings:<br/>[1] Standard Errors assume that the covariance matrix of the errors is correctly specified."
      ],
      "text/plain": [
       "<class 'statsmodels.iolib.summary.Summary'>\n",
       "\"\"\"\n",
       "                            OLS Regression Results                            \n",
       "==============================================================================\n",
       "Dep. Variable:                      y   R-squared:                       0.999\n",
       "Model:                            OLS   Adj. R-squared:                  0.999\n",
       "Method:                 Least Squares   F-statistic:                 2.054e+04\n",
       "Date:                Sun, 27 Jan 2019   Prob (F-statistic):           2.70e-30\n",
       "Time:                        22:46:34   Log-Likelihood:                 46.530\n",
       "No. Observations:                  20   AIC:                            -91.06\n",
       "Df Residuals:                      19   BIC:                            -90.06\n",
       "Df Model:                           1                                         \n",
       "Covariance Type:            nonrobust                                         \n",
       "==============================================================================\n",
       "                 coef    std err          t      P>|t|      [0.025      0.975]\n",
       "------------------------------------------------------------------------------\n",
       "x1             0.0210      0.000    143.334      0.000       0.021       0.021\n",
       "==============================================================================\n",
       "Omnibus:                        2.655   Durbin-Watson:                   1.125\n",
       "Prob(Omnibus):                  0.265   Jarque-Bera (JB):                1.169\n",
       "Skew:                           0.047   Prob(JB):                        0.557\n",
       "Kurtosis:                       1.819   Cond. No.                         1.00\n",
       "==============================================================================\n",
       "\n",
       "Warnings:\n",
       "[1] Standard Errors assume that the covariance matrix of the errors is correctly specified.\n",
       "\"\"\""
      ]
     },
     "execution_count": 15,
     "metadata": {},
     "output_type": "execute_result"
    }
   ],
   "source": [
    "strength = [37.6, 38.6, 37.2, 36.4, 38.6, 39, 37.2, 36.1, 35.9, 37.1, 36.9, 37.5, 36.3, 38.1, 39, 36.9, 36.8, 37.6, 33, 33.5]\n",
    "baking_time = [0.798922,0.84902,0.816163,0.758266,0.815894,\n",
    "       0.807477,0.809068,0.7664,0.742243,0.751118,\n",
    "       0.740629,0.751495,0.738863,0.827428,0.818172,\n",
    "       0.740939,0.757128,0.804695,0.695121,0.735377]\n",
    "## 상관분석 실행\n",
    "# simple linear regression 실행\n",
    "minutes = sm.add_constant(strength)\n",
    "model = sm.OLS(baking_time, strength)\n",
    "result = model.fit()\n",
    "result.summary()"
   ]
  },
  {
   "cell_type": "markdown",
   "metadata": {},
   "source": [
    "설명력이 99.9%이다."
   ]
  }
 ],
 "metadata": {
  "kernelspec": {
   "display_name": "Python 3",
   "language": "python",
   "name": "python3"
  },
  "language_info": {
   "codemirror_mode": {
    "name": "ipython",
    "version": 3
   },
   "file_extension": ".py",
   "mimetype": "text/x-python",
   "name": "python",
   "nbconvert_exporter": "python",
   "pygments_lexer": "ipython3",
   "version": "3.7.1"
  }
 },
 "nbformat": 4,
 "nbformat_minor": 2
}
